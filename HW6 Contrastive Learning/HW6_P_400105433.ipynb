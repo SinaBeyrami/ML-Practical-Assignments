{
 "cells": [
  {
   "cell_type": "markdown",
   "id": "be138f6f",
   "metadata": {
    "id": "be138f6f",
    "papermill": {
     "duration": 0.02181,
     "end_time": "2024-12-18T17:13:30.324107",
     "exception": false,
     "start_time": "2024-12-18T17:13:30.302297",
     "status": "completed"
    },
    "tags": []
   },
   "source": [
    "# Knowledge Distillation using Contrastive Learning\n"
   ]
  },
  {
   "cell_type": "markdown",
   "id": "376ecc79",
   "metadata": {
    "id": "376ecc79",
    "papermill": {
     "duration": 0.014958,
     "end_time": "2024-12-18T17:13:30.355437",
     "exception": false,
     "start_time": "2024-12-18T17:13:30.340479",
     "status": "completed"
    },
    "tags": []
   },
   "source": [
    " #### Student Name: Sina Beyrami\n",
    "\n",
    "\n",
    " #### Student ID: 400105433\n"
   ]
  },
  {
   "cell_type": "markdown",
   "id": "a1dba4d2",
   "metadata": {
    "id": "a1dba4d2",
    "papermill": {
     "duration": 0.014965,
     "end_time": "2024-12-18T17:13:30.385132",
     "exception": false,
     "start_time": "2024-12-18T17:13:30.370167",
     "status": "completed"
    },
    "tags": []
   },
   "source": [
    "In this exercise, we aim to distill knowledge from a large monolingual model into a smaller multilingual model using contrastive learning, specifically leveraging the CLIP model loss.\n",
    "\n",
    "We employ a small paired English-Persian dataset to define the loss pairs for our CLIP training. Given the substantial dataset size and batch size typically required for CLIP's loss computation (exceeding 19,000 samples per batch in standard tasks), which is impractical for our setup on Colab, we use a reduced batch size to focus on learning the procedure rather than achieving optimal performance, so we don't expect actual real-world results, only the training prcodure."
   ]
  },
  {
   "cell_type": "markdown",
   "id": "90e95f9e",
   "metadata": {
    "id": "90e95f9e",
    "papermill": {
     "duration": 0.014841,
     "end_time": "2024-12-18T17:13:30.414686",
     "exception": false,
     "start_time": "2024-12-18T17:13:30.399845",
     "status": "completed"
    },
    "tags": []
   },
   "source": [
    "CLIP (Contrastive Language-Image Pretraining) is a foundational model introduced by OpenAI to bridge the gap between text and image modalities. By aligning text descriptions and corresponding images in a shared embedding space, CLIP achieves remarkable zero-shot generalization capabilities across a wide range of tasks. It is trained on a massive dataset of image-text pairs using contrastive loss, ensuring that image embeddings align closely with their corresponding textual descriptions while remaining distinct from unrelated samples. This cross-modal alignment enables CLIP to perform tasks like image retrieval, captioning, and classification with minimal fine-tuning.\n",
    "\n",
    "The CLIP loss plays a crucial role in training the model by implementing a cross-entropy loss function in the contrastive learning framework. This loss operates on paired data, where each image-text pair is treated as a positive match, while all other pair combinations in the batch are considered negatives. The loss ensures that positive pairs receive high similarity scores, while negatives are penalized. However, achieving optimal results with CLIP loss often requires large batch sizes to provide sufficient negative samples, which can be computationally intensive. This makes training with limited resources challenging, necessitating adaptations such as smaller batch sizes or alternative strategies to approximate the training dynamics.\n",
    "\n",
    "\n",
    "Knowledge distillation is a technique used in machine learning to transfer knowledge from a large, complex model (the \"teacher\") to a smaller, more efficient model (the \"student\"). The primary goal of this process is to retain the performance and accuracy of the larger model while significantly reducing computational and memory requirements. This is achieved by training the student model to mimic the outputs of the teacher model, often through techniques such as matching soft probability distributions or intermediate representations. Knowledge distillation has become an essential approach in deploying machine learning models on resource-constrained devices such as smartphones and edge devices.\n",
    "\n",
    "In practice, knowledge distillation is not limited to replicating predictions; it can also involve transferring knowledge about internal features or learned representations.\n",
    "\n",
    "\n",
    "### Challenges in Resource-Constrained Settings\n",
    "CLIP’s reliance on large-scale datasets and batch sizes makes direct implementation computationally demanding. This exercise demonstrates an adaptation of the process, reducing batch size and dataset size to provide a practical understanding of the training procedure. While this approach sacrifices performance and real-world applicability, it highlights the mechanics of using CLIP loss for contrastive learning and lays the foundation for extending the process to larger datasets and batch sizes in future applications.\n",
    "\n",
    "\n",
    "\n",
    "### About CLIP and Contrastive Learning\n",
    "CLIP, developed by OpenAI, bridges the gap between text and image modalities by aligning corresponding embeddings in a shared space. It leverages contrastive loss to train on image-text pairs, ensuring that embeddings of positive pairs (e.g., an image and its corresponding caption) are highly similar, while embeddings of unrelated pairs remain distinct. The cross-entropy-based contrastive loss evaluates the similarity between positive pairs while penalizing mismatches for all other combinations within a batch.\n",
    "\n",
    "### Key aspects of CLIP loss include:\n",
    "\n",
    "- Positive Pairing: Encourages high similarity scores for embeddings of paired text and image data.\n",
    "- Negative Sampling: Penalizes mismatched pairs within the batch, requiring large batch sizes for effective performance due to the need for a diverse set of negative samples.\n",
    "\n"
   ]
  },
  {
   "cell_type": "markdown",
   "id": "ba7c7274",
   "metadata": {
    "id": "ba7c7274",
    "papermill": {
     "duration": 0.01457,
     "end_time": "2024-12-18T17:13:30.444777",
     "exception": false,
     "start_time": "2024-12-18T17:13:30.430207",
     "status": "completed"
    },
    "tags": []
   },
   "source": [
    "## !!! Note !!! You Should Answer to all the TODOs\n",
    "\n",
    "Also feel free to ask your questions on Quera."
   ]
  },
  {
   "cell_type": "markdown",
   "id": "e7da461e",
   "metadata": {
    "id": "e7da461e",
    "papermill": {
     "duration": 0.014905,
     "end_time": "2024-12-18T17:13:30.474341",
     "exception": false,
     "start_time": "2024-12-18T17:13:30.459436",
     "status": "completed"
    },
    "tags": []
   },
   "source": [
    "\n",
    "\n",
    "## Setup\n"
   ]
  },
  {
   "cell_type": "markdown",
   "id": "06e48967",
   "metadata": {
    "id": "06e48967",
    "papermill": {
     "duration": 0.014958,
     "end_time": "2024-12-18T17:13:30.503840",
     "exception": false,
     "start_time": "2024-12-18T17:13:30.488882",
     "status": "completed"
    },
    "tags": []
   },
   "source": [
    "We install Required Packages."
   ]
  },
  {
   "cell_type": "code",
   "execution_count": 1,
   "id": "69339c7a",
   "metadata": {
    "colab": {
     "base_uri": "https://localhost:8080/"
    },
    "execution": {
     "iopub.execute_input": "2025-01-20T18:40:06.606888Z",
     "iopub.status.busy": "2025-01-20T18:40:06.606484Z",
     "iopub.status.idle": "2025-01-20T18:40:19.404195Z",
     "shell.execute_reply": "2025-01-20T18:40:19.402958Z",
     "shell.execute_reply.started": "2025-01-20T18:40:06.606852Z"
    },
    "id": "69339c7a",
    "outputId": "2292f461-0b42-44d6-aed8-f048d7ecf151",
    "papermill": {
     "duration": 20.264414,
     "end_time": "2024-12-18T17:13:50.783672",
     "exception": false,
     "start_time": "2024-12-18T17:13:30.519258",
     "status": "completed"
    },
    "tags": [],
    "trusted": true
   },
   "outputs": [
    {
     "name": "stdout",
     "output_type": "stream",
     "text": [
      "Downloading...\n",
      "From: https://drive.google.com/uc?id=1MVx_gIkX4tQ8ya2OsHt0mqLmw1Pf2CcK\n",
      "To: /kaggle/working/train.csv\n",
      "100%|███████████████████████████████████████| 7.35M/7.35M [00:00<00:00, 206MB/s]\n",
      "Downloading...\n",
      "From: https://drive.google.com/uc?id=1Co-dwJfWw-C_ral0hoAS_X94wN-_vbCj\n",
      "To: /kaggle/working/val.csv\n",
      "100%|███████████████████████████████████████| 2.45M/2.45M [00:00<00:00, 190MB/s]\n"
     ]
    }
   ],
   "source": [
    "!pip install -q gdown\n",
    "!gdown \"https://drive.google.com/uc?id=1MVx_gIkX4tQ8ya2OsHt0mqLmw1Pf2CcK\"\n",
    "!gdown \"https://drive.google.com/uc?id=1Co-dwJfWw-C_ral0hoAS_X94wN-_vbCj\""
   ]
  },
  {
   "cell_type": "code",
   "execution_count": 2,
   "id": "70d93c5e",
   "metadata": {
    "colab": {
     "base_uri": "https://localhost:8080/"
    },
    "execution": {
     "iopub.execute_input": "2025-01-20T18:40:19.405979Z",
     "iopub.status.busy": "2025-01-20T18:40:19.405703Z",
     "iopub.status.idle": "2025-01-20T18:40:42.058807Z",
     "shell.execute_reply": "2025-01-20T18:40:42.058033Z",
     "shell.execute_reply.started": "2025-01-20T18:40:19.405957Z"
    },
    "id": "70d93c5e",
    "outputId": "3d6b8536-8778-466b-bf0a-d6fa029fe954",
    "papermill": {
     "duration": 24.516699,
     "end_time": "2024-12-18T17:14:15.316512",
     "exception": false,
     "start_time": "2024-12-18T17:13:50.799813",
     "status": "completed"
    },
    "tags": [],
    "trusted": true
   },
   "outputs": [
    {
     "name": "stdout",
     "output_type": "stream",
     "text": [
      "Requirement already satisfied: setuptools in /usr/local/lib/python3.10/dist-packages (75.1.0)\n"
     ]
    },
    {
     "name": "stderr",
     "output_type": "stream",
     "text": [
      "<ipython-input-2-16d6a20cb021>:4: DeprecationWarning: pkg_resources is deprecated as an API. See https://setuptools.pypa.io/en/latest/pkg_resources.html\n",
      "  import pkg_resources\n"
     ]
    },
    {
     "name": "stdout",
     "output_type": "stream",
     "text": [
      "open_clip-torch is NOT installed\n",
      "open_clip-torch was successfully installed.\n",
      "pandas (2.2.2) is installed\n",
      "numpy (1.26.4) is installed\n",
      "matplotlib (3.7.5) is installed\n",
      "transformers (4.47.0) is installed\n",
      "tqdm (4.67.1) is installed\n",
      "torch (2.5.1+cu121) is installed\n",
      "datasets (3.2.0) is installed\n"
     ]
    }
   ],
   "source": [
    "!pip install setuptools\n",
    "import sys\n",
    "import subprocess\n",
    "import pkg_resources\n",
    "\n",
    "def installPackages(packages):\n",
    "    def installPackage(package):\n",
    "        subprocess.check_call([sys.executable, \"-m\", \"pip\", \"install\", package])\n",
    "\n",
    "    for package in REQUIRED_PACKAGES:\n",
    "        try:\n",
    "            dist = pkg_resources.get_distribution(package)\n",
    "            print('{} ({}) is installed'.format(dist.key, dist.version))\n",
    "        except pkg_resources.DistributionNotFound:\n",
    "            print('{} is NOT installed'.format(package))\n",
    "            installPackage(package)\n",
    "            print('{} was successfully installed.'.format(package))\n",
    "\n",
    "REQUIRED_PACKAGES = [\n",
    "    'open_clip-torch',\n",
    "    'pandas',\n",
    "    'numpy',\n",
    "    'matplotlib',\n",
    "    'transformers',\n",
    "    'tqdm',\n",
    "    'torch',\n",
    "    'datasets',\n",
    "]\n",
    "\n",
    "installPackages(REQUIRED_PACKAGES)\n",
    "\n",
    "import gc\n",
    "import itertools\n",
    "import re\n",
    "import math\n",
    "from collections import Counter\n",
    "import random\n",
    "import string\n",
    "import uuid\n",
    "\n",
    "import numpy as np\n",
    "import pandas as pd\n",
    "import matplotlib.pyplot as plt\n",
    "\n",
    "import open_clip\n",
    "from open_clip import model as TE\n",
    "\n",
    "import torch\n",
    "import torch.nn as nn\n",
    "import torch.nn.functional as F\n",
    "from torch.utils.data import DataLoader\n",
    "from torch.optim.lr_scheduler import ReduceLROnPlateau\n",
    "\n",
    "from datasets import load_dataset, Dataset, Features, Array2D, Value\n",
    "from transformers import AutoConfig, AutoTokenizer, AutoModel, TFAutoModel\n",
    "\n",
    "from tqdm import tqdm"
   ]
  },
  {
   "cell_type": "markdown",
   "id": "f4c39c86",
   "metadata": {
    "id": "f4c39c86",
    "papermill": {
     "duration": 0.01563,
     "end_time": "2024-12-18T17:14:15.349709",
     "exception": false,
     "start_time": "2024-12-18T17:14:15.334079",
     "status": "completed"
    },
    "tags": []
   },
   "source": [
    "Beware to use cuda for training!"
   ]
  },
  {
   "cell_type": "code",
   "execution_count": 3,
   "id": "fd519039",
   "metadata": {
    "execution": {
     "iopub.execute_input": "2025-01-20T18:40:42.061298Z",
     "iopub.status.busy": "2025-01-20T18:40:42.060815Z",
     "iopub.status.idle": "2025-01-20T18:40:42.065719Z",
     "shell.execute_reply": "2025-01-20T18:40:42.064766Z",
     "shell.execute_reply.started": "2025-01-20T18:40:42.061272Z"
    },
    "id": "fd519039",
    "papermill": {
     "duration": 0.024557,
     "end_time": "2024-12-18T17:14:15.389794",
     "exception": false,
     "start_time": "2024-12-18T17:14:15.365237",
     "status": "completed"
    },
    "tags": [],
    "trusted": true
   },
   "outputs": [],
   "source": [
    "def getDevice(which=\"cuda:0\", yellAtCpu=True):\n",
    "    if torch.cuda.is_available():\n",
    "        device = torch.device(which)\n",
    "    else:\n",
    "        if yellAtCpu:\n",
    "             raise Exception(\"I won't run on CPU!\")\n",
    "        device = torch.device(\"cpu\")\n",
    "\n",
    "    return device"
   ]
  },
  {
   "cell_type": "markdown",
   "id": "67a2eff9",
   "metadata": {
    "id": "67a2eff9",
    "papermill": {
     "duration": 0.016217,
     "end_time": "2024-12-18T17:14:15.422727",
     "exception": false,
     "start_time": "2024-12-18T17:14:15.406510",
     "status": "completed"
    },
    "tags": []
   },
   "source": [
    "#### Configs"
   ]
  },
  {
   "cell_type": "markdown",
   "id": "75c787a8",
   "metadata": {
    "id": "75c787a8",
    "papermill": {
     "duration": 0.016978,
     "end_time": "2024-12-18T17:14:15.455652",
     "exception": false,
     "start_time": "2024-12-18T17:14:15.438674",
     "status": "completed"
    },
    "tags": []
   },
   "source": [
    "These are our training configurations, read them!"
   ]
  },
  {
   "cell_type": "code",
   "execution_count": 4,
   "id": "802d832e",
   "metadata": {
    "execution": {
     "iopub.execute_input": "2025-01-20T18:40:42.067714Z",
     "iopub.status.busy": "2025-01-20T18:40:42.067357Z",
     "iopub.status.idle": "2025-01-20T18:40:42.195894Z",
     "shell.execute_reply": "2025-01-20T18:40:42.194850Z",
     "shell.execute_reply.started": "2025-01-20T18:40:42.067681Z"
    },
    "id": "802d832e",
    "papermill": {
     "duration": 0.11541,
     "end_time": "2024-12-18T17:14:15.591685",
     "exception": false,
     "start_time": "2024-12-18T17:14:15.476275",
     "status": "completed"
    },
    "tags": [],
    "trusted": true
   },
   "outputs": [],
   "source": [
    "def Configs():\n",
    "    return {\n",
    "        \"device\": getDevice(),\n",
    "        \"reference_checkPoint\" : \"EVA02-E-14-plus\",                # teacher\n",
    "        \"candidate_checkpoint\" : \"setu4993/smaller-LaBSE\",         # student\n",
    "        \"train_path\" : \"train.csv\",\n",
    "        \"val_path\" : \"val.csv\",\n",
    "        \"save_path\" : \"./best-model.pth\",\n",
    "        \"english\" : \"en\",                                         # dont mind them\n",
    "        \"persian\" : \"fa\",\n",
    "        \"batch_size\": 128,                                        # should have been really big, but we can't here\n",
    "        \"lr\": 1e-4,\n",
    "        \"epochs\": 5,                                               # 40 minute per epoch\n",
    "        \"tok_percentile\" : 99,\n",
    "        \"temperature\": 20,\n",
    "        \"dropout\": 0.05,\n",
    "        \"unfreezed_layers\" : 10,\n",
    "        \"weight_decay\": 1e-5,\n",
    "        \"patience\": 1,\n",
    "        \"factor\" : 0.8,\n",
    "        \"reference_embedding\": 1024,                               # DONT MIND THESE\n",
    "        \"reference_context_length\" : 77,\n",
    "        \"reference_vocab_size\" : 49408,\n",
    "        \"reference_heads\" : 20,\n",
    "        \"reference_width\" : 1280,\n",
    "        \"reference_layers\" : 32,\n",
    "        \"cls_token_index\" : 0,\n",
    "        \"project_to\" : 1024,\n",
    "    }\n",
    "\n",
    "configs = Configs()"
   ]
  },
  {
   "cell_type": "markdown",
   "id": "7b95e360",
   "metadata": {
    "id": "7b95e360",
    "papermill": {
     "duration": 0.015595,
     "end_time": "2024-12-18T17:14:15.623791",
     "exception": false,
     "start_time": "2024-12-18T17:14:15.608196",
     "status": "completed"
    },
    "tags": []
   },
   "source": [
    "## Question Box\n",
    "### TODO (10pts)\n",
    "\n",
    "\n",
    "---\n",
    "\n",
    "\n",
    "1- Why do we use temperature in training using contrastive learning?\n",
    "<br/>\n",
    "**Answer:**\n",
    "<br/>\n",
    "   In contrastive learning, the temperature hyperparameter scales (sharpens or smooths) the logits before the softmax in the cross-entropy loss. A lower temperature makes the softmax distribution \"sharper,\" emphasizing differences between positive and negative pairs more strongly. A higher temperature makes the distribution \"smoother,\" reducing extreme peaks in the similarity scores. Tuning the temperature helps stabilize training and balances how strictly the model separates positive pairs from negative pairs.\n",
    "<br/>\n",
    "<br/>\n",
    "\n",
    "\n",
    "---\n",
    "\n",
    "\n",
    "2- Why do we need to freeze some layers of a model? mention 2 reasons.\n",
    "<br/>\n",
    "**Answer:**\n",
    "<br/>\n",
    "   - **Prevent Catastrophic Forgetting:** Freezing lower (or most) layers preserves the knowledge already learned during pretraining, so the model does not overwrite essential, generalizable features when fine-tuning on a smaller dataset.  \n",
    "   - **Reduce Computational Cost:** Freezing layers means fewer parameters need gradients computed. This lowers GPU memory usage and speeds up training, which is often crucial in resource-constrained settings.\n",
    "<br/>\n",
    "<br/>\n",
    "\n",
    "\n",
    "---\n",
    "\n",
    "\n",
    "3- Read the whole code and find out what tok_percentile is used for.\n",
    "<br/>\n",
    "**Answer:**\n",
    "<br/>\n",
    "   The `tok_percentile` value (default 99) is used to determine a length cutoff (i.e., the **99th percentile of sequence lengths**) in the dataset. We calculate how many tokens are needed to cover 99% of the sequence lengths, then use that for `max_length` in tokenization. This truncation strategy helps reduce excessive sequence lengths that might slow training or cause memory issues.\n",
    "<br/>\n",
    "<br/>\n",
    "\n",
    "\n",
    "---\n",
    "\n"
   ]
  },
  {
   "cell_type": "markdown",
   "id": "6a9cfd8b",
   "metadata": {
    "id": "6a9cfd8b",
    "papermill": {
     "duration": 0.015679,
     "end_time": "2024-12-18T17:14:15.655199",
     "exception": false,
     "start_time": "2024-12-18T17:14:15.639520",
     "status": "completed"
    },
    "tags": []
   },
   "source": [
    "## Data and Preprocessing"
   ]
  },
  {
   "cell_type": "code",
   "execution_count": 5,
   "id": "5d84bc5a",
   "metadata": {
    "execution": {
     "iopub.execute_input": "2025-01-20T18:40:42.197362Z",
     "iopub.status.busy": "2025-01-20T18:40:42.197000Z",
     "iopub.status.idle": "2025-01-20T18:40:42.220266Z",
     "shell.execute_reply": "2025-01-20T18:40:42.219435Z",
     "shell.execute_reply.started": "2025-01-20T18:40:42.197328Z"
    },
    "id": "5d84bc5a",
    "papermill": {
     "duration": 0.031369,
     "end_time": "2024-12-18T17:14:15.702439",
     "exception": false,
     "start_time": "2024-12-18T17:14:15.671070",
     "status": "completed"
    },
    "tags": [],
    "trusted": true
   },
   "outputs": [],
   "source": [
    "def getDatasetsCSV(prevEnCol, prevFaCol, newEnCol, newFaCol, trainPath, valPath):\n",
    "    df = pd.read_csv(trainPath)\n",
    "    dfVal = pd.read_csv(valPath)\n",
    "\n",
    "    if df.empty:\n",
    "        raise ValueError(\"Training dataset is empty or missing\")\n",
    "\n",
    "    if dfVal.empty:\n",
    "        raise ValueError(\"Validation dataset is empty or missing\")\n",
    "\n",
    "    dfTraind = df.loc[:, [prevEnCol, prevFaCol]].rename(columns={prevEnCol: newEnCol, prevFaCol: newFaCol})\n",
    "    dfVal = dfVal.loc[:, [prevEnCol, prevFaCol]].rename(columns={prevEnCol: newEnCol, prevFaCol: newFaCol})\n",
    "\n",
    "    datasetTrain = Dataset.from_pandas(dfTraind)\n",
    "    datasetVal = Dataset.from_pandas(dfVal)\n",
    "\n",
    "    return datasetTrain, datasetVal\n",
    "\n",
    "def getDsByLang(persianCol, englishCol):\n",
    "    def getPersianDs(dataset):\n",
    "        return dataset[persianCol]\n",
    "\n",
    "    def getEnglishDs(dataset):\n",
    "        return dataset[englishCol]\n",
    "\n",
    "    getPersianDs.label = persianCol\n",
    "    getEnglishDs.label = englishCol\n",
    "\n",
    "    return getPersianDs, getEnglishDs\n",
    "\n",
    "class Normalizer():\n",
    "    def __init__(self):\n",
    "        translation_src = ' ىكي“”0123456789%إأآئيؤةك'\n",
    "        translation_dst = ' یکی\"\"۰۱۲۳۴۵۶۷۸۹٪اااییوهک'\n",
    "\n",
    "        self.translations = str.maketrans(translation_src, translation_dst)\n",
    "\n",
    "        patterns = [\n",
    "            (r' {2,}', ' '),  # remove extra spaces\n",
    "            (r'\\n+', ' '),  # replace newlines with space\n",
    "            (r'\\u200c+', ' '),  # replace ZWNJs with space\n",
    "            (r'[ـ\\r]', '')  # remove keshide, carriage returns\n",
    "        ]\n",
    "\n",
    "        self.character_refinement_patterns = [(re.compile(pattern), repl) for pattern, repl in patterns]\n",
    "\n",
    "    def normalizeFa(self, text):\n",
    "        text = text.lower().translate(self.translations)\n",
    "        text = re.sub('[^a-zA-Z۰-۹آ-ی ]', ' ', text)\n",
    "\n",
    "        for pattern, repl in self.character_refinement_patterns:\n",
    "            text = pattern.sub(repl, text)\n",
    "        return text.strip()\n",
    "\n",
    "    def normalizeEn(self, text):\n",
    "        text = text.lower()\n",
    "        text = text.translate(str.maketrans('', '', string.punctuation)) # Remove punctuation\n",
    "        return text\n",
    "\n",
    "def applyPreprocess(datasets, configs=configs, Normalizer=Normalizer):\n",
    "    def applyRowNormalization(example):\n",
    "        example[configs['persian']] = normalizer.normalizeFa(example[configs['persian']])\n",
    "        example[configs['english']] = normalizer.normalizeEn(example[configs['english']])\n",
    "\n",
    "        return example\n",
    "\n",
    "    normalizer = Normalizer()\n",
    "\n",
    "    newDatasets = []\n",
    "    for dataset in datasets:\n",
    "        newDatasets.append(dataset.map(applyRowNormalization))\n",
    "\n",
    "    return newDatasets\n",
    "\n",
    "def preprocessSentence(text, lang, mostFreq=None, Normalizer=Normalizer, configs=configs):\n",
    "    normalizer = Normalizer()\n",
    "    if lang == configs['persian']:\n",
    "        normalized = normalizer.normalizeFa(text)\n",
    "    elif lang == configs['english']:\n",
    "        normalized = normalizer.normalizeEn(text)\n",
    "    else:\n",
    "        raise ValueError(\"Not supported lang\")\n",
    "\n",
    "    return normalized"
   ]
  },
  {
   "cell_type": "markdown",
   "id": "86190e87",
   "metadata": {
    "id": "86190e87",
    "papermill": {
     "duration": 0.016557,
     "end_time": "2024-12-18T17:14:15.735930",
     "exception": false,
     "start_time": "2024-12-18T17:14:15.719373",
     "status": "completed"
    },
    "tags": []
   },
   "source": [
    "## Utils\n",
    "### TODO: Complete these Utility functions (10pts)"
   ]
  },
  {
   "cell_type": "code",
   "execution_count": 6,
   "id": "7b0c992a",
   "metadata": {
    "execution": {
     "iopub.execute_input": "2025-01-20T18:40:42.221618Z",
     "iopub.status.busy": "2025-01-20T18:40:42.221254Z",
     "iopub.status.idle": "2025-01-20T18:40:42.240545Z",
     "shell.execute_reply": "2025-01-20T18:40:42.239711Z",
     "shell.execute_reply.started": "2025-01-20T18:40:42.221581Z"
    },
    "id": "7b0c992a",
    "papermill": {
     "duration": 0.025354,
     "end_time": "2024-12-18T17:14:15.778667",
     "exception": false,
     "start_time": "2024-12-18T17:14:15.753313",
     "status": "completed"
    },
    "tags": [],
    "trusted": true
   },
   "outputs": [],
   "source": [
    "def getClsToken(tensor, configs=configs):\n",
    "    \"\"\"\n",
    "    Extracts the classification (CLS) token from the input tensor.\n",
    "\n",
    "    Parameters:\n",
    "        tensor (torch.Tensor): The input tensor of shape (batch_size, seq_length, hidden_dim).\n",
    "        configs (dict): A dictionary containing configuration settings. Must include the key \"cls_token_index\"\n",
    "                        which specifies the index of the CLS token in the sequence dimension.\n",
    "\n",
    "    Returns:\n",
    "        torch.Tensor: A tensor containing the CLS token for each example in the batch,\n",
    "                      of shape (batch_size, 1, hidden_dim).\n",
    "    \"\"\"\n",
    "    clsId = configs[\"cls_token_index\"]\n",
    "    return tensor[:, clsId, :].unsqueeze(1)\n",
    "\n",
    "def flattenMiddle(tensor):\n",
    "    \"\"\"\n",
    "    Flattens the middle dimension (sequence length) of the input tensor, removing it.\n",
    "\n",
    "    Parameters:\n",
    "        tensor (torch.Tensor): The input tensor of shape (batch_size, seq_length, hidden_dim).\n",
    "\n",
    "    Returns:\n",
    "        torch.Tensor: A tensor of shape (batch_size, hidden_dim) with the middle dimension flattened out.\n",
    "    \"\"\"\n",
    "    return tensor.squeeze(1)\n",
    "\n",
    "def freezeModel(model):\n",
    "    \"\"\"\n",
    "    Freeze all parameters of a given model.\n",
    "    Parameters:\n",
    "        model (torch.nn.Module): The PyTorch model whose parameters are to be frozen.\n",
    "    \"\"\"\n",
    "    for param in model.parameters():\n",
    "        param.requires_grad = False\n",
    "    return model"
   ]
  },
  {
   "cell_type": "code",
   "execution_count": 7,
   "id": "2489bf4f",
   "metadata": {
    "execution": {
     "iopub.execute_input": "2025-01-20T18:40:42.242086Z",
     "iopub.status.busy": "2025-01-20T18:40:42.241736Z",
     "iopub.status.idle": "2025-01-20T18:40:42.259548Z",
     "shell.execute_reply": "2025-01-20T18:40:42.258613Z",
     "shell.execute_reply.started": "2025-01-20T18:40:42.242061Z"
    },
    "id": "2489bf4f",
    "papermill": {
     "duration": 0.026945,
     "end_time": "2024-12-18T17:14:15.822548",
     "exception": false,
     "start_time": "2024-12-18T17:14:15.795603",
     "status": "completed"
    },
    "tags": [],
    "trusted": true
   },
   "outputs": [],
   "source": [
    "def plotMetric(metricData, metricName):\n",
    "    if metricName == None or metricName not in metricData:\n",
    "        raise ValueError(\"No such metric\")\n",
    "    metricData[metricName].plot()\n",
    "    plt.xlabel('Epochs')\n",
    "    plt.ylabel(metricName)\n",
    "    plt.title(f'Plot of {metricName}')\n",
    "    plt.show()\n",
    "\n",
    "threshold=1\n",
    "def calcPrcentileTokens(dataset, tokenizer, field, percentile=configs[\"tok_percentile\"], thershold=1):\n",
    "    \"\"\"\n",
    "    Calculate the token length at a specific percentile for a dataset field.\n",
    "\n",
    "    This function tokenizes the data in the specified field of the dataset and calculates\n",
    "    the token length at the given percentile. An optional threshold can be added to the result.\n",
    "\n",
    "    Parameters:\n",
    "        dataset (dict or Dataset): The dataset containing the data to be tokenized.\n",
    "        tokenizer (callable): A tokenizer function or object with a callable interface\n",
    "                              (e.g., HuggingFace tokenizer).\n",
    "        field (str): The field in the dataset whose token lengths are to be calculated.\n",
    "        percentile (float, optional): The percentile to compute (default is the value in\n",
    "                                       `configs[\"tok_percentile\"]`).\n",
    "        thershold (int, optional): A value to add to the calculated percentile token length\n",
    "                                    (default is 1).\n",
    "\n",
    "    Returns:\n",
    "        int: The token length at the specified percentile plus the threshold.\n",
    "\n",
    "    Raises:\n",
    "        KeyError: If the specified field does not exist in the dataset.\n",
    "        TypeError: If `tokenized` is not in the expected format.\n",
    "\n",
    "    Example:\n",
    "        dataset = {\"text\": [\"This is a sentence.\", \"Another example sentence.\"]}\n",
    "        tokenizer = lambda x: {\"input_ids\": [[1, 2, 3, 4], [5, 6, 7, 8, 9]]}\n",
    "        field = \"text\"\n",
    "        calcPrcentileTokens(dataset, tokenizer, field, percentile=95, thershold=2)\n",
    "\n",
    "    Notes:\n",
    "        - If the tokenized output is a dictionary (e.g., HuggingFace tokenizers), it assumes\n",
    "          that `input_ids` contains the token sequences.\n",
    "        - If the tokenized output is a tensor, nonzero token counts are used to determine lengths.\n",
    "    \"\"\"\n",
    "    tokenized = tokenizer(dataset[field])\n",
    "    if not isinstance(tokenized, torch.Tensor):\n",
    "        tokenLengths = list(map(lambda sen: len(sen), tokenized['input_ids']))\n",
    "    else:\n",
    "        tokenLengths = [tensor.nonzero().size(0) for tensor in tokenized]\n",
    "    percentileLength = np.percentile(tokenLengths, percentile)\n",
    "    return int(percentileLength) + 1\n",
    "\n",
    "# Dont Touch This\n",
    "def TextEncoder(configs):\n",
    "    newModel = TE.TextTransformer(context_length=configs['reference_context_length'],\n",
    "                                 vocab_size=configs[\"reference_vocab_size\"],\n",
    "                                 width=configs[\"reference_width\"],\n",
    "                                 layers=configs[\"reference_layers\"],\n",
    "                                 heads=configs[\"reference_heads\"],\n",
    "                                 output_dim=configs[\"reference_embedding\"])\n",
    "    return newModel\n"
   ]
  },
  {
   "cell_type": "markdown",
   "id": "ee90637f",
   "metadata": {
    "id": "ee90637f",
    "papermill": {
     "duration": 0.016248,
     "end_time": "2024-12-18T17:14:15.854449",
     "exception": false,
     "start_time": "2024-12-18T17:14:15.838201",
     "status": "completed"
    },
    "tags": []
   },
   "source": [
    "## Models"
   ]
  },
  {
   "cell_type": "markdown",
   "id": "7f75d675",
   "metadata": {
    "id": "7f75d675",
    "papermill": {
     "duration": 0.016386,
     "end_time": "2024-12-18T17:14:15.886639",
     "exception": false,
     "start_time": "2024-12-18T17:14:15.870253",
     "status": "completed"
    },
    "tags": []
   },
   "source": [
    "### TODO: Compelete the Swish and LinearProjection functions based on the pydoc provided (15pts)"
   ]
  },
  {
   "cell_type": "code",
   "execution_count": 8,
   "id": "83acbdd5",
   "metadata": {
    "execution": {
     "iopub.execute_input": "2025-01-20T18:40:42.262207Z",
     "iopub.status.busy": "2025-01-20T18:40:42.261885Z",
     "iopub.status.idle": "2025-01-20T18:40:42.280227Z",
     "shell.execute_reply": "2025-01-20T18:40:42.279369Z",
     "shell.execute_reply.started": "2025-01-20T18:40:42.262181Z"
    },
    "id": "83acbdd5",
    "papermill": {
     "duration": 0.02619,
     "end_time": "2024-12-18T17:14:15.929057",
     "exception": false,
     "start_time": "2024-12-18T17:14:15.902867",
     "status": "completed"
    },
    "tags": [],
    "trusted": true
   },
   "outputs": [],
   "source": [
    "class Swish(nn.Module):\n",
    "    \"\"\"\n",
    "    Implements the Swish activation function.\n",
    "    Parameters:\n",
    "        beta (float, optional): The scaling parameter for the input x in the sigmoid\n",
    "                                function. Default is 1.0.\n",
    "    \"\"\"\n",
    "    def __init__(self, beta=1.0):\n",
    "        super().__init__()\n",
    "        self.beta = beta\n",
    "\n",
    "    def forward(self, x):\n",
    "        return x * torch.sigmoid(self.beta * x)\n",
    "\n",
    "\n",
    "class LinearProjection(nn.Module):\n",
    "    \"\"\"\n",
    "    A projection layer with Swish activation, batch normalization, dropout, and residual connections.\n",
    "\n",
    "    This module takes an input tensor, applies a series of transformations, and produces an\n",
    "    output tensor of the same shape, making use of residual connections and layer normalization.\n",
    "\n",
    "    Parameters:\n",
    "        embedding_dim (int): The dimensionality of the input embeddings.\n",
    "        projection_dim (int, optional): The dimensionality of the projection. Default is\n",
    "                                        `configs['project_to']`.\n",
    "        dropout (float, optional): The dropout rate. Default is `configs['dropout']`.\n",
    "\n",
    "    Layers:\n",
    "        - projection: Linear layer that projects the input to the specified `projection_dim`.\n",
    "        - swish: Swish activation function with a fixed beta of 1.0.\n",
    "        - batch_norm: Batch normalization applied after projection.\n",
    "        - fc: Fully connected layer for further transformations.\n",
    "        - dropout: Dropout applied to the output of the fully connected layer.\n",
    "        - layer_norm: Layer normalization applied after residual connection.\n",
    "\n",
    "    Methods:\n",
    "        forward(x):\n",
    "            Applies the projection, activation, normalization, dropout, residual connection,\n",
    "            and layer normalization to the input tensor.\n",
    "\n",
    "    Example:\n",
    "        model = LinearProjection(embedding_dim=128, projection_dim=64, dropout=0.1)\n",
    "        output = model(input_tensor)\n",
    "    \"\"\"\n",
    "    def __init__(self, embedding_dim, projection_dim=configs['project_to'], dropout=configs['dropout']):\n",
    "        super(LinearProjection, self).__init__()\n",
    "        self.projection = nn.Linear(embedding_dim, projection_dim)\n",
    "        self.swish = Swish(beta=1.0)\n",
    "        self.batch_norm = nn.BatchNorm1d(projection_dim)\n",
    "        self.fc = nn.Linear(projection_dim, projection_dim)\n",
    "        self.dropout = nn.Dropout(dropout)\n",
    "        self.layer_norm = nn.LayerNorm(projection_dim)\n",
    "\n",
    "    def forward(self, x):\n",
    "        proj = self.projection(x)\n",
    "        proj = self.swish(proj)\n",
    "        proj = self.batch_norm(proj)\n",
    "        out = self.fc(proj)\n",
    "        out = self.dropout(out)\n",
    "        out = out + proj\n",
    "        out = self.layer_norm(out)\n",
    "        return out"
   ]
  },
  {
   "cell_type": "code",
   "execution_count": 9,
   "id": "ece3abb5",
   "metadata": {
    "execution": {
     "iopub.execute_input": "2025-01-20T18:40:42.281647Z",
     "iopub.status.busy": "2025-01-20T18:40:42.281355Z",
     "iopub.status.idle": "2025-01-20T18:40:42.300106Z",
     "shell.execute_reply": "2025-01-20T18:40:42.299206Z",
     "shell.execute_reply.started": "2025-01-20T18:40:42.281609Z"
    },
    "id": "ece3abb5",
    "papermill": {
     "duration": 0.024135,
     "end_time": "2024-12-18T17:14:15.969481",
     "exception": false,
     "start_time": "2024-12-18T17:14:15.945346",
     "status": "completed"
    },
    "tags": [],
    "trusted": true
   },
   "outputs": [],
   "source": [
    "class CandidateModel(nn.Module):\n",
    "    def __init__(self, model_name, unfreezeLayers, trainable=True):\n",
    "        super().__init__()\n",
    "        self.candidateProjection = LinearProjection(embedding_dim=configs[\"candidate_embedding\"])\n",
    "        self.configs = AutoConfig.from_pretrained(model_name)\n",
    "        self.tokenizer = AutoTokenizer.from_pretrained(model_name)\n",
    "        self.model = AutoModel.from_pretrained(model_name)\n",
    "        self.batchNorm = nn.BatchNorm1d(1, configs[\"candidate_embedding\"])\n",
    "        self.targetTokenIdx = configs[\"cls_token_index\"]\n",
    "\n",
    "    def forward(self, input_ids, attention_mask):\n",
    "        output = self.model(input_ids=input_ids, attention_mask=attention_mask)\n",
    "        clsEmbed = getClsToken(output.last_hidden_state)\n",
    "        clsEmbed = self.batchNorm(clsEmbed)\n",
    "        clsEmbed = self.candidateProjection(flattenMiddle(clsEmbed))\n",
    "        return clsEmbed"
   ]
  },
  {
   "cell_type": "markdown",
   "id": "4e0dd33e",
   "metadata": {
    "id": "4e0dd33e",
    "papermill": {
     "duration": 0.015974,
     "end_time": "2024-12-18T17:14:16.001750",
     "exception": false,
     "start_time": "2024-12-18T17:14:15.985776",
     "status": "completed"
    },
    "tags": []
   },
   "source": [
    "## Training"
   ]
  },
  {
   "cell_type": "markdown",
   "id": "92d73eeb",
   "metadata": {
    "id": "92d73eeb",
    "papermill": {
     "duration": 0.015543,
     "end_time": "2024-12-18T17:14:16.033408",
     "exception": false,
     "start_time": "2024-12-18T17:14:16.017865",
     "status": "completed"
    },
    "tags": []
   },
   "source": [
    "### TODO: Compelete the calcLoss functions based on the pydoc provided (20pts)"
   ]
  },
  {
   "cell_type": "code",
   "execution_count": 10,
   "id": "c8e57071",
   "metadata": {
    "execution": {
     "iopub.execute_input": "2025-01-20T18:40:42.301342Z",
     "iopub.status.busy": "2025-01-20T18:40:42.301080Z",
     "iopub.status.idle": "2025-01-20T18:40:42.320503Z",
     "shell.execute_reply": "2025-01-20T18:40:42.319556Z",
     "shell.execute_reply.started": "2025-01-20T18:40:42.301322Z"
    },
    "id": "c8e57071",
    "papermill": {
     "duration": 0.024464,
     "end_time": "2024-12-18T17:14:16.074093",
     "exception": false,
     "start_time": "2024-12-18T17:14:16.049629",
     "status": "completed"
    },
    "tags": [],
    "trusted": true
   },
   "outputs": [],
   "source": [
    "def calcLoss(batch, referenceModel, candidateModel, temperature):\n",
    "    \"\"\"\n",
    "    Compute the loss and the number of correct predictions for a contrastive learning task.\n",
    "\n",
    "    This function calculates a symmetric cross-entropy loss between the embeddings\n",
    "    generated by a reference model and a candidate model. It also computes the\n",
    "    number of correct predictions based on the alignment of the embeddings.\n",
    "\n",
    "    Args:\n",
    "        batch (dict): A batch of data containing:\n",
    "            - \"candidate\" (torch.Tensor): Tokenized input for the candidate model.\n",
    "            - \"reference\" (torch.Tensor): Tokenized input for the reference model.\n",
    "        referenceModel (nn.Module): The model generating embeddings for the reference input.\n",
    "        candidateModel (nn.Module): The model generating embeddings for the candidate input.\n",
    "        temperature (float): A scaling factor to control the logits' sharpness during similarity calculation.\n",
    "\n",
    "    Returns:\n",
    "        tuple:\n",
    "            - loss (torch.Tensor): The computed symmetric cross-entropy loss.\n",
    "            - corrects (int): The number of correctly predicted alignments.\n",
    "\n",
    "    Notes:\n",
    "        - The embeddings are normalized to ensure their magnitudes do not impact similarity.\n",
    "        - Logits represent scaled cosine similarity between reference and candidate embeddings.\n",
    "        - The targets are identity matrices, assuming perfect alignment between reference and candidate inputs.\n",
    "\n",
    "    Example Usage:\n",
    "        batch = {\n",
    "            \"candidate\": tokenized_candidate,\n",
    "            \"reference\": tokenized_reference\n",
    "        }\n",
    "        loss, corrects = calcLoss(batch, reference_model, candidate_model, temperature=0.1)\n",
    "    \"\"\"\n",
    "    # Move tokenized inputs to the specified device\n",
    "    candidateTokenized = batch[\"candidate\"].to(configs[\"device\"])\n",
    "    referenceTokenized = batch[\"reference\"].to(configs[\"device\"])\n",
    "\n",
    "    # Generate embeddings from reference and candidate models\n",
    "    referenceEmbeds = referenceModel(referenceTokenized)\n",
    "    candidateEmbeds = candidateModel(\n",
    "        input_ids=candidateTokenized[\"input_ids\"],\n",
    "        attention_mask=candidateTokenized[\"attention_mask\"]\n",
    "    )\n",
    "\n",
    "    # Normalize embeddings to have unit length\n",
    "    referenceEmbeds = F.normalize(referenceEmbeds, p=2, dim=-1)\n",
    "    candidateEmbeds = F.normalize(candidateEmbeds, p=2, dim=-1)\n",
    "        #TODO\n",
    "    logits_per_ref = torch.matmul(referenceEmbeds, candidateEmbeds.t()) * temperature\n",
    "    logits_per_cand = torch.matmul(candidateEmbeds, referenceEmbeds.t()) * temperature\n",
    "\n",
    "    batch_size = referenceEmbeds.size(0)\n",
    "    ground_truth = torch.arange(batch_size, dtype=torch.long, device=configs[\"device\"])\n",
    "\n",
    "    loss_ref = F.cross_entropy(logits_per_ref, ground_truth)\n",
    "    loss_cand = F.cross_entropy(logits_per_cand, ground_truth)\n",
    "    loss = (loss_ref + loss_cand) / 2\n",
    "\n",
    "    preds_ref = torch.argmax(logits_per_ref, dim=1)\n",
    "    preds_cand = torch.argmax(logits_per_cand, dim=1)\n",
    "    corrects_ref = torch.sum(preds_ref == ground_truth).item()\n",
    "    corrects_cand = torch.sum(preds_cand == ground_truth).item()\n",
    "    corrects = corrects_ref + corrects_cand\n",
    "    return loss, corrects\n"
   ]
  },
  {
   "cell_type": "markdown",
   "id": "5f1b4edc",
   "metadata": {
    "id": "5f1b4edc",
    "papermill": {
     "duration": 0.015457,
     "end_time": "2024-12-18T17:14:16.105022",
     "exception": false,
     "start_time": "2024-12-18T17:14:16.089565",
     "status": "completed"
    },
    "tags": []
   },
   "source": [
    "### TODO: Fill the trainLoop and valLoop (5pts)"
   ]
  },
  {
   "cell_type": "code",
   "execution_count": 11,
   "id": "05f0bf97",
   "metadata": {
    "execution": {
     "iopub.execute_input": "2025-01-20T18:40:42.321984Z",
     "iopub.status.busy": "2025-01-20T18:40:42.321697Z",
     "iopub.status.idle": "2025-01-20T18:40:42.339691Z",
     "shell.execute_reply": "2025-01-20T18:40:42.338914Z",
     "shell.execute_reply.started": "2025-01-20T18:40:42.321962Z"
    },
    "id": "05f0bf97",
    "papermill": {
     "duration": 0.027335,
     "end_time": "2024-12-18T17:14:16.147775",
     "exception": false,
     "start_time": "2024-12-18T17:14:16.120440",
     "status": "completed"
    },
    "tags": [],
    "trusted": true
   },
   "outputs": [],
   "source": [
    "def trainLoop(dataloader, models, referenceTokenizer, candidateTokenizer, optimizer, temperature):\n",
    "    models['candidateModel'].train()\n",
    "\n",
    "    totalLoss = 0.0\n",
    "    totalCorrects = 0\n",
    "\n",
    "    print(\"Training Starts!\")\n",
    "    for (index, pairs) in tqdm(enumerate(dataloader), total=len(dataloader)):\n",
    "\n",
    "        candidteTokenized = candidateTokenizer(getPersianDs(pairs), padding='max_length', truncation=True, return_tensors=\"pt\", max_length=configs[\"fa_tok_percentile\"])\n",
    "        referenceTextTokenized = referenceTokenizer(getEnglishDs(pairs))\n",
    "\n",
    "        batch = {\n",
    "            \"candidate\" : candidteTokenized,\n",
    "            \"reference\" : referenceTextTokenized\n",
    "        }\n",
    "\n",
    "        loss, corrects = calcLoss(batch, models['referenceModel'], models['candidateModel'], temperature)\n",
    "        totalCorrects += corrects\n",
    "        totalLoss += loss.item()\n",
    "\n",
    "        optimizer.zero_grad()\n",
    "        loss.backward()\n",
    "        optimizer.step()\n",
    "\n",
    "    avgLoss = totalLoss / len(dataloader.dataset)\n",
    "    avgAccuracy = totalCorrects / len(dataloader.dataset)\n",
    "\n",
    "    print(\"train loss\", avgLoss)\n",
    "    print(\"train accuracy\", avgAccuracy)\n",
    "\n",
    "    return avgLoss, avgAccuracy\n",
    "\n",
    "def valLoop(dataloader, models, referenceTokenizer, candidateTokenizer, temperature):\n",
    "    models['candidateModel'].eval()\n",
    "\n",
    "    print(\"Testing Starts!\")\n",
    "    totalLoss = 0.0\n",
    "    totalCorrects = 0\n",
    "\n",
    "    with torch.no_grad():\n",
    "        for (index, pairs) in tqdm(enumerate(dataloader), total=len(dataloader)):\n",
    "            candidteTokenized = candidateTokenizer(getPersianDs(pairs), padding='max_length', truncation=True, return_tensors=\"pt\", max_length=configs[\"fa_tok_percentile\"])\n",
    "            referenceTextTokenized = referenceTokenizer(getEnglishDs(pairs))\n",
    "\n",
    "            batch = {\n",
    "                \"candidate\" : candidteTokenized,\n",
    "                \"reference\" : referenceTextTokenized\n",
    "            }\n",
    "\n",
    "            loss, corrects = calcLoss(batch, models['referenceModel'], models['candidateModel'], temperature)\n",
    "\n",
    "            totalCorrects += corrects\n",
    "            totalLoss += loss.item()\n",
    "\n",
    "    avgLoss = totalLoss / len(dataloader.dataset)\n",
    "    avgAccuracy = totalCorrects / len(dataloader.dataset)\n",
    "\n",
    "    print(\"test loss\", avgLoss)\n",
    "    print(\"test accuracy\", avgAccuracy)\n",
    "\n",
    "    return avgLoss, avgAccuracy"
   ]
  },
  {
   "cell_type": "code",
   "execution_count": 12,
   "id": "f015a11f",
   "metadata": {
    "colab": {
     "base_uri": "https://localhost:8080/",
     "height": 116,
     "referenced_widgets": [
      "e69dfcb861ad461eb0c91b6fd6df5f23",
      "e5e18252d8264f9f924ba7704bffc1a8",
      "e28ec74f2d4144bfbc789719be021b15",
      "475cb99d1bab44b8a20e343886ae0b36",
      "5c4d7be4c1de4d93a5389004ed18eb12",
      "d6b900f6de5a4e2fba18935d4a5bc154",
      "735633f6195542448128f02cc1ef6ed3",
      "f03c6155e2d9411d82760b4d49aff31f",
      "0bb8623da385490ea0256e6029b13a2d",
      "42990eb1ecf741ab8fdb37251b6d8304",
      "5e151325774e41eab0428da02c36d017",
      "f76e5e9ed3cc4fa78a4443cbb1fe69c6",
      "203ff52c75fc47d29e4e36b68156f0af",
      "cf3eec71dbc34c9f997f0d0271f5018c",
      "97fbfbf3b38d4805b51c9196b722ac5d",
      "1c1c2dd934a54936b6bcb7db0ecbc3b4",
      "aa27c7aa1f7a43e8a8cd108afdbb4c76",
      "17468aa0fa4842f4976a136251be571d",
      "9080469861874232bfa577d87ce539f2",
      "bbbe9499101f449ba34dbb9954dae0fb",
      "85020bbf4119485e93be636817e673c5",
      "411c36b8f2a04a979b403b77a313397a"
     ]
    },
    "execution": {
     "iopub.execute_input": "2025-01-20T18:40:42.340931Z",
     "iopub.status.busy": "2025-01-20T18:40:42.340629Z",
     "iopub.status.idle": "2025-01-20T18:40:48.279804Z",
     "shell.execute_reply": "2025-01-20T18:40:48.278900Z",
     "shell.execute_reply.started": "2025-01-20T18:40:42.340907Z"
    },
    "id": "f015a11f",
    "outputId": "51d4e45e-c710-4366-86ec-8261ae6ce592",
    "papermill": {
     "duration": 5.07707,
     "end_time": "2024-12-18T17:14:21.240389",
     "exception": false,
     "start_time": "2024-12-18T17:14:16.163319",
     "status": "completed"
    },
    "tags": [],
    "trusted": true
   },
   "outputs": [
    {
     "name": "stdout",
     "output_type": "stream",
     "text": [
      "Before Preproccess:  {'en': 'A person doing karate in a green business card.', 'fa': 'شخصی که کاراته انجام می دهد در کارت ویزیت سبز.'}\n"
     ]
    },
    {
     "data": {
      "application/vnd.jupyter.widget-view+json": {
       "model_id": "da3aa87ce66145c99647230707228270",
       "version_major": 2,
       "version_minor": 0
      },
      "text/plain": [
       "Map:   0%|          | 0/59999 [00:00<?, ? examples/s]"
      ]
     },
     "metadata": {},
     "output_type": "display_data"
    },
    {
     "data": {
      "application/vnd.jupyter.widget-view+json": {
       "model_id": "bf9310a2be4942578fbfc673df07b07e",
       "version_major": 2,
       "version_minor": 0
      },
      "text/plain": [
       "Map:   0%|          | 0/20000 [00:00<?, ? examples/s]"
      ]
     },
     "metadata": {},
     "output_type": "display_data"
    },
    {
     "name": "stdout",
     "output_type": "stream",
     "text": [
      "After Preproccess:  {'en': 'a person doing karate in a green business card', 'fa': 'شخصی که کاراته انجام می دهد در کارت ویزیت سبز'}\n"
     ]
    }
   ],
   "source": [
    "oldCols = [\"en\", \"fa\"]\n",
    "datasetTrain, datasetVal = getDatasetsCSV(oldCols[0], oldCols[1], configs[\"english\"], configs[\"persian\"], configs[\"train_path\"], configs[\"val_path\"])\n",
    "\n",
    "getPersianDs, getEnglishDs = getDsByLang(configs[\"persian\"], configs[\"english\"])\n",
    "print(\"Before Preproccess: \", datasetTrain[0])\n",
    "datasetTrain, datasetVal = applyPreprocess([datasetTrain, datasetVal], configs)\n",
    "print(\"After Preproccess: \", datasetTrain[0])\n",
    "trainDataloader = DataLoader(datasetTrain, batch_size=configs['batch_size'], shuffle=True)\n",
    "valDataloader = DataLoader(datasetVal, batch_size=configs['batch_size'], shuffle=False)"
   ]
  },
  {
   "cell_type": "markdown",
   "id": "aea3bc61",
   "metadata": {
    "id": "aea3bc61",
    "papermill": {
     "duration": 0.015811,
     "end_time": "2024-12-18T17:14:21.272664",
     "exception": false,
     "start_time": "2024-12-18T17:14:21.256853",
     "status": "completed"
    },
    "tags": []
   },
   "source": [
    "#### Tokenizers"
   ]
  },
  {
   "cell_type": "code",
   "execution_count": 13,
   "id": "506ef8ec",
   "metadata": {
    "colab": {
     "base_uri": "https://localhost:8080/",
     "height": 301,
     "referenced_widgets": [
      "e74d5e6138584c429fc7c38e5dab5d32",
      "e1af3281f3334b28ae7b67ecd2b6d84f",
      "2782ca6250a04efb9692556b87e27556",
      "41a122a80285451d9f05c937118066c4",
      "d3a02942a2c74f859c040185f3643fbb",
      "a64f68d3ecd941fc81a552950e1647b2",
      "be1a3a0162534ab7ad71e64952cd47bd",
      "52e84fab7d7540cda08a1bf8dcf93ea3",
      "c9460fe7ec6c4f51a8b0e9e9cb3e24e9",
      "7b9c4b49ca3b438f8b88d82f2f9b732c",
      "b01c449d8644453c8a4f695bbc56f339",
      "81fbd91573b047b7a5d33c5e9fc80aa7",
      "3d3a44517c1e41f699ea660a3e38b2dd",
      "d4270ac00f1e41a5bd7dd990e2441e00",
      "6a4276522aa14729bf5e275354ef7eeb",
      "7a534a62cc7147f494f4701e5dd60072",
      "d9b6fb0b17e546cbb70fa86cecf31b28",
      "98aaa40390604e5d998cf98915d0a042",
      "a870951b46684d69a8cde22371d2c4c5",
      "a0eb5f3954774ef3a25615b4627656fc",
      "0c9761ace6f84483afecddc6cc4f8553",
      "ab98b8ef63d44ae48459a17995e7cfcc",
      "d3dee31699944956856c9d6d7f2c1e9f",
      "238785cd70be4abbadfb1ce3ac1bf8d9",
      "b96c61cf7b7e4b03a325164512ce3236",
      "0b6b6e8ab7f64b12b56c1fce841ef2a4",
      "d006720c3bda430490763ff666cbbf8c",
      "9381fdeebf344449a22f8a6a4606d0d6",
      "7b87c077858348dca50513f0ccf10f02",
      "316786c239f5483e8da0001eff97fa70",
      "467296637c134eaf803091954c0704c0",
      "c6d692dac6fb400688ef3a685541d606",
      "364581c003b0485b861f9dac105b61fb",
      "b9e804da6a5c44f183f0b4779884d2a4",
      "c843c18453c149a089696a7fd2e5588c",
      "e7dddc99ad2240a292e6d4295343fe3c",
      "5adbffb084764182aac4d9fdcf85575f",
      "c603ff541c984d85826b0ae270ae2db7",
      "1ee9343af56a4a7eb77a0fae4e6f814e",
      "38c6d2c3394a4c429d4153c6cecf5c41",
      "cfeda17572894ecdbedd78da39026157",
      "8eb50186808b4fcbb843a5ca9411caac",
      "6b5ac3e8a1404fa09793240edb636cc2",
      "abaef79008bd4e509e8bc6bb9f9468d4",
      "c36e2412870548c9a2c09cbdbc4c931d",
      "167b417f3400416993c4f4cfefb09f64",
      "60631af6e44d4e17ac48c93b955684a2",
      "2b46cec3733c4d0382d8d822d0cfea75",
      "dcdbf76a21114591ad3eefea24571933",
      "23432cacd41f411e98c74b1c5431dad6",
      "4631e0a8c4404050a920a8ba980b672b",
      "1f4315465907416db2449ef43f5cdd94",
      "bc136904501149ad9d85770c717af6e8",
      "1fedc5b2b3c9417b94b8fdcc7cdcf89d",
      "5537f07d2e7141c79033f98eb7b34155"
     ]
    },
    "execution": {
     "iopub.execute_input": "2025-01-20T18:40:48.281266Z",
     "iopub.status.busy": "2025-01-20T18:40:48.280890Z",
     "iopub.status.idle": "2025-01-20T18:41:00.568990Z",
     "shell.execute_reply": "2025-01-20T18:41:00.567931Z",
     "shell.execute_reply.started": "2025-01-20T18:40:48.281232Z"
    },
    "id": "506ef8ec",
    "outputId": "dbdff3a7-738d-42d9-bf0e-58b86767334a",
    "papermill": {
     "duration": 10.512708,
     "end_time": "2024-12-18T17:14:31.801887",
     "exception": false,
     "start_time": "2024-12-18T17:14:21.289179",
     "status": "completed"
    },
    "tags": [],
    "trusted": true
   },
   "outputs": [
    {
     "data": {
      "application/vnd.jupyter.widget-view+json": {
       "model_id": "66cdde8d2fa94f1fb3e923f7465c77a0",
       "version_major": 2,
       "version_minor": 0
      },
      "text/plain": [
       "config.json:   0%|          | 0.00/611 [00:00<?, ?B/s]"
      ]
     },
     "metadata": {},
     "output_type": "display_data"
    },
    {
     "data": {
      "application/vnd.jupyter.widget-view+json": {
       "model_id": "d749dabc90cf45adbe268d88f317f83f",
       "version_major": 2,
       "version_minor": 0
      },
      "text/plain": [
       "tokenizer_config.json:   0%|          | 0.00/367 [00:00<?, ?B/s]"
      ]
     },
     "metadata": {},
     "output_type": "display_data"
    },
    {
     "data": {
      "application/vnd.jupyter.widget-view+json": {
       "model_id": "333e0d6045a049ed9803cab168a65b41",
       "version_major": 2,
       "version_minor": 0
      },
      "text/plain": [
       "vocab.txt:   0%|          | 0.00/1.47M [00:00<?, ?B/s]"
      ]
     },
     "metadata": {},
     "output_type": "display_data"
    },
    {
     "data": {
      "application/vnd.jupyter.widget-view+json": {
       "model_id": "7864f4ea28e04331907ad1369a760b83",
       "version_major": 2,
       "version_minor": 0
      },
      "text/plain": [
       "tokenizer.json:   0%|          | 0.00/4.31M [00:00<?, ?B/s]"
      ]
     },
     "metadata": {},
     "output_type": "display_data"
    },
    {
     "data": {
      "application/vnd.jupyter.widget-view+json": {
       "model_id": "c266716c7e2c4f6cab507d0ca6c0f492",
       "version_major": 2,
       "version_minor": 0
      },
      "text/plain": [
       "special_tokens_map.json:   0%|          | 0.00/125 [00:00<?, ?B/s]"
      ]
     },
     "metadata": {},
     "output_type": "display_data"
    }
   ],
   "source": [
    "referenceTokenizer = open_clip.get_tokenizer(configs[\"reference_checkPoint\"])\n",
    "\n",
    "candidateConfig = AutoConfig.from_pretrained(configs[\"candidate_checkpoint\"])\n",
    "candidateTokenizer = AutoTokenizer.from_pretrained(configs[\"candidate_checkpoint\"])\n",
    "\n",
    "configs = configs | {\"candidate_embedding\" : candidateConfig.hidden_size}\n",
    "\n",
    "faTokenPercentile = calcPrcentileTokens(datasetTrain, candidateTokenizer, configs[\"persian\"])\n",
    "faTokenPercentile\n",
    "\n",
    "enTokenPercentile = calcPrcentileTokens(datasetTrain, referenceTokenizer, configs[\"english\"])\n",
    "enTokenPercentile\n",
    "\n",
    "configs = configs | {\"en_tok_percentile\" : enTokenPercentile}\n",
    "configs = configs | {\"fa_tok_percentile\" : faTokenPercentile}"
   ]
  },
  {
   "cell_type": "markdown",
   "id": "d92d790a",
   "metadata": {
    "id": "d92d790a",
    "papermill": {
     "duration": 0.016378,
     "end_time": "2024-12-18T17:14:31.835725",
     "exception": false,
     "start_time": "2024-12-18T17:14:31.819347",
     "status": "completed"
    },
    "tags": []
   },
   "source": [
    "#### Models"
   ]
  },
  {
   "cell_type": "code",
   "execution_count": 14,
   "id": "0cfbc447",
   "metadata": {
    "colab": {
     "base_uri": "https://localhost:8080/",
     "height": 49,
     "referenced_widgets": [
      "b479cda2f5ac4cdabe5a223b691d17b9",
      "4166fa53d9ef4bcfa36eb271477bdeb6",
      "a48ba69d1cfc4b5da6b6673f14b77a24",
      "8ffd629edd8a4f46a7f2f5856093ac01",
      "f279b099b92343cf93c49e4aa1a50280",
      "da521f1f92254b74af7e0e4108601c24",
      "fd4e49e375174e0ea0038fc0adb5f1c3",
      "1a1ffff0f6524c93991455e227803b14",
      "293204c834584355853f1959d5e9072f",
      "d2d9f991aec44280bca09fe6e82670f9",
      "431205194c9c40209444ba59b1b118c0"
     ]
    },
    "execution": {
     "iopub.execute_input": "2025-01-20T18:41:00.570180Z",
     "iopub.status.busy": "2025-01-20T18:41:00.569916Z",
     "iopub.status.idle": "2025-01-20T18:41:31.669532Z",
     "shell.execute_reply": "2025-01-20T18:41:31.668487Z",
     "shell.execute_reply.started": "2025-01-20T18:41:00.570158Z"
    },
    "id": "0cfbc447",
    "outputId": "723c913c-6da0-4f6d-8022-f8fcbf249d6c",
    "papermill": {
     "duration": 28.039003,
     "end_time": "2024-12-18T17:14:59.891005",
     "exception": false,
     "start_time": "2024-12-18T17:14:31.852002",
     "status": "completed"
    },
    "tags": [],
    "trusted": true
   },
   "outputs": [
    {
     "data": {
      "application/vnd.jupyter.widget-view+json": {
       "model_id": "6757dcb714a84f418465696f60c24ebe",
       "version_major": 2,
       "version_minor": 0
      },
      "text/plain": [
       "model.safetensors:   0%|          | 0.00/877M [00:00<?, ?B/s]"
      ]
     },
     "metadata": {},
     "output_type": "display_data"
    }
   ],
   "source": [
    "referenceModel = TextEncoder(configs).to(configs[\"device\"])\n",
    "candidateModel = CandidateModel(model_name=configs[\"candidate_checkpoint\"], unfreezeLayers=configs[\"unfreezed_layers\"]).to(configs[\"device\"])\n",
    "referenceModel = freezeModel(referenceModel)\n",
    "\n",
    "candidateModel.to(configs['device'])\n",
    "referenceModel.to(configs['device'])\n",
    "\n",
    "models = {\n",
    "    \"referenceModel\" : referenceModel,\n",
    "    \"candidateModel\" : candidateModel\n",
    "}"
   ]
  },
  {
   "cell_type": "markdown",
   "id": "59bc9d96",
   "metadata": {
    "id": "59bc9d96",
    "papermill": {
     "duration": 0.0162,
     "end_time": "2024-12-18T17:14:59.924176",
     "exception": false,
     "start_time": "2024-12-18T17:14:59.907976",
     "status": "completed"
    },
    "tags": []
   },
   "source": [
    "## Training\n",
    "### TODO (10pts) for running the code and (20pts) for achieving above 70 percent test accuracy"
   ]
  },
  {
   "cell_type": "code",
   "execution_count": 15,
   "id": "03a0e5e7",
   "metadata": {
    "execution": {
     "iopub.execute_input": "2025-01-20T18:41:31.671091Z",
     "iopub.status.busy": "2025-01-20T18:41:31.670459Z",
     "iopub.status.idle": "2025-01-20T18:41:31.679799Z",
     "shell.execute_reply": "2025-01-20T18:41:31.678689Z",
     "shell.execute_reply.started": "2025-01-20T18:41:31.671064Z"
    },
    "id": "03a0e5e7",
    "papermill": {
     "duration": 0.025563,
     "end_time": "2024-12-18T17:14:59.966213",
     "exception": false,
     "start_time": "2024-12-18T17:14:59.940650",
     "status": "completed"
    },
    "tags": [],
    "trusted": true
   },
   "outputs": [],
   "source": [
    "temperature = torch.nn.Parameter(torch.tensor(configs['temperature']).float())\n",
    "optimizer = torch.optim.AdamW(list(models['candidateModel'].parameters()) + [temperature], weight_decay=configs[\"weight_decay\"], lr=configs['lr'])\n",
    "lrScheduler = ReduceLROnPlateau(optimizer, 'max', patience=configs['patience'], factor=configs['factor'])\n"
   ]
  },
  {
   "cell_type": "markdown",
   "id": "b382a2af-0dfe-4632-b36d-90e79b087d55",
   "metadata": {},
   "source": [
    "**First Try:**\n",
    "\n",
    "Terminated because of VPN disconnection in kaggle.\n",
    "\n",
    "But accuracies in 3rd epoch were higher than 1.8 which after dividing by 2 and multipling to 100 equals to accuracy higher than 90%."
   ]
  },
  {
   "cell_type": "code",
   "execution_count": null,
   "id": "0a7f783c",
   "metadata": {
    "colab": {
     "base_uri": "https://localhost:8080/",
     "height": 367
    },
    "execution": {
     "iopub.execute_input": "2025-01-20T16:32:10.840680Z",
     "iopub.status.busy": "2025-01-20T16:32:10.840450Z"
    },
    "id": "0a7f783c",
    "outputId": "5dc7aaec-6307-49f6-b2a4-c48386d38e21",
    "papermill": {
     "duration": 17782.445889,
     "end_time": "2024-12-18T22:11:22.429709",
     "exception": false,
     "start_time": "2024-12-18T17:14:59.983820",
     "status": "completed"
    },
    "tags": [],
    "trusted": true
   },
   "outputs": [
    {
     "name": "stdout",
     "output_type": "stream",
     "text": [
      "Training Starts!\n"
     ]
    },
    {
     "name": "stderr",
     "output_type": "stream",
     "text": [
      "100%|██████████| 469/469 [19:52<00:00,  2.54s/it]\n"
     ]
    },
    {
     "name": "stdout",
     "output_type": "stream",
     "text": [
      "train loss 0.014843223597574664\n",
      "train accuracy 1.3927398789979832\n",
      "Testing Starts!\n"
     ]
    },
    {
     "name": "stderr",
     "output_type": "stream",
     "text": [
      "100%|██████████| 157/157 [05:53<00:00,  2.25s/it]\n"
     ]
    },
    {
     "name": "stdout",
     "output_type": "stream",
     "text": [
      "test loss 0.010121711152791977\n",
      "test accuracy 1.71815\n",
      "Temperature at this epoch was : 20.053194046020508\n",
      "Training Starts!\n"
     ]
    },
    {
     "name": "stderr",
     "output_type": "stream",
     "text": [
      "100%|██████████| 469/469 [19:52<00:00,  2.54s/it]\n"
     ]
    },
    {
     "name": "stdout",
     "output_type": "stream",
     "text": [
      "train loss 0.00877459329987278\n",
      "train accuracy 1.8038967316121934\n",
      "Testing Starts!\n"
     ]
    },
    {
     "name": "stderr",
     "output_type": "stream",
     "text": [
      "100%|██████████| 157/157 [05:53<00:00,  2.25s/it]\n"
     ]
    },
    {
     "name": "stdout",
     "output_type": "stream",
     "text": [
      "test loss 0.007870244808495045\n",
      "test accuracy 1.8262\n",
      "Temperature at this epoch was : 20.102800369262695\n",
      "Training Starts!\n"
     ]
    },
    {
     "name": "stderr",
     "output_type": "stream",
     "text": [
      "100%|██████████| 469/469 [19:53<00:00,  2.54s/it]\n"
     ]
    },
    {
     "name": "stdout",
     "output_type": "stream",
     "text": [
      "train loss 0.006856451130073868\n",
      "train accuracy 1.894348239137319\n",
      "Testing Starts!\n"
     ]
    },
    {
     "name": "stderr",
     "output_type": "stream",
     "text": [
      " 79%|███████▉  | 124/157 [04:40<01:14,  2.26s/it]"
     ]
    }
   ],
   "source": [
    "\n",
    "bestValAcc = float('-inf')\n",
    "\n",
    "metrics = pd.DataFrame(columns=[\"Avg-train-loss\", \"Avg-train-accuracy\",\"Avg-val-loss\", \"Avg-val-accuracy\"])\n",
    "\n",
    "for t in range(configs['epochs']):\n",
    "    trainLoss, trainAcc = trainLoop(trainDataloader, models, referenceTokenizer, candidateTokenizer, optimizer, temperature)\n",
    "    valLoss, valAcc = valLoop(valDataloader, models, referenceTokenizer, candidateTokenizer, temperature)\n",
    "\n",
    "    metrics.loc[t+1] = [trainLoss, trainAcc, valLoss, valAcc]\n",
    "\n",
    "    lrScheduler.step(valAcc)\n",
    "\n",
    "    print(\"Temperature at this epoch was :\", temperature.item())\n",
    "\n",
    "print(f'Best accuracy of validation gained: ', bestValAcc)\n",
    "print(\"Done!\")"
   ]
  },
  {
   "cell_type": "markdown",
   "id": "8ca019b1-0cc5-4248-bc21-0b60152d9355",
   "metadata": {},
   "source": [
    "**Second Try:**\n",
    "\n",
    "Everything is OK and I reached to an amazing accuracy!"
   ]
  },
  {
   "cell_type": "code",
   "execution_count": 16,
   "id": "7c68e8a7-0a10-4460-bb54-1b75bd713589",
   "metadata": {
    "execution": {
     "iopub.execute_input": "2025-01-20T18:42:09.023333Z",
     "iopub.status.busy": "2025-01-20T18:42:09.022949Z",
     "iopub.status.idle": "2025-01-20T20:50:58.029220Z",
     "shell.execute_reply": "2025-01-20T20:50:58.027238Z",
     "shell.execute_reply.started": "2025-01-20T18:42:09.023309Z"
    },
    "trusted": true
   },
   "outputs": [
    {
     "name": "stdout",
     "output_type": "stream",
     "text": [
      "Training Starts!\n"
     ]
    },
    {
     "name": "stderr",
     "output_type": "stream",
     "text": [
      "100%|██████████| 469/469 [19:53<00:00,  2.54s/it]\n"
     ]
    },
    {
     "name": "stdout",
     "output_type": "stream",
     "text": [
      "train loss 0.01459996912761097\n",
      "train accuracy 1.4047734128902147\n",
      "Testing Starts!\n"
     ]
    },
    {
     "name": "stderr",
     "output_type": "stream",
     "text": [
      "100%|██████████| 157/157 [05:52<00:00,  2.25s/it]\n"
     ]
    },
    {
     "name": "stdout",
     "output_type": "stream",
     "text": [
      "test loss 0.00984646332859993\n",
      "test accuracy 1.7295\n",
      "Temperature at this epoch was : 20.05327796936035\n",
      "Training Starts!\n"
     ]
    },
    {
     "name": "stderr",
     "output_type": "stream",
     "text": [
      "100%|██████████| 469/469 [19:52<00:00,  2.54s/it]\n"
     ]
    },
    {
     "name": "stdout",
     "output_type": "stream",
     "text": [
      "train loss 0.00862482509370005\n",
      "train accuracy 1.80738012300205\n",
      "Testing Starts!\n"
     ]
    },
    {
     "name": "stderr",
     "output_type": "stream",
     "text": [
      "100%|██████████| 157/157 [05:52<00:00,  2.25s/it]\n"
     ]
    },
    {
     "name": "stdout",
     "output_type": "stream",
     "text": [
      "test loss 0.0077270610630512234\n",
      "test accuracy 1.8284\n",
      "Temperature at this epoch was : 20.102624893188477\n",
      "Training Starts!\n"
     ]
    },
    {
     "name": "stderr",
     "output_type": "stream",
     "text": [
      "100%|██████████| 469/469 [19:53<00:00,  2.54s/it]\n"
     ]
    },
    {
     "name": "stdout",
     "output_type": "stream",
     "text": [
      "train loss 0.006751844372502402\n",
      "train accuracy 1.8955149252487542\n",
      "Testing Starts!\n"
     ]
    },
    {
     "name": "stderr",
     "output_type": "stream",
     "text": [
      "100%|██████████| 157/157 [05:52<00:00,  2.25s/it]\n"
     ]
    },
    {
     "name": "stdout",
     "output_type": "stream",
     "text": [
      "test loss 0.006770160274207592\n",
      "test accuracy 1.86675\n",
      "Temperature at this epoch was : 20.14976692199707\n",
      "Training Starts!\n"
     ]
    },
    {
     "name": "stderr",
     "output_type": "stream",
     "text": [
      "100%|██████████| 469/469 [19:52<00:00,  2.54s/it]\n"
     ]
    },
    {
     "name": "stdout",
     "output_type": "stream",
     "text": [
      "train loss 0.005567676331707274\n",
      "train accuracy 1.940865681094685\n",
      "Testing Starts!\n"
     ]
    },
    {
     "name": "stderr",
     "output_type": "stream",
     "text": [
      "100%|██████████| 157/157 [05:52<00:00,  2.25s/it]\n"
     ]
    },
    {
     "name": "stdout",
     "output_type": "stream",
     "text": [
      "test loss 0.006163382241129875\n",
      "test accuracy 1.8811\n",
      "Temperature at this epoch was : 20.195629119873047\n",
      "Training Starts!\n"
     ]
    },
    {
     "name": "stderr",
     "output_type": "stream",
     "text": [
      "100%|██████████| 469/469 [19:53<00:00,  2.54s/it]\n"
     ]
    },
    {
     "name": "stdout",
     "output_type": "stream",
     "text": [
      "train loss 0.004714449026514728\n",
      "train accuracy 1.966282771379523\n",
      "Testing Starts!\n"
     ]
    },
    {
     "name": "stderr",
     "output_type": "stream",
     "text": [
      "100%|██████████| 157/157 [05:52<00:00,  2.25s/it]"
     ]
    },
    {
     "name": "stdout",
     "output_type": "stream",
     "text": [
      "test loss 0.00567629152238369\n",
      "test accuracy 1.8939\n",
      "Temperature at this epoch was : 20.24045753479004\n",
      "Best accuracy of validation gained:  -inf\n",
      "Done!\n"
     ]
    },
    {
     "name": "stderr",
     "output_type": "stream",
     "text": [
      "\n"
     ]
    }
   ],
   "source": [
    "\n",
    "bestValAcc = float('-inf')\n",
    "\n",
    "metrics = pd.DataFrame(columns=[\"Avg-train-loss\", \"Avg-train-accuracy\",\"Avg-val-loss\", \"Avg-val-accuracy\"])\n",
    "\n",
    "for t in range(configs['epochs']):\n",
    "    trainLoss, trainAcc = trainLoop(trainDataloader, models, referenceTokenizer, candidateTokenizer, optimizer, temperature)\n",
    "    valLoss, valAcc = valLoop(valDataloader, models, referenceTokenizer, candidateTokenizer, temperature)\n",
    "\n",
    "    metrics.loc[t+1] = [trainLoss, trainAcc, valLoss, valAcc]\n",
    "\n",
    "    lrScheduler.step(valAcc)\n",
    "\n",
    "    print(\"Temperature at this epoch was :\", temperature.item())\n",
    "\n",
    "print(f'Best accuracy of validation gained: ', bestValAcc)\n",
    "print(\"Done!\")"
   ]
  },
  {
   "cell_type": "markdown",
   "id": "0eb60bd8-34c4-48b5-985b-197a196fd9e7",
   "metadata": {},
   "source": [
    "**Note for grader**\n",
    "\n",
    "I forgot to update best val acc but you can see the improvement of val accuracy during the epochs in next diagrams and everything is OK :)"
   ]
  },
  {
   "cell_type": "code",
   "execution_count": 28,
   "id": "819f77c9-f64a-45c7-a815-6a19f61a33e6",
   "metadata": {
    "execution": {
     "iopub.execute_input": "2025-01-20T20:58:36.487649Z",
     "iopub.status.busy": "2025-01-20T20:58:36.487288Z",
     "iopub.status.idle": "2025-01-20T20:58:36.715265Z",
     "shell.execute_reply": "2025-01-20T20:58:36.714236Z",
     "shell.execute_reply.started": "2025-01-20T20:58:36.487622Z"
    },
    "trusted": true
   },
   "outputs": [
    {
     "data": {
      "image/png": "[encoded data removed]",
      "text/plain": [
       "<Figure size 640x480 with 1 Axes>"
      ]
     },
     "metadata": {},
     "output_type": "display_data"
    }
   ],
   "source": [
    "plotMetric(metrics, \"Avg-val-accuracy\")"
   ]
  },
  {
   "cell_type": "code",
   "execution_count": 23,
   "id": "cad3c429-eb7d-4526-81c4-3f4a4c2dbc5d",
   "metadata": {
    "execution": {
     "iopub.execute_input": "2025-01-20T20:57:41.433523Z",
     "iopub.status.busy": "2025-01-20T20:57:41.433145Z",
     "iopub.status.idle": "2025-01-20T20:57:41.638878Z",
     "shell.execute_reply": "2025-01-20T20:57:41.637953Z",
     "shell.execute_reply.started": "2025-01-20T20:57:41.433489Z"
    },
    "trusted": true
   },
   "outputs": [
    {
     "data": {
      "image/png": "[encoded data removed]",
      "text/plain": [
       "<Figure size 640x480 with 1 Axes>"
      ]
     },
     "metadata": {},
     "output_type": "display_data"
    }
   ],
   "source": [
    "metrics[\"Avg-val-accuracy-percent\"] = metrics[\"Avg-val-accuracy\"] * 50\n",
    "plotMetric(metrics, \"Avg-val-accuracy-percent\")"
   ]
  },
  {
   "cell_type": "code",
   "execution_count": 26,
   "id": "884ba162",
   "metadata": {
    "execution": {
     "iopub.execute_input": "2025-01-20T20:58:14.276013Z",
     "iopub.status.busy": "2025-01-20T20:58:14.275601Z",
     "iopub.status.idle": "2025-01-20T20:58:14.489634Z",
     "shell.execute_reply": "2025-01-20T20:58:14.488578Z",
     "shell.execute_reply.started": "2025-01-20T20:58:14.275979Z"
    },
    "id": "884ba162",
    "outputId": "496c5975-b42a-4cb9-a625-0ff14d06771f",
    "papermill": {
     "duration": 0.494729,
     "end_time": "2024-12-18T22:11:23.078241",
     "exception": false,
     "start_time": "2024-12-18T22:11:22.583512",
     "status": "completed"
    },
    "tags": [],
    "trusted": true
   },
   "outputs": [
    {
     "data": {
      "image/png": "[encoded data removed]",
      "text/plain": [
       "<Figure size 640x480 with 1 Axes>"
      ]
     },
     "metadata": {},
     "output_type": "display_data"
    }
   ],
   "source": [
    "plotMetric(metrics, \"Avg-train-accuracy\")"
   ]
  },
  {
   "cell_type": "code",
   "execution_count": 27,
   "id": "87a867ef-f722-453e-bb28-c6891d975f49",
   "metadata": {
    "execution": {
     "iopub.execute_input": "2025-01-20T20:58:20.787432Z",
     "iopub.status.busy": "2025-01-20T20:58:20.787104Z",
     "iopub.status.idle": "2025-01-20T20:58:21.005408Z",
     "shell.execute_reply": "2025-01-20T20:58:21.004541Z",
     "shell.execute_reply.started": "2025-01-20T20:58:20.787404Z"
    },
    "trusted": true
   },
   "outputs": [
    {
     "data": {
      "image/png": "[encoded data removed]",
      "text/plain": [
       "<Figure size 640x480 with 1 Axes>"
      ]
     },
     "metadata": {},
     "output_type": "display_data"
    },
    {
     "data": {
      "text/html": [
       "<div>\n",
       "<style scoped>\n",
       "    .dataframe tbody tr th:only-of-type {\n",
       "        vertical-align: middle;\n",
       "    }\n",
       "\n",
       "    .dataframe tbody tr th {\n",
       "        vertical-align: top;\n",
       "    }\n",
       "\n",
       "    .dataframe thead th {\n",
       "        text-align: right;\n",
       "    }\n",
       "</style>\n",
       "<table border=\"1\" class=\"dataframe\">\n",
       "  <thead>\n",
       "    <tr style=\"text-align: right;\">\n",
       "      <th></th>\n",
       "      <th>Avg-train-loss</th>\n",
       "      <th>Avg-train-accuracy</th>\n",
       "      <th>Avg-val-loss</th>\n",
       "      <th>Avg-val-accuracy</th>\n",
       "      <th>Avg-train-accuracy-percent</th>\n",
       "      <th>Avg-val-accuracy-percent</th>\n",
       "    </tr>\n",
       "  </thead>\n",
       "  <tbody>\n",
       "    <tr>\n",
       "      <th>3</th>\n",
       "      <td>0.006752</td>\n",
       "      <td>1.895515</td>\n",
       "      <td>0.006770</td>\n",
       "      <td>1.86675</td>\n",
       "      <td>94.775746</td>\n",
       "      <td>93.3375</td>\n",
       "    </tr>\n",
       "    <tr>\n",
       "      <th>4</th>\n",
       "      <td>0.005568</td>\n",
       "      <td>1.940866</td>\n",
       "      <td>0.006163</td>\n",
       "      <td>1.88110</td>\n",
       "      <td>97.043284</td>\n",
       "      <td>94.0550</td>\n",
       "    </tr>\n",
       "    <tr>\n",
       "      <th>5</th>\n",
       "      <td>0.004714</td>\n",
       "      <td>1.966283</td>\n",
       "      <td>0.005676</td>\n",
       "      <td>1.89390</td>\n",
       "      <td>98.314139</td>\n",
       "      <td>94.6950</td>\n",
       "    </tr>\n",
       "  </tbody>\n",
       "</table>\n",
       "</div>"
      ],
      "text/plain": [
       "   Avg-train-loss  Avg-train-accuracy  Avg-val-loss  Avg-val-accuracy  \\\n",
       "3        0.006752            1.895515      0.006770           1.86675   \n",
       "4        0.005568            1.940866      0.006163           1.88110   \n",
       "5        0.004714            1.966283      0.005676           1.89390   \n",
       "\n",
       "   Avg-train-accuracy-percent  Avg-val-accuracy-percent  \n",
       "3                   94.775746                   93.3375  \n",
       "4                   97.043284                   94.0550  \n",
       "5                   98.314139                   94.6950  "
      ]
     },
     "execution_count": 27,
     "metadata": {},
     "output_type": "execute_result"
    }
   ],
   "source": [
    "metrics[\"Avg-train-accuracy-percent\"] = metrics[\"Avg-train-accuracy\"] * 50\n",
    "plotMetric(metrics, \"Avg-train-accuracy-percent\")\n",
    "metrics.tail(3)"
   ]
  },
  {
   "cell_type": "markdown",
   "id": "732adf00",
   "metadata": {
    "id": "732adf00",
    "papermill": {
     "duration": 0.148084,
     "end_time": "2024-12-18T22:11:23.388751",
     "exception": false,
     "start_time": "2024-12-18T22:11:23.240667",
     "status": "completed"
    },
    "tags": []
   },
   "source": [
    "## Question Box (10pts + 5pts bonus)\n",
    "\n",
    "1- Do we even need normalization for tasks like this? will they provide any accuracy gain? write what you think.\n",
    "<br/>\n",
    "**Answer:**\n",
    "<br/>\n",
    "   In most contrastive learning setups, **L2-normalizing** the embeddings is quite standard. By normalizing, we ensure that cosine similarity (dot product over norms) is used consistently rather than raw magnitude-based distances. This often stabilizes training and may lead to better alignment in the shared embedding space. Whether it provides a large accuracy gain depends on the data and model specifics, but typically, normalization helps produce more stable and sometimes better results.\n",
    "<br/>\n",
    "<br/>\n",
    "\n",
    "\n",
    "---\n",
    "\n",
    "\n",
    "2- When training a neural network, what takes the memory? mention at least 4 things.\n",
    "<br/>\n",
    "**Answer:**\n",
    "<br/>\n",
    "   1. **Model Parameters:** All weights and biases of the network layers.  \n",
    "   2. **Gradients:** The gradients (of the same shape as parameters) stored for backpropagation.  \n",
    "   3. **Intermediate Activations (Forward Pass):** Outputs of each layer, which are needed later to compute gradients.  \n",
    "   4. **Optimizer States:** For optimizers like Adam or AdamW, additional states such as moving averages of gradients and second moments are also stored.  \n",
    "   Other memory consumers include input batches and caches for certain operations, but the four listed above are the largest contributors.\n",
    "<br/>\n",
    "<br/>\n",
    "\n",
    "\n",
    "---\n",
    "\n",
    "\n",
    "3- find out the actual Open Ai's training configuration of Clip model.\n",
    "<br/>\n",
    "**Answer:**\n",
    "<br/>\n",
    "   According to OpenAI’s CLIP paper and official resources, the core training configuration involved:\n",
    "   - **Dataset Size:** ~400 million image–text pairs (collected from the internet).  \n",
    "   - **Batch Size:** Up to 32,768 (e.g., 128 GPUs, each using a mini-batch of 256).  \n",
    "   - **Optimizer and Schedule:** Adam with certain learning rate scheduling (warmup + cosine decay).  \n",
    "   - **Number of Epochs:** Trained for ~32 epochs on that massive dataset.  \n",
    "   - **Large-scale Distributed Training:** 128 GPUs in parallel to handle such large batch sizes and dataset.  \n",
    "   - **Learned Temperature:** The temperature was a learned parameter initialized at ~0.07 and updated during training.\n",
    "<br/>\n",
    "<br/>\n",
    "\n",
    "\n",
    "---\n",
    "\n",
    "\n",
    "\n",
    "#### Bonus\n",
    "4- We have an alternative clip's loss implementation, write its pseudocode."
   ]
  },
  {
   "cell_type": "code",
   "execution_count": null,
   "id": "dcd8efa7",
   "metadata": {
    "id": "dcd8efa7",
    "papermill": {
     "duration": 0.152521,
     "end_time": "2024-12-18T22:11:23.693977",
     "exception": false,
     "start_time": "2024-12-18T22:11:23.541456",
     "status": "completed"
    },
    "tags": []
   },
   "outputs": [],
   "source": [
    "# reference_embeddings: shape (B, D)\n",
    "# candidate_embeddings: shape (B, D)\n",
    "# temperature: scalar (trainable or fixed)\n",
    "\n",
    "# 1. Normalize embeddings\n",
    "ref_emb = l2_normalize(reference_embeddings)\n",
    "cand_emb = l2_normalize(candidate_embeddings)\n",
    "\n",
    "# 2. Compute pairwise similarities and scale by temperature\n",
    "logits_ref = ref_emb @ cand_emb.T * temperature      # (B, B)\n",
    "logits_cand = cand_emb @ ref_emb.T * temperature     # (B, B)\n",
    "\n",
    "# 3. Create ground-truth labels (0..B-1)\n",
    "labels = [0..B-1]\n",
    "\n",
    "# 4. Compute cross-entropy losses in both directions\n",
    "loss_ref = cross_entropy(logits_ref, labels)\n",
    "loss_cand = cross_entropy(logits_cand, labels)\n",
    "loss = (loss_ref + loss_cand) / 2\n",
    "\n",
    "# 5. Backpropagate loss\n",
    "loss.backward()\n",
    "optimizer.step()\n"
   ]
  }
 ],
 "metadata": {
  "accelerator": "GPU",
  "colab": {
   "gpuType": "T4",
   "provenance": []
  },
  "kaggle": {
   "accelerator": "gpu",
   "dataSources": [
    {
     "datasetId": 4600270,
     "sourceId": 7845742,
     "sourceType": "datasetVersion"
    },
    {
     "datasetId": 4600399,
     "sourceId": 7845904,
     "sourceType": "datasetVersion"
    }
   ],
   "dockerImageVersionId": 30840,
   "isGpuEnabled": true,
   "isInternetEnabled": true,
   "language": "python",
   "sourceType": "notebook"
  },
  "kernelspec": {
   "display_name": "Python 3",
   "language": "python",
   "name": "python3"
  },
  "language_info": {
   "codemirror_mode": {
    "name": "ipython",
    "version": 3
   },
   "file_extension": ".py",
   "mimetype": "text/x-python",
   "name": "python",
   "nbconvert_exporter": "python",
   "pygments_lexer": "ipython3",
   "version": "3.10.12"
  },
  "papermill": {
   "default_parameters": {},
   "duration": 17879.671693,
   "end_time": "2024-12-18T22:11:27.581599",
   "environment_variables": {},
   "exception": null,
   "input_path": "__notebook__.ipynb",
   "output_path": "__notebook__.ipynb",
   "parameters": {},
   "start_time": "2024-12-18T17:13:27.909906",
   "version": "2.6.0"
  },
  "widgets": {
   "application/vnd.jupyter.widget-state+json": {
    "0b6b6e8ab7f64b12b56c1fce841ef2a4": {
     "model_module": "@jupyter-widgets/controls",
     "model_module_version": "1.5.0",
     "model_name": "HTMLModel",
     "state": {
      "_dom_classes": [],
      "_model_module": "@jupyter-widgets/controls",
      "_model_module_version": "1.5.0",
      "_model_name": "HTMLModel",
      "_view_count": null,
      "_view_module": "@jupyter-widgets/controls",
      "_view_module_version": "1.5.0",
      "_view_name": "HTMLView",
      "description": "",
      "description_tooltip": null,
      "layout": "IPY_MODEL_c6d692dac6fb400688ef3a685541d606",
      "placeholder": "​",
      "style": "IPY_MODEL_364581c003b0485b861f9dac105b61fb",
      "value": " 1.47M/1.47M [00:00&lt;00:00, 7.12MB/s]"
     }
    },
    "0bb8623da385490ea0256e6029b13a2d": {
     "model_module": "@jupyter-widgets/controls",
     "model_module_version": "1.5.0",
     "model_name": "ProgressStyleModel",
     "state": {
      "_model_module": "@jupyter-widgets/controls",
      "_model_module_version": "1.5.0",
      "_model_name": "ProgressStyleModel",
      "_view_count": null,
      "_view_module": "@jupyter-widgets/base",
      "_view_module_version": "1.2.0",
      "_view_name": "StyleView",
      "bar_color": null,
      "description_width": ""
     }
    },
    "0c9761ace6f84483afecddc6cc4f8553": {
     "model_module": "@jupyter-widgets/base",
     "model_module_version": "1.2.0",
     "model_name": "LayoutModel",
     "state": {
      "_model_module": "@jupyter-widgets/base",
      "_model_module_version": "1.2.0",
      "_model_name": "LayoutModel",
      "_view_count": null,
      "_view_module": "@jupyter-widgets/base",
      "_view_module_version": "1.2.0",
      "_view_name": "LayoutView",
      "align_content": null,
      "align_items": null,
      "align_self": null,
      "border": null,
      "bottom": null,
      "display": null,
      "flex": null,
      "flex_flow": null,
      "grid_area": null,
      "grid_auto_columns": null,
      "grid_auto_flow": null,
      "grid_auto_rows": null,
      "grid_column": null,
      "grid_gap": null,
      "grid_row": null,
      "grid_template_areas": null,
      "grid_template_columns": null,
      "grid_template_rows": null,
      "height": null,
      "justify_content": null,
      "justify_items": null,
      "left": null,
      "margin": null,
      "max_height": null,
      "max_width": null,
      "min_height": null,
      "min_width": null,
      "object_fit": null,
      "object_position": null,
      "order": null,
      "overflow": null,
      "overflow_x": null,
      "overflow_y": null,
      "padding": null,
      "right": null,
      "top": null,
      "visibility": null,
      "width": null
     }
    },
    "167b417f3400416993c4f4cfefb09f64": {
     "model_module": "@jupyter-widgets/controls",
     "model_module_version": "1.5.0",
     "model_name": "HTMLModel",
     "state": {
      "_dom_classes": [],
      "_model_module": "@jupyter-widgets/controls",
      "_model_module_version": "1.5.0",
      "_model_name": "HTMLModel",
      "_view_count": null,
      "_view_module": "@jupyter-widgets/controls",
      "_view_module_version": "1.5.0",
      "_view_name": "HTMLView",
      "description": "",
      "description_tooltip": null,
      "layout": "IPY_MODEL_23432cacd41f411e98c74b1c5431dad6",
      "placeholder": "​",
      "style": "IPY_MODEL_4631e0a8c4404050a920a8ba980b672b",
      "value": "special_tokens_map.json: 100%"
     }
    },
    "17468aa0fa4842f4976a136251be571d": {
     "model_module": "@jupyter-widgets/controls",
     "model_module_version": "1.5.0",
     "model_name": "DescriptionStyleModel",
     "state": {
      "_model_module": "@jupyter-widgets/controls",
      "_model_module_version": "1.5.0",
      "_model_name": "DescriptionStyleModel",
      "_view_count": null,
      "_view_module": "@jupyter-widgets/base",
      "_view_module_version": "1.2.0",
      "_view_name": "StyleView",
      "description_width": ""
     }
    },
    "1a1ffff0f6524c93991455e227803b14": {
     "model_module": "@jupyter-widgets/base",
     "model_module_version": "1.2.0",
     "model_name": "LayoutModel",
     "state": {
      "_model_module": "@jupyter-widgets/base",
      "_model_module_version": "1.2.0",
      "_model_name": "LayoutModel",
      "_view_count": null,
      "_view_module": "@jupyter-widgets/base",
      "_view_module_version": "1.2.0",
      "_view_name": "LayoutView",
      "align_content": null,
      "align_items": null,
      "align_self": null,
      "border": null,
      "bottom": null,
      "display": null,
      "flex": null,
      "flex_flow": null,
      "grid_area": null,
      "grid_auto_columns": null,
      "grid_auto_flow": null,
      "grid_auto_rows": null,
      "grid_column": null,
      "grid_gap": null,
      "grid_row": null,
      "grid_template_areas": null,
      "grid_template_columns": null,
      "grid_template_rows": null,
      "height": null,
      "justify_content": null,
      "justify_items": null,
      "left": null,
      "margin": null,
      "max_height": null,
      "max_width": null,
      "min_height": null,
      "min_width": null,
      "object_fit": null,
      "object_position": null,
      "order": null,
      "overflow": null,
      "overflow_x": null,
      "overflow_y": null,
      "padding": null,
      "right": null,
      "top": null,
      "visibility": null,
      "width": null
     }
    },
    "1c1c2dd934a54936b6bcb7db0ecbc3b4": {
     "model_module": "@jupyter-widgets/base",
     "model_module_version": "1.2.0",
     "model_name": "LayoutModel",
     "state": {
      "_model_module": "@jupyter-widgets/base",
      "_model_module_version": "1.2.0",
      "_model_name": "LayoutModel",
      "_view_count": null,
      "_view_module": "@jupyter-widgets/base",
      "_view_module_version": "1.2.0",
      "_view_name": "LayoutView",
      "align_content": null,
      "align_items": null,
      "align_self": null,
      "border": null,
      "bottom": null,
      "display": null,
      "flex": null,
      "flex_flow": null,
      "grid_area": null,
      "grid_auto_columns": null,
      "grid_auto_flow": null,
      "grid_auto_rows": null,
      "grid_column": null,
      "grid_gap": null,
      "grid_row": null,
      "grid_template_areas": null,
      "grid_template_columns": null,
      "grid_template_rows": null,
      "height": null,
      "justify_content": null,
      "justify_items": null,
      "left": null,
      "margin": null,
      "max_height": null,
      "max_width": null,
      "min_height": null,
      "min_width": null,
      "object_fit": null,
      "object_position": null,
      "order": null,
      "overflow": null,
      "overflow_x": null,
      "overflow_y": null,
      "padding": null,
      "right": null,
      "top": null,
      "visibility": null,
      "width": null
     }
    },
    "1ee9343af56a4a7eb77a0fae4e6f814e": {
     "model_module": "@jupyter-widgets/base",
     "model_module_version": "1.2.0",
     "model_name": "LayoutModel",
     "state": {
      "_model_module": "@jupyter-widgets/base",
      "_model_module_version": "1.2.0",
      "_model_name": "LayoutModel",
      "_view_count": null,
      "_view_module": "@jupyter-widgets/base",
      "_view_module_version": "1.2.0",
      "_view_name": "LayoutView",
      "align_content": null,
      "align_items": null,
      "align_self": null,
      "border": null,
      "bottom": null,
      "display": null,
      "flex": null,
      "flex_flow": null,
      "grid_area": null,
      "grid_auto_columns": null,
      "grid_auto_flow": null,
      "grid_auto_rows": null,
      "grid_column": null,
      "grid_gap": null,
      "grid_row": null,
      "grid_template_areas": null,
      "grid_template_columns": null,
      "grid_template_rows": null,
      "height": null,
      "justify_content": null,
      "justify_items": null,
      "left": null,
      "margin": null,
      "max_height": null,
      "max_width": null,
      "min_height": null,
      "min_width": null,
      "object_fit": null,
      "object_position": null,
      "order": null,
      "overflow": null,
      "overflow_x": null,
      "overflow_y": null,
      "padding": null,
      "right": null,
      "top": null,
      "visibility": null,
      "width": null
     }
    },
    "1f4315465907416db2449ef43f5cdd94": {
     "model_module": "@jupyter-widgets/base",
     "model_module_version": "1.2.0",
     "model_name": "LayoutModel",
     "state": {
      "_model_module": "@jupyter-widgets/base",
      "_model_module_version": "1.2.0",
      "_model_name": "LayoutModel",
      "_view_count": null,
      "_view_module": "@jupyter-widgets/base",
      "_view_module_version": "1.2.0",
      "_view_name": "LayoutView",
      "align_content": null,
      "align_items": null,
      "align_self": null,
      "border": null,
      "bottom": null,
      "display": null,
      "flex": null,
      "flex_flow": null,
      "grid_area": null,
      "grid_auto_columns": null,
      "grid_auto_flow": null,
      "grid_auto_rows": null,
      "grid_column": null,
      "grid_gap": null,
      "grid_row": null,
      "grid_template_areas": null,
      "grid_template_columns": null,
      "grid_template_rows": null,
      "height": null,
      "justify_content": null,
      "justify_items": null,
      "left": null,
      "margin": null,
      "max_height": null,
      "max_width": null,
      "min_height": null,
      "min_width": null,
      "object_fit": null,
      "object_position": null,
      "order": null,
      "overflow": null,
      "overflow_x": null,
      "overflow_y": null,
      "padding": null,
      "right": null,
      "top": null,
      "visibility": null,
      "width": null
     }
    },
    "1fedc5b2b3c9417b94b8fdcc7cdcf89d": {
     "model_module": "@jupyter-widgets/base",
     "model_module_version": "1.2.0",
     "model_name": "LayoutModel",
     "state": {
      "_model_module": "@jupyter-widgets/base",
      "_model_module_version": "1.2.0",
      "_model_name": "LayoutModel",
      "_view_count": null,
      "_view_module": "@jupyter-widgets/base",
      "_view_module_version": "1.2.0",
      "_view_name": "LayoutView",
      "align_content": null,
      "align_items": null,
      "align_self": null,
      "border": null,
      "bottom": null,
      "display": null,
      "flex": null,
      "flex_flow": null,
      "grid_area": null,
      "grid_auto_columns": null,
      "grid_auto_flow": null,
      "grid_auto_rows": null,
      "grid_column": null,
      "grid_gap": null,
      "grid_row": null,
      "grid_template_areas": null,
      "grid_template_columns": null,
      "grid_template_rows": null,
      "height": null,
      "justify_content": null,
      "justify_items": null,
      "left": null,
      "margin": null,
      "max_height": null,
      "max_width": null,
      "min_height": null,
      "min_width": null,
      "object_fit": null,
      "object_position": null,
      "order": null,
      "overflow": null,
      "overflow_x": null,
      "overflow_y": null,
      "padding": null,
      "right": null,
      "top": null,
      "visibility": null,
      "width": null
     }
    },
    "203ff52c75fc47d29e4e36b68156f0af": {
     "model_module": "@jupyter-widgets/controls",
     "model_module_version": "1.5.0",
     "model_name": "HTMLModel",
     "state": {
      "_dom_classes": [],
      "_model_module": "@jupyter-widgets/controls",
      "_model_module_version": "1.5.0",
      "_model_name": "HTMLModel",
      "_view_count": null,
      "_view_module": "@jupyter-widgets/controls",
      "_view_module_version": "1.5.0",
      "_view_name": "HTMLView",
      "description": "",
      "description_tooltip": null,
      "layout": "IPY_MODEL_aa27c7aa1f7a43e8a8cd108afdbb4c76",
      "placeholder": "​",
      "style": "IPY_MODEL_17468aa0fa4842f4976a136251be571d",
      "value": "Map: 100%"
     }
    },
    "23432cacd41f411e98c74b1c5431dad6": {
     "model_module": "@jupyter-widgets/base",
     "model_module_version": "1.2.0",
     "model_name": "LayoutModel",
     "state": {
      "_model_module": "@jupyter-widgets/base",
      "_model_module_version": "1.2.0",
      "_model_name": "LayoutModel",
      "_view_count": null,
      "_view_module": "@jupyter-widgets/base",
      "_view_module_version": "1.2.0",
      "_view_name": "LayoutView",
      "align_content": null,
      "align_items": null,
      "align_self": null,
      "border": null,
      "bottom": null,
      "display": null,
      "flex": null,
      "flex_flow": null,
      "grid_area": null,
      "grid_auto_columns": null,
      "grid_auto_flow": null,
      "grid_auto_rows": null,
      "grid_column": null,
      "grid_gap": null,
      "grid_row": null,
      "grid_template_areas": null,
      "grid_template_columns": null,
      "grid_template_rows": null,
      "height": null,
      "justify_content": null,
      "justify_items": null,
      "left": null,
      "margin": null,
      "max_height": null,
      "max_width": null,
      "min_height": null,
      "min_width": null,
      "object_fit": null,
      "object_position": null,
      "order": null,
      "overflow": null,
      "overflow_x": null,
      "overflow_y": null,
      "padding": null,
      "right": null,
      "top": null,
      "visibility": null,
      "width": null
     }
    },
    "238785cd70be4abbadfb1ce3ac1bf8d9": {
     "model_module": "@jupyter-widgets/controls",
     "model_module_version": "1.5.0",
     "model_name": "HTMLModel",
     "state": {
      "_dom_classes": [],
      "_model_module": "@jupyter-widgets/controls",
      "_model_module_version": "1.5.0",
      "_model_name": "HTMLModel",
      "_view_count": null,
      "_view_module": "@jupyter-widgets/controls",
      "_view_module_version": "1.5.0",
      "_view_name": "HTMLView",
      "description": "",
      "description_tooltip": null,
      "layout": "IPY_MODEL_9381fdeebf344449a22f8a6a4606d0d6",
      "placeholder": "​",
      "style": "IPY_MODEL_7b87c077858348dca50513f0ccf10f02",
      "value": "vocab.txt: 100%"
     }
    },
    "2782ca6250a04efb9692556b87e27556": {
     "model_module": "@jupyter-widgets/controls",
     "model_module_version": "1.5.0",
     "model_name": "FloatProgressModel",
     "state": {
      "_dom_classes": [],
      "_model_module": "@jupyter-widgets/controls",
      "_model_module_version": "1.5.0",
      "_model_name": "FloatProgressModel",
      "_view_count": null,
      "_view_module": "@jupyter-widgets/controls",
      "_view_module_version": "1.5.0",
      "_view_name": "ProgressView",
      "bar_style": "success",
      "description": "",
      "description_tooltip": null,
      "layout": "IPY_MODEL_52e84fab7d7540cda08a1bf8dcf93ea3",
      "max": 611,
      "min": 0,
      "orientation": "horizontal",
      "style": "IPY_MODEL_c9460fe7ec6c4f51a8b0e9e9cb3e24e9",
      "value": 611
     }
    },
    "293204c834584355853f1959d5e9072f": {
     "model_module": "@jupyter-widgets/controls",
     "model_module_version": "1.5.0",
     "model_name": "ProgressStyleModel",
     "state": {
      "_model_module": "@jupyter-widgets/controls",
      "_model_module_version": "1.5.0",
      "_model_name": "ProgressStyleModel",
      "_view_count": null,
      "_view_module": "@jupyter-widgets/base",
      "_view_module_version": "1.2.0",
      "_view_name": "StyleView",
      "bar_color": null,
      "description_width": ""
     }
    },
    "2b46cec3733c4d0382d8d822d0cfea75": {
     "model_module": "@jupyter-widgets/controls",
     "model_module_version": "1.5.0",
     "model_name": "HTMLModel",
     "state": {
      "_dom_classes": [],
      "_model_module": "@jupyter-widgets/controls",
      "_model_module_version": "1.5.0",
      "_model_name": "HTMLModel",
      "_view_count": null,
      "_view_module": "@jupyter-widgets/controls",
      "_view_module_version": "1.5.0",
      "_view_name": "HTMLView",
      "description": "",
      "description_tooltip": null,
      "layout": "IPY_MODEL_1fedc5b2b3c9417b94b8fdcc7cdcf89d",
      "placeholder": "​",
      "style": "IPY_MODEL_5537f07d2e7141c79033f98eb7b34155",
      "value": " 125/125 [00:00&lt;00:00, 5.28kB/s]"
     }
    },
    "316786c239f5483e8da0001eff97fa70": {
     "model_module": "@jupyter-widgets/base",
     "model_module_version": "1.2.0",
     "model_name": "LayoutModel",
     "state": {
      "_model_module": "@jupyter-widgets/base",
      "_model_module_version": "1.2.0",
      "_model_name": "LayoutModel",
      "_view_count": null,
      "_view_module": "@jupyter-widgets/base",
      "_view_module_version": "1.2.0",
      "_view_name": "LayoutView",
      "align_content": null,
      "align_items": null,
      "align_self": null,
      "border": null,
      "bottom": null,
      "display": null,
      "flex": null,
      "flex_flow": null,
      "grid_area": null,
      "grid_auto_columns": null,
      "grid_auto_flow": null,
      "grid_auto_rows": null,
      "grid_column": null,
      "grid_gap": null,
      "grid_row": null,
      "grid_template_areas": null,
      "grid_template_columns": null,
      "grid_template_rows": null,
      "height": null,
      "justify_content": null,
      "justify_items": null,
      "left": null,
      "margin": null,
      "max_height": null,
      "max_width": null,
      "min_height": null,
      "min_width": null,
      "object_fit": null,
      "object_position": null,
      "order": null,
      "overflow": null,
      "overflow_x": null,
      "overflow_y": null,
      "padding": null,
      "right": null,
      "top": null,
      "visibility": null,
      "width": null
     }
    },
    "364581c003b0485b861f9dac105b61fb": {
     "model_module": "@jupyter-widgets/controls",
     "model_module_version": "1.5.0",
     "model_name": "DescriptionStyleModel",
     "state": {
      "_model_module": "@jupyter-widgets/controls",
      "_model_module_version": "1.5.0",
      "_model_name": "DescriptionStyleModel",
      "_view_count": null,
      "_view_module": "@jupyter-widgets/base",
      "_view_module_version": "1.2.0",
      "_view_name": "StyleView",
      "description_width": ""
     }
    },
    "38c6d2c3394a4c429d4153c6cecf5c41": {
     "model_module": "@jupyter-widgets/controls",
     "model_module_version": "1.5.0",
     "model_name": "DescriptionStyleModel",
     "state": {
      "_model_module": "@jupyter-widgets/controls",
      "_model_module_version": "1.5.0",
      "_model_name": "DescriptionStyleModel",
      "_view_count": null,
      "_view_module": "@jupyter-widgets/base",
      "_view_module_version": "1.2.0",
      "_view_name": "StyleView",
      "description_width": ""
     }
    },
    "3d3a44517c1e41f699ea660a3e38b2dd": {
     "model_module": "@jupyter-widgets/controls",
     "model_module_version": "1.5.0",
     "model_name": "HTMLModel",
     "state": {
      "_dom_classes": [],
      "_model_module": "@jupyter-widgets/controls",
      "_model_module_version": "1.5.0",
      "_model_name": "HTMLModel",
      "_view_count": null,
      "_view_module": "@jupyter-widgets/controls",
      "_view_module_version": "1.5.0",
      "_view_name": "HTMLView",
      "description": "",
      "description_tooltip": null,
      "layout": "IPY_MODEL_d9b6fb0b17e546cbb70fa86cecf31b28",
      "placeholder": "​",
      "style": "IPY_MODEL_98aaa40390604e5d998cf98915d0a042",
      "value": "tokenizer_config.json: 100%"
     }
    },
    "411c36b8f2a04a979b403b77a313397a": {
     "model_module": "@jupyter-widgets/controls",
     "model_module_version": "1.5.0",
     "model_name": "DescriptionStyleModel",
     "state": {
      "_model_module": "@jupyter-widgets/controls",
      "_model_module_version": "1.5.0",
      "_model_name": "DescriptionStyleModel",
      "_view_count": null,
      "_view_module": "@jupyter-widgets/base",
      "_view_module_version": "1.2.0",
      "_view_name": "StyleView",
      "description_width": ""
     }
    },
    "4166fa53d9ef4bcfa36eb271477bdeb6": {
     "model_module": "@jupyter-widgets/controls",
     "model_module_version": "1.5.0",
     "model_name": "HTMLModel",
     "state": {
      "_dom_classes": [],
      "_model_module": "@jupyter-widgets/controls",
      "_model_module_version": "1.5.0",
      "_model_name": "HTMLModel",
      "_view_count": null,
      "_view_module": "@jupyter-widgets/controls",
      "_view_module_version": "1.5.0",
      "_view_name": "HTMLView",
      "description": "",
      "description_tooltip": null,
      "layout": "IPY_MODEL_da521f1f92254b74af7e0e4108601c24",
      "placeholder": "​",
      "style": "IPY_MODEL_fd4e49e375174e0ea0038fc0adb5f1c3",
      "value": "model.safetensors: 100%"
     }
    },
    "41a122a80285451d9f05c937118066c4": {
     "model_module": "@jupyter-widgets/controls",
     "model_module_version": "1.5.0",
     "model_name": "HTMLModel",
     "state": {
      "_dom_classes": [],
      "_model_module": "@jupyter-widgets/controls",
      "_model_module_version": "1.5.0",
      "_model_name": "HTMLModel",
      "_view_count": null,
      "_view_module": "@jupyter-widgets/controls",
      "_view_module_version": "1.5.0",
      "_view_name": "HTMLView",
      "description": "",
      "description_tooltip": null,
      "layout": "IPY_MODEL_7b9c4b49ca3b438f8b88d82f2f9b732c",
      "placeholder": "​",
      "style": "IPY_MODEL_b01c449d8644453c8a4f695bbc56f339",
      "value": " 611/611 [00:00&lt;00:00, 17.7kB/s]"
     }
    },
    "42990eb1ecf741ab8fdb37251b6d8304": {
     "model_module": "@jupyter-widgets/base",
     "model_module_version": "1.2.0",
     "model_name": "LayoutModel",
     "state": {
      "_model_module": "@jupyter-widgets/base",
      "_model_module_version": "1.2.0",
      "_model_name": "LayoutModel",
      "_view_count": null,
      "_view_module": "@jupyter-widgets/base",
      "_view_module_version": "1.2.0",
      "_view_name": "LayoutView",
      "align_content": null,
      "align_items": null,
      "align_self": null,
      "border": null,
      "bottom": null,
      "display": null,
      "flex": null,
      "flex_flow": null,
      "grid_area": null,
      "grid_auto_columns": null,
      "grid_auto_flow": null,
      "grid_auto_rows": null,
      "grid_column": null,
      "grid_gap": null,
      "grid_row": null,
      "grid_template_areas": null,
      "grid_template_columns": null,
      "grid_template_rows": null,
      "height": null,
      "justify_content": null,
      "justify_items": null,
      "left": null,
      "margin": null,
      "max_height": null,
      "max_width": null,
      "min_height": null,
      "min_width": null,
      "object_fit": null,
      "object_position": null,
      "order": null,
      "overflow": null,
      "overflow_x": null,
      "overflow_y": null,
      "padding": null,
      "right": null,
      "top": null,
      "visibility": null,
      "width": null
     }
    },
    "431205194c9c40209444ba59b1b118c0": {
     "model_module": "@jupyter-widgets/controls",
     "model_module_version": "1.5.0",
     "model_name": "DescriptionStyleModel",
     "state": {
      "_model_module": "@jupyter-widgets/controls",
      "_model_module_version": "1.5.0",
      "_model_name": "DescriptionStyleModel",
      "_view_count": null,
      "_view_module": "@jupyter-widgets/base",
      "_view_module_version": "1.2.0",
      "_view_name": "StyleView",
      "description_width": ""
     }
    },
    "4631e0a8c4404050a920a8ba980b672b": {
     "model_module": "@jupyter-widgets/controls",
     "model_module_version": "1.5.0",
     "model_name": "DescriptionStyleModel",
     "state": {
      "_model_module": "@jupyter-widgets/controls",
      "_model_module_version": "1.5.0",
      "_model_name": "DescriptionStyleModel",
      "_view_count": null,
      "_view_module": "@jupyter-widgets/base",
      "_view_module_version": "1.2.0",
      "_view_name": "StyleView",
      "description_width": ""
     }
    },
    "467296637c134eaf803091954c0704c0": {
     "model_module": "@jupyter-widgets/controls",
     "model_module_version": "1.5.0",
     "model_name": "ProgressStyleModel",
     "state": {
      "_model_module": "@jupyter-widgets/controls",
      "_model_module_version": "1.5.0",
      "_model_name": "ProgressStyleModel",
      "_view_count": null,
      "_view_module": "@jupyter-widgets/base",
      "_view_module_version": "1.2.0",
      "_view_name": "StyleView",
      "bar_color": null,
      "description_width": ""
     }
    },
    "475cb99d1bab44b8a20e343886ae0b36": {
     "model_module": "@jupyter-widgets/controls",
     "model_module_version": "1.5.0",
     "model_name": "HTMLModel",
     "state": {
      "_dom_classes": [],
      "_model_module": "@jupyter-widgets/controls",
      "_model_module_version": "1.5.0",
      "_model_name": "HTMLModel",
      "_view_count": null,
      "_view_module": "@jupyter-widgets/controls",
      "_view_module_version": "1.5.0",
      "_view_name": "HTMLView",
      "description": "",
      "description_tooltip": null,
      "layout": "IPY_MODEL_42990eb1ecf741ab8fdb37251b6d8304",
      "placeholder": "​",
      "style": "IPY_MODEL_5e151325774e41eab0428da02c36d017",
      "value": " 59999/59999 [00:03&lt;00:00, 16478.47 examples/s]"
     }
    },
    "52e84fab7d7540cda08a1bf8dcf93ea3": {
     "model_module": "@jupyter-widgets/base",
     "model_module_version": "1.2.0",
     "model_name": "LayoutModel",
     "state": {
      "_model_module": "@jupyter-widgets/base",
      "_model_module_version": "1.2.0",
      "_model_name": "LayoutModel",
      "_view_count": null,
      "_view_module": "@jupyter-widgets/base",
      "_view_module_version": "1.2.0",
      "_view_name": "LayoutView",
      "align_content": null,
      "align_items": null,
      "align_self": null,
      "border": null,
      "bottom": null,
      "display": null,
      "flex": null,
      "flex_flow": null,
      "grid_area": null,
      "grid_auto_columns": null,
      "grid_auto_flow": null,
      "grid_auto_rows": null,
      "grid_column": null,
      "grid_gap": null,
      "grid_row": null,
      "grid_template_areas": null,
      "grid_template_columns": null,
      "grid_template_rows": null,
      "height": null,
      "justify_content": null,
      "justify_items": null,
      "left": null,
      "margin": null,
      "max_height": null,
      "max_width": null,
      "min_height": null,
      "min_width": null,
      "object_fit": null,
      "object_position": null,
      "order": null,
      "overflow": null,
      "overflow_x": null,
      "overflow_y": null,
      "padding": null,
      "right": null,
      "top": null,
      "visibility": null,
      "width": null
     }
    },
    "5537f07d2e7141c79033f98eb7b34155": {
     "model_module": "@jupyter-widgets/controls",
     "model_module_version": "1.5.0",
     "model_name": "DescriptionStyleModel",
     "state": {
      "_model_module": "@jupyter-widgets/controls",
      "_model_module_version": "1.5.0",
      "_model_name": "DescriptionStyleModel",
      "_view_count": null,
      "_view_module": "@jupyter-widgets/base",
      "_view_module_version": "1.2.0",
      "_view_name": "StyleView",
      "description_width": ""
     }
    },
    "5adbffb084764182aac4d9fdcf85575f": {
     "model_module": "@jupyter-widgets/controls",
     "model_module_version": "1.5.0",
     "model_name": "HTMLModel",
     "state": {
      "_dom_classes": [],
      "_model_module": "@jupyter-widgets/controls",
      "_model_module_version": "1.5.0",
      "_model_name": "HTMLModel",
      "_view_count": null,
      "_view_module": "@jupyter-widgets/controls",
      "_view_module_version": "1.5.0",
      "_view_name": "HTMLView",
      "description": "",
      "description_tooltip": null,
      "layout": "IPY_MODEL_6b5ac3e8a1404fa09793240edb636cc2",
      "placeholder": "​",
      "style": "IPY_MODEL_abaef79008bd4e509e8bc6bb9f9468d4",
      "value": " 4.31M/4.31M [00:00&lt;00:00, 15.1MB/s]"
     }
    },
    "5c4d7be4c1de4d93a5389004ed18eb12": {
     "model_module": "@jupyter-widgets/base",
     "model_module_version": "1.2.0",
     "model_name": "LayoutModel",
     "state": {
      "_model_module": "@jupyter-widgets/base",
      "_model_module_version": "1.2.0",
      "_model_name": "LayoutModel",
      "_view_count": null,
      "_view_module": "@jupyter-widgets/base",
      "_view_module_version": "1.2.0",
      "_view_name": "LayoutView",
      "align_content": null,
      "align_items": null,
      "align_self": null,
      "border": null,
      "bottom": null,
      "display": null,
      "flex": null,
      "flex_flow": null,
      "grid_area": null,
      "grid_auto_columns": null,
      "grid_auto_flow": null,
      "grid_auto_rows": null,
      "grid_column": null,
      "grid_gap": null,
      "grid_row": null,
      "grid_template_areas": null,
      "grid_template_columns": null,
      "grid_template_rows": null,
      "height": null,
      "justify_content": null,
      "justify_items": null,
      "left": null,
      "margin": null,
      "max_height": null,
      "max_width": null,
      "min_height": null,
      "min_width": null,
      "object_fit": null,
      "object_position": null,
      "order": null,
      "overflow": null,
      "overflow_x": null,
      "overflow_y": null,
      "padding": null,
      "right": null,
      "top": null,
      "visibility": null,
      "width": null
     }
    },
    "5e151325774e41eab0428da02c36d017": {
     "model_module": "@jupyter-widgets/controls",
     "model_module_version": "1.5.0",
     "model_name": "DescriptionStyleModel",
     "state": {
      "_model_module": "@jupyter-widgets/controls",
      "_model_module_version": "1.5.0",
      "_model_name": "DescriptionStyleModel",
      "_view_count": null,
      "_view_module": "@jupyter-widgets/base",
      "_view_module_version": "1.2.0",
      "_view_name": "StyleView",
      "description_width": ""
     }
    },
    "60631af6e44d4e17ac48c93b955684a2": {
     "model_module": "@jupyter-widgets/controls",
     "model_module_version": "1.5.0",
     "model_name": "FloatProgressModel",
     "state": {
      "_dom_classes": [],
      "_model_module": "@jupyter-widgets/controls",
      "_model_module_version": "1.5.0",
      "_model_name": "FloatProgressModel",
      "_view_count": null,
      "_view_module": "@jupyter-widgets/controls",
      "_view_module_version": "1.5.0",
      "_view_name": "ProgressView",
      "bar_style": "success",
      "description": "",
      "description_tooltip": null,
      "layout": "IPY_MODEL_1f4315465907416db2449ef43f5cdd94",
      "max": 125,
      "min": 0,
      "orientation": "horizontal",
      "style": "IPY_MODEL_bc136904501149ad9d85770c717af6e8",
      "value": 125
     }
    },
    "6a4276522aa14729bf5e275354ef7eeb": {
     "model_module": "@jupyter-widgets/controls",
     "model_module_version": "1.5.0",
     "model_name": "HTMLModel",
     "state": {
      "_dom_classes": [],
      "_model_module": "@jupyter-widgets/controls",
      "_model_module_version": "1.5.0",
      "_model_name": "HTMLModel",
      "_view_count": null,
      "_view_module": "@jupyter-widgets/controls",
      "_view_module_version": "1.5.0",
      "_view_name": "HTMLView",
      "description": "",
      "description_tooltip": null,
      "layout": "IPY_MODEL_0c9761ace6f84483afecddc6cc4f8553",
      "placeholder": "​",
      "style": "IPY_MODEL_ab98b8ef63d44ae48459a17995e7cfcc",
      "value": " 367/367 [00:00&lt;00:00, 7.68kB/s]"
     }
    },
    "6b5ac3e8a1404fa09793240edb636cc2": {
     "model_module": "@jupyter-widgets/base",
     "model_module_version": "1.2.0",
     "model_name": "LayoutModel",
     "state": {
      "_model_module": "@jupyter-widgets/base",
      "_model_module_version": "1.2.0",
      "_model_name": "LayoutModel",
      "_view_count": null,
      "_view_module": "@jupyter-widgets/base",
      "_view_module_version": "1.2.0",
      "_view_name": "LayoutView",
      "align_content": null,
      "align_items": null,
      "align_self": null,
      "border": null,
      "bottom": null,
      "display": null,
      "flex": null,
      "flex_flow": null,
      "grid_area": null,
      "grid_auto_columns": null,
      "grid_auto_flow": null,
      "grid_auto_rows": null,
      "grid_column": null,
      "grid_gap": null,
      "grid_row": null,
      "grid_template_areas": null,
      "grid_template_columns": null,
      "grid_template_rows": null,
      "height": null,
      "justify_content": null,
      "justify_items": null,
      "left": null,
      "margin": null,
      "max_height": null,
      "max_width": null,
      "min_height": null,
      "min_width": null,
      "object_fit": null,
      "object_position": null,
      "order": null,
      "overflow": null,
      "overflow_x": null,
      "overflow_y": null,
      "padding": null,
      "right": null,
      "top": null,
      "visibility": null,
      "width": null
     }
    },
    "735633f6195542448128f02cc1ef6ed3": {
     "model_module": "@jupyter-widgets/controls",
     "model_module_version": "1.5.0",
     "model_name": "DescriptionStyleModel",
     "state": {
      "_model_module": "@jupyter-widgets/controls",
      "_model_module_version": "1.5.0",
      "_model_name": "DescriptionStyleModel",
      "_view_count": null,
      "_view_module": "@jupyter-widgets/base",
      "_view_module_version": "1.2.0",
      "_view_name": "StyleView",
      "description_width": ""
     }
    },
    "7a534a62cc7147f494f4701e5dd60072": {
     "model_module": "@jupyter-widgets/base",
     "model_module_version": "1.2.0",
     "model_name": "LayoutModel",
     "state": {
      "_model_module": "@jupyter-widgets/base",
      "_model_module_version": "1.2.0",
      "_model_name": "LayoutModel",
      "_view_count": null,
      "_view_module": "@jupyter-widgets/base",
      "_view_module_version": "1.2.0",
      "_view_name": "LayoutView",
      "align_content": null,
      "align_items": null,
      "align_self": null,
      "border": null,
      "bottom": null,
      "display": null,
      "flex": null,
      "flex_flow": null,
      "grid_area": null,
      "grid_auto_columns": null,
      "grid_auto_flow": null,
      "grid_auto_rows": null,
      "grid_column": null,
      "grid_gap": null,
      "grid_row": null,
      "grid_template_areas": null,
      "grid_template_columns": null,
      "grid_template_rows": null,
      "height": null,
      "justify_content": null,
      "justify_items": null,
      "left": null,
      "margin": null,
      "max_height": null,
      "max_width": null,
      "min_height": null,
      "min_width": null,
      "object_fit": null,
      "object_position": null,
      "order": null,
      "overflow": null,
      "overflow_x": null,
      "overflow_y": null,
      "padding": null,
      "right": null,
      "top": null,
      "visibility": null,
      "width": null
     }
    },
    "7b87c077858348dca50513f0ccf10f02": {
     "model_module": "@jupyter-widgets/controls",
     "model_module_version": "1.5.0",
     "model_name": "DescriptionStyleModel",
     "state": {
      "_model_module": "@jupyter-widgets/controls",
      "_model_module_version": "1.5.0",
      "_model_name": "DescriptionStyleModel",
      "_view_count": null,
      "_view_module": "@jupyter-widgets/base",
      "_view_module_version": "1.2.0",
      "_view_name": "StyleView",
      "description_width": ""
     }
    },
    "7b9c4b49ca3b438f8b88d82f2f9b732c": {
     "model_module": "@jupyter-widgets/base",
     "model_module_version": "1.2.0",
     "model_name": "LayoutModel",
     "state": {
      "_model_module": "@jupyter-widgets/base",
      "_model_module_version": "1.2.0",
      "_model_name": "LayoutModel",
      "_view_count": null,
      "_view_module": "@jupyter-widgets/base",
      "_view_module_version": "1.2.0",
      "_view_name": "LayoutView",
      "align_content": null,
      "align_items": null,
      "align_self": null,
      "border": null,
      "bottom": null,
      "display": null,
      "flex": null,
      "flex_flow": null,
      "grid_area": null,
      "grid_auto_columns": null,
      "grid_auto_flow": null,
      "grid_auto_rows": null,
      "grid_column": null,
      "grid_gap": null,
      "grid_row": null,
      "grid_template_areas": null,
      "grid_template_columns": null,
      "grid_template_rows": null,
      "height": null,
      "justify_content": null,
      "justify_items": null,
      "left": null,
      "margin": null,
      "max_height": null,
      "max_width": null,
      "min_height": null,
      "min_width": null,
      "object_fit": null,
      "object_position": null,
      "order": null,
      "overflow": null,
      "overflow_x": null,
      "overflow_y": null,
      "padding": null,
      "right": null,
      "top": null,
      "visibility": null,
      "width": null
     }
    },
    "81fbd91573b047b7a5d33c5e9fc80aa7": {
     "model_module": "@jupyter-widgets/controls",
     "model_module_version": "1.5.0",
     "model_name": "HBoxModel",
     "state": {
      "_dom_classes": [],
      "_model_module": "@jupyter-widgets/controls",
      "_model_module_version": "1.5.0",
      "_model_name": "HBoxModel",
      "_view_count": null,
      "_view_module": "@jupyter-widgets/controls",
      "_view_module_version": "1.5.0",
      "_view_name": "HBoxView",
      "box_style": "",
      "children": [
       "IPY_MODEL_3d3a44517c1e41f699ea660a3e38b2dd",
       "IPY_MODEL_d4270ac00f1e41a5bd7dd990e2441e00",
       "IPY_MODEL_6a4276522aa14729bf5e275354ef7eeb"
      ],
      "layout": "IPY_MODEL_7a534a62cc7147f494f4701e5dd60072"
     }
    },
    "85020bbf4119485e93be636817e673c5": {
     "model_module": "@jupyter-widgets/base",
     "model_module_version": "1.2.0",
     "model_name": "LayoutModel",
     "state": {
      "_model_module": "@jupyter-widgets/base",
      "_model_module_version": "1.2.0",
      "_model_name": "LayoutModel",
      "_view_count": null,
      "_view_module": "@jupyter-widgets/base",
      "_view_module_version": "1.2.0",
      "_view_name": "LayoutView",
      "align_content": null,
      "align_items": null,
      "align_self": null,
      "border": null,
      "bottom": null,
      "display": null,
      "flex": null,
      "flex_flow": null,
      "grid_area": null,
      "grid_auto_columns": null,
      "grid_auto_flow": null,
      "grid_auto_rows": null,
      "grid_column": null,
      "grid_gap": null,
      "grid_row": null,
      "grid_template_areas": null,
      "grid_template_columns": null,
      "grid_template_rows": null,
      "height": null,
      "justify_content": null,
      "justify_items": null,
      "left": null,
      "margin": null,
      "max_height": null,
      "max_width": null,
      "min_height": null,
      "min_width": null,
      "object_fit": null,
      "object_position": null,
      "order": null,
      "overflow": null,
      "overflow_x": null,
      "overflow_y": null,
      "padding": null,
      "right": null,
      "top": null,
      "visibility": null,
      "width": null
     }
    },
    "8eb50186808b4fcbb843a5ca9411caac": {
     "model_module": "@jupyter-widgets/controls",
     "model_module_version": "1.5.0",
     "model_name": "ProgressStyleModel",
     "state": {
      "_model_module": "@jupyter-widgets/controls",
      "_model_module_version": "1.5.0",
      "_model_name": "ProgressStyleModel",
      "_view_count": null,
      "_view_module": "@jupyter-widgets/base",
      "_view_module_version": "1.2.0",
      "_view_name": "StyleView",
      "bar_color": null,
      "description_width": ""
     }
    },
    "8ffd629edd8a4f46a7f2f5856093ac01": {
     "model_module": "@jupyter-widgets/controls",
     "model_module_version": "1.5.0",
     "model_name": "HTMLModel",
     "state": {
      "_dom_classes": [],
      "_model_module": "@jupyter-widgets/controls",
      "_model_module_version": "1.5.0",
      "_model_name": "HTMLModel",
      "_view_count": null,
      "_view_module": "@jupyter-widgets/controls",
      "_view_module_version": "1.5.0",
      "_view_name": "HTMLView",
      "description": "",
      "description_tooltip": null,
      "layout": "IPY_MODEL_d2d9f991aec44280bca09fe6e82670f9",
      "placeholder": "​",
      "style": "IPY_MODEL_431205194c9c40209444ba59b1b118c0",
      "value": " 877M/877M [00:03&lt;00:00, 252MB/s]"
     }
    },
    "9080469861874232bfa577d87ce539f2": {
     "model_module": "@jupyter-widgets/base",
     "model_module_version": "1.2.0",
     "model_name": "LayoutModel",
     "state": {
      "_model_module": "@jupyter-widgets/base",
      "_model_module_version": "1.2.0",
      "_model_name": "LayoutModel",
      "_view_count": null,
      "_view_module": "@jupyter-widgets/base",
      "_view_module_version": "1.2.0",
      "_view_name": "LayoutView",
      "align_content": null,
      "align_items": null,
      "align_self": null,
      "border": null,
      "bottom": null,
      "display": null,
      "flex": null,
      "flex_flow": null,
      "grid_area": null,
      "grid_auto_columns": null,
      "grid_auto_flow": null,
      "grid_auto_rows": null,
      "grid_column": null,
      "grid_gap": null,
      "grid_row": null,
      "grid_template_areas": null,
      "grid_template_columns": null,
      "grid_template_rows": null,
      "height": null,
      "justify_content": null,
      "justify_items": null,
      "left": null,
      "margin": null,
      "max_height": null,
      "max_width": null,
      "min_height": null,
      "min_width": null,
      "object_fit": null,
      "object_position": null,
      "order": null,
      "overflow": null,
      "overflow_x": null,
      "overflow_y": null,
      "padding": null,
      "right": null,
      "top": null,
      "visibility": null,
      "width": null
     }
    },
    "9381fdeebf344449a22f8a6a4606d0d6": {
     "model_module": "@jupyter-widgets/base",
     "model_module_version": "1.2.0",
     "model_name": "LayoutModel",
     "state": {
      "_model_module": "@jupyter-widgets/base",
      "_model_module_version": "1.2.0",
      "_model_name": "LayoutModel",
      "_view_count": null,
      "_view_module": "@jupyter-widgets/base",
      "_view_module_version": "1.2.0",
      "_view_name": "LayoutView",
      "align_content": null,
      "align_items": null,
      "align_self": null,
      "border": null,
      "bottom": null,
      "display": null,
      "flex": null,
      "flex_flow": null,
      "grid_area": null,
      "grid_auto_columns": null,
      "grid_auto_flow": null,
      "grid_auto_rows": null,
      "grid_column": null,
      "grid_gap": null,
      "grid_row": null,
      "grid_template_areas": null,
      "grid_template_columns": null,
      "grid_template_rows": null,
      "height": null,
      "justify_content": null,
      "justify_items": null,
      "left": null,
      "margin": null,
      "max_height": null,
      "max_width": null,
      "min_height": null,
      "min_width": null,
      "object_fit": null,
      "object_position": null,
      "order": null,
      "overflow": null,
      "overflow_x": null,
      "overflow_y": null,
      "padding": null,
      "right": null,
      "top": null,
      "visibility": null,
      "width": null
     }
    },
    "97fbfbf3b38d4805b51c9196b722ac5d": {
     "model_module": "@jupyter-widgets/controls",
     "model_module_version": "1.5.0",
     "model_name": "HTMLModel",
     "state": {
      "_dom_classes": [],
      "_model_module": "@jupyter-widgets/controls",
      "_model_module_version": "1.5.0",
      "_model_name": "HTMLModel",
      "_view_count": null,
      "_view_module": "@jupyter-widgets/controls",
      "_view_module_version": "1.5.0",
      "_view_name": "HTMLView",
      "description": "",
      "description_tooltip": null,
      "layout": "IPY_MODEL_85020bbf4119485e93be636817e673c5",
      "placeholder": "​",
      "style": "IPY_MODEL_411c36b8f2a04a979b403b77a313397a",
      "value": " 20000/20000 [00:01&lt;00:00, 16618.08 examples/s]"
     }
    },
    "98aaa40390604e5d998cf98915d0a042": {
     "model_module": "@jupyter-widgets/controls",
     "model_module_version": "1.5.0",
     "model_name": "DescriptionStyleModel",
     "state": {
      "_model_module": "@jupyter-widgets/controls",
      "_model_module_version": "1.5.0",
      "_model_name": "DescriptionStyleModel",
      "_view_count": null,
      "_view_module": "@jupyter-widgets/base",
      "_view_module_version": "1.2.0",
      "_view_name": "StyleView",
      "description_width": ""
     }
    },
    "a0eb5f3954774ef3a25615b4627656fc": {
     "model_module": "@jupyter-widgets/controls",
     "model_module_version": "1.5.0",
     "model_name": "ProgressStyleModel",
     "state": {
      "_model_module": "@jupyter-widgets/controls",
      "_model_module_version": "1.5.0",
      "_model_name": "ProgressStyleModel",
      "_view_count": null,
      "_view_module": "@jupyter-widgets/base",
      "_view_module_version": "1.2.0",
      "_view_name": "StyleView",
      "bar_color": null,
      "description_width": ""
     }
    },
    "a48ba69d1cfc4b5da6b6673f14b77a24": {
     "model_module": "@jupyter-widgets/controls",
     "model_module_version": "1.5.0",
     "model_name": "FloatProgressModel",
     "state": {
      "_dom_classes": [],
      "_model_module": "@jupyter-widgets/controls",
      "_model_module_version": "1.5.0",
      "_model_name": "FloatProgressModel",
      "_view_count": null,
      "_view_module": "@jupyter-widgets/controls",
      "_view_module_version": "1.5.0",
      "_view_name": "ProgressView",
      "bar_style": "success",
      "description": "",
      "description_tooltip": null,
      "layout": "IPY_MODEL_1a1ffff0f6524c93991455e227803b14",
      "max": 876713920,
      "min": 0,
      "orientation": "horizontal",
      "style": "IPY_MODEL_293204c834584355853f1959d5e9072f",
      "value": 876713920
     }
    },
    "a64f68d3ecd941fc81a552950e1647b2": {
     "model_module": "@jupyter-widgets/base",
     "model_module_version": "1.2.0",
     "model_name": "LayoutModel",
     "state": {
      "_model_module": "@jupyter-widgets/base",
      "_model_module_version": "1.2.0",
      "_model_name": "LayoutModel",
      "_view_count": null,
      "_view_module": "@jupyter-widgets/base",
      "_view_module_version": "1.2.0",
      "_view_name": "LayoutView",
      "align_content": null,
      "align_items": null,
      "align_self": null,
      "border": null,
      "bottom": null,
      "display": null,
      "flex": null,
      "flex_flow": null,
      "grid_area": null,
      "grid_auto_columns": null,
      "grid_auto_flow": null,
      "grid_auto_rows": null,
      "grid_column": null,
      "grid_gap": null,
      "grid_row": null,
      "grid_template_areas": null,
      "grid_template_columns": null,
      "grid_template_rows": null,
      "height": null,
      "justify_content": null,
      "justify_items": null,
      "left": null,
      "margin": null,
      "max_height": null,
      "max_width": null,
      "min_height": null,
      "min_width": null,
      "object_fit": null,
      "object_position": null,
      "order": null,
      "overflow": null,
      "overflow_x": null,
      "overflow_y": null,
      "padding": null,
      "right": null,
      "top": null,
      "visibility": null,
      "width": null
     }
    },
    "a870951b46684d69a8cde22371d2c4c5": {
     "model_module": "@jupyter-widgets/base",
     "model_module_version": "1.2.0",
     "model_name": "LayoutModel",
     "state": {
      "_model_module": "@jupyter-widgets/base",
      "_model_module_version": "1.2.0",
      "_model_name": "LayoutModel",
      "_view_count": null,
      "_view_module": "@jupyter-widgets/base",
      "_view_module_version": "1.2.0",
      "_view_name": "LayoutView",
      "align_content": null,
      "align_items": null,
      "align_self": null,
      "border": null,
      "bottom": null,
      "display": null,
      "flex": null,
      "flex_flow": null,
      "grid_area": null,
      "grid_auto_columns": null,
      "grid_auto_flow": null,
      "grid_auto_rows": null,
      "grid_column": null,
      "grid_gap": null,
      "grid_row": null,
      "grid_template_areas": null,
      "grid_template_columns": null,
      "grid_template_rows": null,
      "height": null,
      "justify_content": null,
      "justify_items": null,
      "left": null,
      "margin": null,
      "max_height": null,
      "max_width": null,
      "min_height": null,
      "min_width": null,
      "object_fit": null,
      "object_position": null,
      "order": null,
      "overflow": null,
      "overflow_x": null,
      "overflow_y": null,
      "padding": null,
      "right": null,
      "top": null,
      "visibility": null,
      "width": null
     }
    },
    "aa27c7aa1f7a43e8a8cd108afdbb4c76": {
     "model_module": "@jupyter-widgets/base",
     "model_module_version": "1.2.0",
     "model_name": "LayoutModel",
     "state": {
      "_model_module": "@jupyter-widgets/base",
      "_model_module_version": "1.2.0",
      "_model_name": "LayoutModel",
      "_view_count": null,
      "_view_module": "@jupyter-widgets/base",
      "_view_module_version": "1.2.0",
      "_view_name": "LayoutView",
      "align_content": null,
      "align_items": null,
      "align_self": null,
      "border": null,
      "bottom": null,
      "display": null,
      "flex": null,
      "flex_flow": null,
      "grid_area": null,
      "grid_auto_columns": null,
      "grid_auto_flow": null,
      "grid_auto_rows": null,
      "grid_column": null,
      "grid_gap": null,
      "grid_row": null,
      "grid_template_areas": null,
      "grid_template_columns": null,
      "grid_template_rows": null,
      "height": null,
      "justify_content": null,
      "justify_items": null,
      "left": null,
      "margin": null,
      "max_height": null,
      "max_width": null,
      "min_height": null,
      "min_width": null,
      "object_fit": null,
      "object_position": null,
      "order": null,
      "overflow": null,
      "overflow_x": null,
      "overflow_y": null,
      "padding": null,
      "right": null,
      "top": null,
      "visibility": null,
      "width": null
     }
    },
    "ab98b8ef63d44ae48459a17995e7cfcc": {
     "model_module": "@jupyter-widgets/controls",
     "model_module_version": "1.5.0",
     "model_name": "DescriptionStyleModel",
     "state": {
      "_model_module": "@jupyter-widgets/controls",
      "_model_module_version": "1.5.0",
      "_model_name": "DescriptionStyleModel",
      "_view_count": null,
      "_view_module": "@jupyter-widgets/base",
      "_view_module_version": "1.2.0",
      "_view_name": "StyleView",
      "description_width": ""
     }
    },
    "abaef79008bd4e509e8bc6bb9f9468d4": {
     "model_module": "@jupyter-widgets/controls",
     "model_module_version": "1.5.0",
     "model_name": "DescriptionStyleModel",
     "state": {
      "_model_module": "@jupyter-widgets/controls",
      "_model_module_version": "1.5.0",
      "_model_name": "DescriptionStyleModel",
      "_view_count": null,
      "_view_module": "@jupyter-widgets/base",
      "_view_module_version": "1.2.0",
      "_view_name": "StyleView",
      "description_width": ""
     }
    },
    "b01c449d8644453c8a4f695bbc56f339": {
     "model_module": "@jupyter-widgets/controls",
     "model_module_version": "1.5.0",
     "model_name": "DescriptionStyleModel",
     "state": {
      "_model_module": "@jupyter-widgets/controls",
      "_model_module_version": "1.5.0",
      "_model_name": "DescriptionStyleModel",
      "_view_count": null,
      "_view_module": "@jupyter-widgets/base",
      "_view_module_version": "1.2.0",
      "_view_name": "StyleView",
      "description_width": ""
     }
    },
    "b479cda2f5ac4cdabe5a223b691d17b9": {
     "model_module": "@jupyter-widgets/controls",
     "model_module_version": "1.5.0",
     "model_name": "HBoxModel",
     "state": {
      "_dom_classes": [],
      "_model_module": "@jupyter-widgets/controls",
      "_model_module_version": "1.5.0",
      "_model_name": "HBoxModel",
      "_view_count": null,
      "_view_module": "@jupyter-widgets/controls",
      "_view_module_version": "1.5.0",
      "_view_name": "HBoxView",
      "box_style": "",
      "children": [
       "IPY_MODEL_4166fa53d9ef4bcfa36eb271477bdeb6",
       "IPY_MODEL_a48ba69d1cfc4b5da6b6673f14b77a24",
       "IPY_MODEL_8ffd629edd8a4f46a7f2f5856093ac01"
      ],
      "layout": "IPY_MODEL_f279b099b92343cf93c49e4aa1a50280"
     }
    },
    "b96c61cf7b7e4b03a325164512ce3236": {
     "model_module": "@jupyter-widgets/controls",
     "model_module_version": "1.5.0",
     "model_name": "FloatProgressModel",
     "state": {
      "_dom_classes": [],
      "_model_module": "@jupyter-widgets/controls",
      "_model_module_version": "1.5.0",
      "_model_name": "FloatProgressModel",
      "_view_count": null,
      "_view_module": "@jupyter-widgets/controls",
      "_view_module_version": "1.5.0",
      "_view_name": "ProgressView",
      "bar_style": "success",
      "description": "",
      "description_tooltip": null,
      "layout": "IPY_MODEL_316786c239f5483e8da0001eff97fa70",
      "max": 1469057,
      "min": 0,
      "orientation": "horizontal",
      "style": "IPY_MODEL_467296637c134eaf803091954c0704c0",
      "value": 1469057
     }
    },
    "b9e804da6a5c44f183f0b4779884d2a4": {
     "model_module": "@jupyter-widgets/controls",
     "model_module_version": "1.5.0",
     "model_name": "HBoxModel",
     "state": {
      "_dom_classes": [],
      "_model_module": "@jupyter-widgets/controls",
      "_model_module_version": "1.5.0",
      "_model_name": "HBoxModel",
      "_view_count": null,
      "_view_module": "@jupyter-widgets/controls",
      "_view_module_version": "1.5.0",
      "_view_name": "HBoxView",
      "box_style": "",
      "children": [
       "IPY_MODEL_c843c18453c149a089696a7fd2e5588c",
       "IPY_MODEL_e7dddc99ad2240a292e6d4295343fe3c",
       "IPY_MODEL_5adbffb084764182aac4d9fdcf85575f"
      ],
      "layout": "IPY_MODEL_c603ff541c984d85826b0ae270ae2db7"
     }
    },
    "bbbe9499101f449ba34dbb9954dae0fb": {
     "model_module": "@jupyter-widgets/controls",
     "model_module_version": "1.5.0",
     "model_name": "ProgressStyleModel",
     "state": {
      "_model_module": "@jupyter-widgets/controls",
      "_model_module_version": "1.5.0",
      "_model_name": "ProgressStyleModel",
      "_view_count": null,
      "_view_module": "@jupyter-widgets/base",
      "_view_module_version": "1.2.0",
      "_view_name": "StyleView",
      "bar_color": null,
      "description_width": ""
     }
    },
    "bc136904501149ad9d85770c717af6e8": {
     "model_module": "@jupyter-widgets/controls",
     "model_module_version": "1.5.0",
     "model_name": "ProgressStyleModel",
     "state": {
      "_model_module": "@jupyter-widgets/controls",
      "_model_module_version": "1.5.0",
      "_model_name": "ProgressStyleModel",
      "_view_count": null,
      "_view_module": "@jupyter-widgets/base",
      "_view_module_version": "1.2.0",
      "_view_name": "StyleView",
      "bar_color": null,
      "description_width": ""
     }
    },
    "be1a3a0162534ab7ad71e64952cd47bd": {
     "model_module": "@jupyter-widgets/controls",
     "model_module_version": "1.5.0",
     "model_name": "DescriptionStyleModel",
     "state": {
      "_model_module": "@jupyter-widgets/controls",
      "_model_module_version": "1.5.0",
      "_model_name": "DescriptionStyleModel",
      "_view_count": null,
      "_view_module": "@jupyter-widgets/base",
      "_view_module_version": "1.2.0",
      "_view_name": "StyleView",
      "description_width": ""
     }
    },
    "c36e2412870548c9a2c09cbdbc4c931d": {
     "model_module": "@jupyter-widgets/controls",
     "model_module_version": "1.5.0",
     "model_name": "HBoxModel",
     "state": {
      "_dom_classes": [],
      "_model_module": "@jupyter-widgets/controls",
      "_model_module_version": "1.5.0",
      "_model_name": "HBoxModel",
      "_view_count": null,
      "_view_module": "@jupyter-widgets/controls",
      "_view_module_version": "1.5.0",
      "_view_name": "HBoxView",
      "box_style": "",
      "children": [
       "IPY_MODEL_167b417f3400416993c4f4cfefb09f64",
       "IPY_MODEL_60631af6e44d4e17ac48c93b955684a2",
       "IPY_MODEL_2b46cec3733c4d0382d8d822d0cfea75"
      ],
      "layout": "IPY_MODEL_dcdbf76a21114591ad3eefea24571933"
     }
    },
    "c603ff541c984d85826b0ae270ae2db7": {
     "model_module": "@jupyter-widgets/base",
     "model_module_version": "1.2.0",
     "model_name": "LayoutModel",
     "state": {
      "_model_module": "@jupyter-widgets/base",
      "_model_module_version": "1.2.0",
      "_model_name": "LayoutModel",
      "_view_count": null,
      "_view_module": "@jupyter-widgets/base",
      "_view_module_version": "1.2.0",
      "_view_name": "LayoutView",
      "align_content": null,
      "align_items": null,
      "align_self": null,
      "border": null,
      "bottom": null,
      "display": null,
      "flex": null,
      "flex_flow": null,
      "grid_area": null,
      "grid_auto_columns": null,
      "grid_auto_flow": null,
      "grid_auto_rows": null,
      "grid_column": null,
      "grid_gap": null,
      "grid_row": null,
      "grid_template_areas": null,
      "grid_template_columns": null,
      "grid_template_rows": null,
      "height": null,
      "justify_content": null,
      "justify_items": null,
      "left": null,
      "margin": null,
      "max_height": null,
      "max_width": null,
      "min_height": null,
      "min_width": null,
      "object_fit": null,
      "object_position": null,
      "order": null,
      "overflow": null,
      "overflow_x": null,
      "overflow_y": null,
      "padding": null,
      "right": null,
      "top": null,
      "visibility": null,
      "width": null
     }
    },
    "c6d692dac6fb400688ef3a685541d606": {
     "model_module": "@jupyter-widgets/base",
     "model_module_version": "1.2.0",
     "model_name": "LayoutModel",
     "state": {
      "_model_module": "@jupyter-widgets/base",
      "_model_module_version": "1.2.0",
      "_model_name": "LayoutModel",
      "_view_count": null,
      "_view_module": "@jupyter-widgets/base",
      "_view_module_version": "1.2.0",
      "_view_name": "LayoutView",
      "align_content": null,
      "align_items": null,
      "align_self": null,
      "border": null,
      "bottom": null,
      "display": null,
      "flex": null,
      "flex_flow": null,
      "grid_area": null,
      "grid_auto_columns": null,
      "grid_auto_flow": null,
      "grid_auto_rows": null,
      "grid_column": null,
      "grid_gap": null,
      "grid_row": null,
      "grid_template_areas": null,
      "grid_template_columns": null,
      "grid_template_rows": null,
      "height": null,
      "justify_content": null,
      "justify_items": null,
      "left": null,
      "margin": null,
      "max_height": null,
      "max_width": null,
      "min_height": null,
      "min_width": null,
      "object_fit": null,
      "object_position": null,
      "order": null,
      "overflow": null,
      "overflow_x": null,
      "overflow_y": null,
      "padding": null,
      "right": null,
      "top": null,
      "visibility": null,
      "width": null
     }
    },
    "c843c18453c149a089696a7fd2e5588c": {
     "model_module": "@jupyter-widgets/controls",
     "model_module_version": "1.5.0",
     "model_name": "HTMLModel",
     "state": {
      "_dom_classes": [],
      "_model_module": "@jupyter-widgets/controls",
      "_model_module_version": "1.5.0",
      "_model_name": "HTMLModel",
      "_view_count": null,
      "_view_module": "@jupyter-widgets/controls",
      "_view_module_version": "1.5.0",
      "_view_name": "HTMLView",
      "description": "",
      "description_tooltip": null,
      "layout": "IPY_MODEL_1ee9343af56a4a7eb77a0fae4e6f814e",
      "placeholder": "​",
      "style": "IPY_MODEL_38c6d2c3394a4c429d4153c6cecf5c41",
      "value": "tokenizer.json: 100%"
     }
    },
    "c9460fe7ec6c4f51a8b0e9e9cb3e24e9": {
     "model_module": "@jupyter-widgets/controls",
     "model_module_version": "1.5.0",
     "model_name": "ProgressStyleModel",
     "state": {
      "_model_module": "@jupyter-widgets/controls",
      "_model_module_version": "1.5.0",
      "_model_name": "ProgressStyleModel",
      "_view_count": null,
      "_view_module": "@jupyter-widgets/base",
      "_view_module_version": "1.2.0",
      "_view_name": "StyleView",
      "bar_color": null,
      "description_width": ""
     }
    },
    "cf3eec71dbc34c9f997f0d0271f5018c": {
     "model_module": "@jupyter-widgets/controls",
     "model_module_version": "1.5.0",
     "model_name": "FloatProgressModel",
     "state": {
      "_dom_classes": [],
      "_model_module": "@jupyter-widgets/controls",
      "_model_module_version": "1.5.0",
      "_model_name": "FloatProgressModel",
      "_view_count": null,
      "_view_module": "@jupyter-widgets/controls",
      "_view_module_version": "1.5.0",
      "_view_name": "ProgressView",
      "bar_style": "success",
      "description": "",
      "description_tooltip": null,
      "layout": "IPY_MODEL_9080469861874232bfa577d87ce539f2",
      "max": 20000,
      "min": 0,
      "orientation": "horizontal",
      "style": "IPY_MODEL_bbbe9499101f449ba34dbb9954dae0fb",
      "value": 20000
     }
    },
    "cfeda17572894ecdbedd78da39026157": {
     "model_module": "@jupyter-widgets/base",
     "model_module_version": "1.2.0",
     "model_name": "LayoutModel",
     "state": {
      "_model_module": "@jupyter-widgets/base",
      "_model_module_version": "1.2.0",
      "_model_name": "LayoutModel",
      "_view_count": null,
      "_view_module": "@jupyter-widgets/base",
      "_view_module_version": "1.2.0",
      "_view_name": "LayoutView",
      "align_content": null,
      "align_items": null,
      "align_self": null,
      "border": null,
      "bottom": null,
      "display": null,
      "flex": null,
      "flex_flow": null,
      "grid_area": null,
      "grid_auto_columns": null,
      "grid_auto_flow": null,
      "grid_auto_rows": null,
      "grid_column": null,
      "grid_gap": null,
      "grid_row": null,
      "grid_template_areas": null,
      "grid_template_columns": null,
      "grid_template_rows": null,
      "height": null,
      "justify_content": null,
      "justify_items": null,
      "left": null,
      "margin": null,
      "max_height": null,
      "max_width": null,
      "min_height": null,
      "min_width": null,
      "object_fit": null,
      "object_position": null,
      "order": null,
      "overflow": null,
      "overflow_x": null,
      "overflow_y": null,
      "padding": null,
      "right": null,
      "top": null,
      "visibility": null,
      "width": null
     }
    },
    "d006720c3bda430490763ff666cbbf8c": {
     "model_module": "@jupyter-widgets/base",
     "model_module_version": "1.2.0",
     "model_name": "LayoutModel",
     "state": {
      "_model_module": "@jupyter-widgets/base",
      "_model_module_version": "1.2.0",
      "_model_name": "LayoutModel",
      "_view_count": null,
      "_view_module": "@jupyter-widgets/base",
      "_view_module_version": "1.2.0",
      "_view_name": "LayoutView",
      "align_content": null,
      "align_items": null,
      "align_self": null,
      "border": null,
      "bottom": null,
      "display": null,
      "flex": null,
      "flex_flow": null,
      "grid_area": null,
      "grid_auto_columns": null,
      "grid_auto_flow": null,
      "grid_auto_rows": null,
      "grid_column": null,
      "grid_gap": null,
      "grid_row": null,
      "grid_template_areas": null,
      "grid_template_columns": null,
      "grid_template_rows": null,
      "height": null,
      "justify_content": null,
      "justify_items": null,
      "left": null,
      "margin": null,
      "max_height": null,
      "max_width": null,
      "min_height": null,
      "min_width": null,
      "object_fit": null,
      "object_position": null,
      "order": null,
      "overflow": null,
      "overflow_x": null,
      "overflow_y": null,
      "padding": null,
      "right": null,
      "top": null,
      "visibility": null,
      "width": null
     }
    },
    "d2d9f991aec44280bca09fe6e82670f9": {
     "model_module": "@jupyter-widgets/base",
     "model_module_version": "1.2.0",
     "model_name": "LayoutModel",
     "state": {
      "_model_module": "@jupyter-widgets/base",
      "_model_module_version": "1.2.0",
      "_model_name": "LayoutModel",
      "_view_count": null,
      "_view_module": "@jupyter-widgets/base",
      "_view_module_version": "1.2.0",
      "_view_name": "LayoutView",
      "align_content": null,
      "align_items": null,
      "align_self": null,
      "border": null,
      "bottom": null,
      "display": null,
      "flex": null,
      "flex_flow": null,
      "grid_area": null,
      "grid_auto_columns": null,
      "grid_auto_flow": null,
      "grid_auto_rows": null,
      "grid_column": null,
      "grid_gap": null,
      "grid_row": null,
      "grid_template_areas": null,
      "grid_template_columns": null,
      "grid_template_rows": null,
      "height": null,
      "justify_content": null,
      "justify_items": null,
      "left": null,
      "margin": null,
      "max_height": null,
      "max_width": null,
      "min_height": null,
      "min_width": null,
      "object_fit": null,
      "object_position": null,
      "order": null,
      "overflow": null,
      "overflow_x": null,
      "overflow_y": null,
      "padding": null,
      "right": null,
      "top": null,
      "visibility": null,
      "width": null
     }
    },
    "d3a02942a2c74f859c040185f3643fbb": {
     "model_module": "@jupyter-widgets/base",
     "model_module_version": "1.2.0",
     "model_name": "LayoutModel",
     "state": {
      "_model_module": "@jupyter-widgets/base",
      "_model_module_version": "1.2.0",
      "_model_name": "LayoutModel",
      "_view_count": null,
      "_view_module": "@jupyter-widgets/base",
      "_view_module_version": "1.2.0",
      "_view_name": "LayoutView",
      "align_content": null,
      "align_items": null,
      "align_self": null,
      "border": null,
      "bottom": null,
      "display": null,
      "flex": null,
      "flex_flow": null,
      "grid_area": null,
      "grid_auto_columns": null,
      "grid_auto_flow": null,
      "grid_auto_rows": null,
      "grid_column": null,
      "grid_gap": null,
      "grid_row": null,
      "grid_template_areas": null,
      "grid_template_columns": null,
      "grid_template_rows": null,
      "height": null,
      "justify_content": null,
      "justify_items": null,
      "left": null,
      "margin": null,
      "max_height": null,
      "max_width": null,
      "min_height": null,
      "min_width": null,
      "object_fit": null,
      "object_position": null,
      "order": null,
      "overflow": null,
      "overflow_x": null,
      "overflow_y": null,
      "padding": null,
      "right": null,
      "top": null,
      "visibility": null,
      "width": null
     }
    },
    "d3dee31699944956856c9d6d7f2c1e9f": {
     "model_module": "@jupyter-widgets/controls",
     "model_module_version": "1.5.0",
     "model_name": "HBoxModel",
     "state": {
      "_dom_classes": [],
      "_model_module": "@jupyter-widgets/controls",
      "_model_module_version": "1.5.0",
      "_model_name": "HBoxModel",
      "_view_count": null,
      "_view_module": "@jupyter-widgets/controls",
      "_view_module_version": "1.5.0",
      "_view_name": "HBoxView",
      "box_style": "",
      "children": [
       "IPY_MODEL_238785cd70be4abbadfb1ce3ac1bf8d9",
       "IPY_MODEL_b96c61cf7b7e4b03a325164512ce3236",
       "IPY_MODEL_0b6b6e8ab7f64b12b56c1fce841ef2a4"
      ],
      "layout": "IPY_MODEL_d006720c3bda430490763ff666cbbf8c"
     }
    },
    "d4270ac00f1e41a5bd7dd990e2441e00": {
     "model_module": "@jupyter-widgets/controls",
     "model_module_version": "1.5.0",
     "model_name": "FloatProgressModel",
     "state": {
      "_dom_classes": [],
      "_model_module": "@jupyter-widgets/controls",
      "_model_module_version": "1.5.0",
      "_model_name": "FloatProgressModel",
      "_view_count": null,
      "_view_module": "@jupyter-widgets/controls",
      "_view_module_version": "1.5.0",
      "_view_name": "ProgressView",
      "bar_style": "success",
      "description": "",
      "description_tooltip": null,
      "layout": "IPY_MODEL_a870951b46684d69a8cde22371d2c4c5",
      "max": 367,
      "min": 0,
      "orientation": "horizontal",
      "style": "IPY_MODEL_a0eb5f3954774ef3a25615b4627656fc",
      "value": 367
     }
    },
    "d6b900f6de5a4e2fba18935d4a5bc154": {
     "model_module": "@jupyter-widgets/base",
     "model_module_version": "1.2.0",
     "model_name": "LayoutModel",
     "state": {
      "_model_module": "@jupyter-widgets/base",
      "_model_module_version": "1.2.0",
      "_model_name": "LayoutModel",
      "_view_count": null,
      "_view_module": "@jupyter-widgets/base",
      "_view_module_version": "1.2.0",
      "_view_name": "LayoutView",
      "align_content": null,
      "align_items": null,
      "align_self": null,
      "border": null,
      "bottom": null,
      "display": null,
      "flex": null,
      "flex_flow": null,
      "grid_area": null,
      "grid_auto_columns": null,
      "grid_auto_flow": null,
      "grid_auto_rows": null,
      "grid_column": null,
      "grid_gap": null,
      "grid_row": null,
      "grid_template_areas": null,
      "grid_template_columns": null,
      "grid_template_rows": null,
      "height": null,
      "justify_content": null,
      "justify_items": null,
      "left": null,
      "margin": null,
      "max_height": null,
      "max_width": null,
      "min_height": null,
      "min_width": null,
      "object_fit": null,
      "object_position": null,
      "order": null,
      "overflow": null,
      "overflow_x": null,
      "overflow_y": null,
      "padding": null,
      "right": null,
      "top": null,
      "visibility": null,
      "width": null
     }
    },
    "d9b6fb0b17e546cbb70fa86cecf31b28": {
     "model_module": "@jupyter-widgets/base",
     "model_module_version": "1.2.0",
     "model_name": "LayoutModel",
     "state": {
      "_model_module": "@jupyter-widgets/base",
      "_model_module_version": "1.2.0",
      "_model_name": "LayoutModel",
      "_view_count": null,
      "_view_module": "@jupyter-widgets/base",
      "_view_module_version": "1.2.0",
      "_view_name": "LayoutView",
      "align_content": null,
      "align_items": null,
      "align_self": null,
      "border": null,
      "bottom": null,
      "display": null,
      "flex": null,
      "flex_flow": null,
      "grid_area": null,
      "grid_auto_columns": null,
      "grid_auto_flow": null,
      "grid_auto_rows": null,
      "grid_column": null,
      "grid_gap": null,
      "grid_row": null,
      "grid_template_areas": null,
      "grid_template_columns": null,
      "grid_template_rows": null,
      "height": null,
      "justify_content": null,
      "justify_items": null,
      "left": null,
      "margin": null,
      "max_height": null,
      "max_width": null,
      "min_height": null,
      "min_width": null,
      "object_fit": null,
      "object_position": null,
      "order": null,
      "overflow": null,
      "overflow_x": null,
      "overflow_y": null,
      "padding": null,
      "right": null,
      "top": null,
      "visibility": null,
      "width": null
     }
    },
    "da521f1f92254b74af7e0e4108601c24": {
     "model_module": "@jupyter-widgets/base",
     "model_module_version": "1.2.0",
     "model_name": "LayoutModel",
     "state": {
      "_model_module": "@jupyter-widgets/base",
      "_model_module_version": "1.2.0",
      "_model_name": "LayoutModel",
      "_view_count": null,
      "_view_module": "@jupyter-widgets/base",
      "_view_module_version": "1.2.0",
      "_view_name": "LayoutView",
      "align_content": null,
      "align_items": null,
      "align_self": null,
      "border": null,
      "bottom": null,
      "display": null,
      "flex": null,
      "flex_flow": null,
      "grid_area": null,
      "grid_auto_columns": null,
      "grid_auto_flow": null,
      "grid_auto_rows": null,
      "grid_column": null,
      "grid_gap": null,
      "grid_row": null,
      "grid_template_areas": null,
      "grid_template_columns": null,
      "grid_template_rows": null,
      "height": null,
      "justify_content": null,
      "justify_items": null,
      "left": null,
      "margin": null,
      "max_height": null,
      "max_width": null,
      "min_height": null,
      "min_width": null,
      "object_fit": null,
      "object_position": null,
      "order": null,
      "overflow": null,
      "overflow_x": null,
      "overflow_y": null,
      "padding": null,
      "right": null,
      "top": null,
      "visibility": null,
      "width": null
     }
    },
    "dcdbf76a21114591ad3eefea24571933": {
     "model_module": "@jupyter-widgets/base",
     "model_module_version": "1.2.0",
     "model_name": "LayoutModel",
     "state": {
      "_model_module": "@jupyter-widgets/base",
      "_model_module_version": "1.2.0",
      "_model_name": "LayoutModel",
      "_view_count": null,
      "_view_module": "@jupyter-widgets/base",
      "_view_module_version": "1.2.0",
      "_view_name": "LayoutView",
      "align_content": null,
      "align_items": null,
      "align_self": null,
      "border": null,
      "bottom": null,
      "display": null,
      "flex": null,
      "flex_flow": null,
      "grid_area": null,
      "grid_auto_columns": null,
      "grid_auto_flow": null,
      "grid_auto_rows": null,
      "grid_column": null,
      "grid_gap": null,
      "grid_row": null,
      "grid_template_areas": null,
      "grid_template_columns": null,
      "grid_template_rows": null,
      "height": null,
      "justify_content": null,
      "justify_items": null,
      "left": null,
      "margin": null,
      "max_height": null,
      "max_width": null,
      "min_height": null,
      "min_width": null,
      "object_fit": null,
      "object_position": null,
      "order": null,
      "overflow": null,
      "overflow_x": null,
      "overflow_y": null,
      "padding": null,
      "right": null,
      "top": null,
      "visibility": null,
      "width": null
     }
    },
    "e1af3281f3334b28ae7b67ecd2b6d84f": {
     "model_module": "@jupyter-widgets/controls",
     "model_module_version": "1.5.0",
     "model_name": "HTMLModel",
     "state": {
      "_dom_classes": [],
      "_model_module": "@jupyter-widgets/controls",
      "_model_module_version": "1.5.0",
      "_model_name": "HTMLModel",
      "_view_count": null,
      "_view_module": "@jupyter-widgets/controls",
      "_view_module_version": "1.5.0",
      "_view_name": "HTMLView",
      "description": "",
      "description_tooltip": null,
      "layout": "IPY_MODEL_a64f68d3ecd941fc81a552950e1647b2",
      "placeholder": "​",
      "style": "IPY_MODEL_be1a3a0162534ab7ad71e64952cd47bd",
      "value": "config.json: 100%"
     }
    },
    "e28ec74f2d4144bfbc789719be021b15": {
     "model_module": "@jupyter-widgets/controls",
     "model_module_version": "1.5.0",
     "model_name": "FloatProgressModel",
     "state": {
      "_dom_classes": [],
      "_model_module": "@jupyter-widgets/controls",
      "_model_module_version": "1.5.0",
      "_model_name": "FloatProgressModel",
      "_view_count": null,
      "_view_module": "@jupyter-widgets/controls",
      "_view_module_version": "1.5.0",
      "_view_name": "ProgressView",
      "bar_style": "success",
      "description": "",
      "description_tooltip": null,
      "layout": "IPY_MODEL_f03c6155e2d9411d82760b4d49aff31f",
      "max": 59999,
      "min": 0,
      "orientation": "horizontal",
      "style": "IPY_MODEL_0bb8623da385490ea0256e6029b13a2d",
      "value": 59999
     }
    },
    "e5e18252d8264f9f924ba7704bffc1a8": {
     "model_module": "@jupyter-widgets/controls",
     "model_module_version": "1.5.0",
     "model_name": "HTMLModel",
     "state": {
      "_dom_classes": [],
      "_model_module": "@jupyter-widgets/controls",
      "_model_module_version": "1.5.0",
      "_model_name": "HTMLModel",
      "_view_count": null,
      "_view_module": "@jupyter-widgets/controls",
      "_view_module_version": "1.5.0",
      "_view_name": "HTMLView",
      "description": "",
      "description_tooltip": null,
      "layout": "IPY_MODEL_d6b900f6de5a4e2fba18935d4a5bc154",
      "placeholder": "​",
      "style": "IPY_MODEL_735633f6195542448128f02cc1ef6ed3",
      "value": "Map: 100%"
     }
    },
    "e69dfcb861ad461eb0c91b6fd6df5f23": {
     "model_module": "@jupyter-widgets/controls",
     "model_module_version": "1.5.0",
     "model_name": "HBoxModel",
     "state": {
      "_dom_classes": [],
      "_model_module": "@jupyter-widgets/controls",
      "_model_module_version": "1.5.0",
      "_model_name": "HBoxModel",
      "_view_count": null,
      "_view_module": "@jupyter-widgets/controls",
      "_view_module_version": "1.5.0",
      "_view_name": "HBoxView",
      "box_style": "",
      "children": [
       "IPY_MODEL_e5e18252d8264f9f924ba7704bffc1a8",
       "IPY_MODEL_e28ec74f2d4144bfbc789719be021b15",
       "IPY_MODEL_475cb99d1bab44b8a20e343886ae0b36"
      ],
      "layout": "IPY_MODEL_5c4d7be4c1de4d93a5389004ed18eb12"
     }
    },
    "e74d5e6138584c429fc7c38e5dab5d32": {
     "model_module": "@jupyter-widgets/controls",
     "model_module_version": "1.5.0",
     "model_name": "HBoxModel",
     "state": {
      "_dom_classes": [],
      "_model_module": "@jupyter-widgets/controls",
      "_model_module_version": "1.5.0",
      "_model_name": "HBoxModel",
      "_view_count": null,
      "_view_module": "@jupyter-widgets/controls",
      "_view_module_version": "1.5.0",
      "_view_name": "HBoxView",
      "box_style": "",
      "children": [
       "IPY_MODEL_e1af3281f3334b28ae7b67ecd2b6d84f",
       "IPY_MODEL_2782ca6250a04efb9692556b87e27556",
       "IPY_MODEL_41a122a80285451d9f05c937118066c4"
      ],
      "layout": "IPY_MODEL_d3a02942a2c74f859c040185f3643fbb"
     }
    },
    "e7dddc99ad2240a292e6d4295343fe3c": {
     "model_module": "@jupyter-widgets/controls",
     "model_module_version": "1.5.0",
     "model_name": "FloatProgressModel",
     "state": {
      "_dom_classes": [],
      "_model_module": "@jupyter-widgets/controls",
      "_model_module_version": "1.5.0",
      "_model_name": "FloatProgressModel",
      "_view_count": null,
      "_view_module": "@jupyter-widgets/controls",
      "_view_module_version": "1.5.0",
      "_view_name": "ProgressView",
      "bar_style": "success",
      "description": "",
      "description_tooltip": null,
      "layout": "IPY_MODEL_cfeda17572894ecdbedd78da39026157",
      "max": 4306595,
      "min": 0,
      "orientation": "horizontal",
      "style": "IPY_MODEL_8eb50186808b4fcbb843a5ca9411caac",
      "value": 4306595
     }
    },
    "f03c6155e2d9411d82760b4d49aff31f": {
     "model_module": "@jupyter-widgets/base",
     "model_module_version": "1.2.0",
     "model_name": "LayoutModel",
     "state": {
      "_model_module": "@jupyter-widgets/base",
      "_model_module_version": "1.2.0",
      "_model_name": "LayoutModel",
      "_view_count": null,
      "_view_module": "@jupyter-widgets/base",
      "_view_module_version": "1.2.0",
      "_view_name": "LayoutView",
      "align_content": null,
      "align_items": null,
      "align_self": null,
      "border": null,
      "bottom": null,
      "display": null,
      "flex": null,
      "flex_flow": null,
      "grid_area": null,
      "grid_auto_columns": null,
      "grid_auto_flow": null,
      "grid_auto_rows": null,
      "grid_column": null,
      "grid_gap": null,
      "grid_row": null,
      "grid_template_areas": null,
      "grid_template_columns": null,
      "grid_template_rows": null,
      "height": null,
      "justify_content": null,
      "justify_items": null,
      "left": null,
      "margin": null,
      "max_height": null,
      "max_width": null,
      "min_height": null,
      "min_width": null,
      "object_fit": null,
      "object_position": null,
      "order": null,
      "overflow": null,
      "overflow_x": null,
      "overflow_y": null,
      "padding": null,
      "right": null,
      "top": null,
      "visibility": null,
      "width": null
     }
    },
    "f279b099b92343cf93c49e4aa1a50280": {
     "model_module": "@jupyter-widgets/base",
     "model_module_version": "1.2.0",
     "model_name": "LayoutModel",
     "state": {
      "_model_module": "@jupyter-widgets/base",
      "_model_module_version": "1.2.0",
      "_model_name": "LayoutModel",
      "_view_count": null,
      "_view_module": "@jupyter-widgets/base",
      "_view_module_version": "1.2.0",
      "_view_name": "LayoutView",
      "align_content": null,
      "align_items": null,
      "align_self": null,
      "border": null,
      "bottom": null,
      "display": null,
      "flex": null,
      "flex_flow": null,
      "grid_area": null,
      "grid_auto_columns": null,
      "grid_auto_flow": null,
      "grid_auto_rows": null,
      "grid_column": null,
      "grid_gap": null,
      "grid_row": null,
      "grid_template_areas": null,
      "grid_template_columns": null,
      "grid_template_rows": null,
      "height": null,
      "justify_content": null,
      "justify_items": null,
      "left": null,
      "margin": null,
      "max_height": null,
      "max_width": null,
      "min_height": null,
      "min_width": null,
      "object_fit": null,
      "object_position": null,
      "order": null,
      "overflow": null,
      "overflow_x": null,
      "overflow_y": null,
      "padding": null,
      "right": null,
      "top": null,
      "visibility": null,
      "width": null
     }
    },
    "f76e5e9ed3cc4fa78a4443cbb1fe69c6": {
     "model_module": "@jupyter-widgets/controls",
     "model_module_version": "1.5.0",
     "model_name": "HBoxModel",
     "state": {
      "_dom_classes": [],
      "_model_module": "@jupyter-widgets/controls",
      "_model_module_version": "1.5.0",
      "_model_name": "HBoxModel",
      "_view_count": null,
      "_view_module": "@jupyter-widgets/controls",
      "_view_module_version": "1.5.0",
      "_view_name": "HBoxView",
      "box_style": "",
      "children": [
       "IPY_MODEL_203ff52c75fc47d29e4e36b68156f0af",
       "IPY_MODEL_cf3eec71dbc34c9f997f0d0271f5018c",
       "IPY_MODEL_97fbfbf3b38d4805b51c9196b722ac5d"
      ],
      "layout": "IPY_MODEL_1c1c2dd934a54936b6bcb7db0ecbc3b4"
     }
    },
    "fd4e49e375174e0ea0038fc0adb5f1c3": {
     "model_module": "@jupyter-widgets/controls",
     "model_module_version": "1.5.0",
     "model_name": "DescriptionStyleModel",
     "state": {
      "_model_module": "@jupyter-widgets/controls",
      "_model_module_version": "1.5.0",
      "_model_name": "DescriptionStyleModel",
      "_view_count": null,
      "_view_module": "@jupyter-widgets/base",
      "_view_module_version": "1.2.0",
      "_view_name": "StyleView",
      "description_width": ""
     }
    }
   }
  }
 },
 "nbformat": 4,
 "nbformat_minor": 5
}
