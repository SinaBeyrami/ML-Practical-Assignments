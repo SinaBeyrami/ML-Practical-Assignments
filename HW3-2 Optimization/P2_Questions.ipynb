{
  "cells": [
    {
      "cell_type": "markdown",
      "source": [
        "# Student\n",
        "\n",
        "**Name**: Sina Beyrami\n",
        "\n",
        "**Student ID**: 400105433"
      ],
      "metadata": {
        "id": "q26tuxzCvzdI"
      }
    },
    {
      "cell_type": "markdown",
      "metadata": {
        "id": "havFsrqzlXPy"
      },
      "source": [
        "# Optimization Techniques on MNIST Dataset\n",
        "This notebook explores various optimization techniques for training neural networks on the MNIST dataset. The focus will be on different optimization strategies including Adaptive Learning Rates, SGD, Mini-Batch Gradient Descent, and Learning Rate Adjustments. Each section will provide a practical task related to these techniques."
      ]
    },
    {
      "cell_type": "code",
      "execution_count": 56,
      "metadata": {
        "id": "ywjE9LpmlXP1"
      },
      "outputs": [],
      "source": [
        "import tensorflow as tf\n",
        "import numpy as np\n",
        "import matplotlib.pyplot as plt\n",
        "\n",
        "# Load Fashion MNIST dataset\n",
        "(x_train, y_train), (x_test, y_test) = tf.keras.datasets.fashion_mnist.load_data()\n",
        "\n",
        "# Normalize data\n",
        "x_train, x_test = x_train / 255.0, x_test / 255.0\n",
        "\n",
        "# One-hot encode labels\n",
        "y_train = tf.keras.utils.to_categorical(y_train, 10)\n",
        "y_test = tf.keras.utils.to_categorical(y_test, 10)"
      ]
    },
    {
      "cell_type": "markdown",
      "metadata": {
        "id": "HI4exNIqvZPZ"
      },
      "source": [
        "## Adaptive Learning Rates"
      ]
    },
    {
      "cell_type": "markdown",
      "metadata": {
        "id": "4rNvoHEDlXP2"
      },
      "source": [
        "## Implementing a Simple Neural Network from Scratch"
      ]
    },
    {
      "cell_type": "markdown",
      "metadata": {
        "id": "8IMMs-s6lXP2"
      },
      "source": [
        "### Building the Network\n",
        "Define the architecture of a simple feedforward neural network with one hidden layer. You will need to manually initialize the weights and biases.\n",
        "\n",
        "**TODO:** Initialize Parameters\n",
        "Objective: Create a function to initialize weights and biases for all layers of the network.\n",
        "Instructions:\n",
        "- Initialize weights with small random values and biases with zeros.\n",
        "- Use numpy for creating arrays and operations.\n",
        "\n",
        "Hint: Use np.random.randn for weights and np.zeros for biases. Scale weights by 0.1."
      ]
    },
    {
      "cell_type": "code",
      "execution_count": 57,
      "metadata": {
        "id": "HEUr0figlXP3"
      },
      "outputs": [],
      "source": [
        "def initialize_parameters(input_size, hidden_size, output_size):\n",
        "    \"\"\"\n",
        "    Initialize weights and biases for a simple feedforward neural network.\n",
        "\n",
        "    Parameters:\n",
        "    - input_size: Number of input features.\n",
        "    - hidden_size: Number of neurons in the hidden layer.\n",
        "    - output_size: Number of output classes.\n",
        "\n",
        "    Returns:\n",
        "    - parameters: A dictionary containing weights and biases.\n",
        "    \"\"\"\n",
        "    W1 = 0.1 * np.random.randn(hidden_size, input_size)\n",
        "    b1 = np.zeros((hidden_size, 1))\n",
        "    W2 = 0.1 * np.random.randn(output_size, hidden_size)\n",
        "    b2 = np.zeros((output_size, 1))\n",
        "\n",
        "    parameters = {\n",
        "        \"W1\": W1,\n",
        "        \"b1\": b1,\n",
        "        \"W2\": W2,\n",
        "        \"b2\": b2\n",
        "    }\n",
        "\n",
        "    return parameters\n"
      ]
    },
    {
      "cell_type": "markdown",
      "metadata": {
        "id": "bDvfRCVq-74-"
      },
      "source": [
        "\n",
        "TODO: Define Activation Functions\n",
        "Objective: Implement commonly used activation functions.\n",
        "Instructions:\n",
        " - Define the ReLU and Sigmoid activation functions.\n",
        " - Ensure each function works with numpy arrays and supports both forward and derivative (gradient) computations.\n"
      ]
    },
    {
      "cell_type": "code",
      "execution_count": 58,
      "metadata": {
        "id": "qIBwOlH6_Jg4"
      },
      "outputs": [],
      "source": [
        "def relu(x):\n",
        "    \"\"\"\n",
        "    ReLU activation function.\n",
        "\n",
        "    Parameters:\n",
        "    - x: Input numpy array.\n",
        "\n",
        "    Returns:\n",
        "    - Output after applying ReLU.\n",
        "    \"\"\"\n",
        "    return np.maximum(0, x)\n",
        "\n",
        "def relu_derivative(x):\n",
        "    \"\"\"\n",
        "    Derivative of ReLU activation function.\n",
        "\n",
        "    Parameters:\n",
        "    - x: Input numpy array.\n",
        "\n",
        "    Returns:\n",
        "    - Derivative of ReLU.\n",
        "    \"\"\"\n",
        "    return (x > 0).astype(float)\n",
        "\n",
        "def sigmoid(x):\n",
        "    \"\"\"\n",
        "    Sigmoid activation function.\n",
        "\n",
        "    Parameters:\n",
        "    - x: Input numpy array.\n",
        "\n",
        "    Returns:\n",
        "    - Output after applying sigmoid.\n",
        "    \"\"\"\n",
        "    return 1 / (1 + np.exp(-x))\n",
        "\n",
        "def sigmoid_derivative(x):\n",
        "    \"\"\"\n",
        "    Derivative of sigmoid activation function.\n",
        "\n",
        "    Parameters:\n",
        "    - x: Input numpy array.\n",
        "\n",
        "    Returns:\n",
        "    - Derivative of sigmoid.\n",
        "    \"\"\"\n",
        "    s = sigmoid(x)\n",
        "    return s * (1 - s)"
      ]
    },
    {
      "cell_type": "markdown",
      "metadata": {
        "id": "h6HxkvToEDjr"
      },
      "source": [
        "TODO: Perform forward propagation through the network.\n",
        "\n",
        "    Parameters:\n",
        "    - X: Input data (shape: number of examples x input size).\n",
        "    - parameters: Dictionary containing weights and biases.\n",
        "\n",
        "    Returns:\n",
        "    - A2: Output of the network (after activation).\n",
        "    - cache: Dictionary containing intermediate values for backpropagation."
      ]
    },
    {
      "cell_type": "code",
      "execution_count": 59,
      "metadata": {
        "id": "4ylVbZoXECpn"
      },
      "outputs": [],
      "source": [
        "def forward_propagation(X, parameters):\n",
        "    \"\"\"\n",
        "    Perform forward propagation through the network.\n",
        "\n",
        "    Parameters:\n",
        "    - X: Input data (shape: number of examples x input size).\n",
        "    - parameters: Dictionary containing weights and biases.\n",
        "\n",
        "    Returns:\n",
        "    - A2: Output of the network (after activation).\n",
        "    - cache: Dictionary containing intermediate values for backpropagation.\n",
        "    \"\"\"\n",
        "    W1 = parameters[\"W1\"]\n",
        "    b1 = parameters[\"b1\"]\n",
        "    W2 = parameters[\"W2\"]\n",
        "    b2 = parameters[\"b2\"]\n",
        "\n",
        "    Z1 = X.dot(W1.T) + b1.T\n",
        "    A1 = relu(Z1)\n",
        "\n",
        "    Z2 = A1.dot(W2.T) + b2.T\n",
        "    A2 = sigmoid(Z2)\n",
        "\n",
        "    cache = {\n",
        "        \"X\": X,\n",
        "        \"Z1\": Z1,\n",
        "        \"A1\": A1,\n",
        "        \"Z2\": Z2,\n",
        "        \"A2\": A2\n",
        "    }\n",
        "\n",
        "    return A2, cache"
      ]
    },
    {
      "cell_type": "markdown",
      "metadata": {
        "id": "-KtURRNUC_NP"
      },
      "source": [
        "TODO: Implement the loss function. Compute the categorical cross-entropy loss.\n",
        "\n",
        "    Parameters:\n",
        "    - y_true: True labels (one-hot encoded).\n",
        "    - y_pred: Predicted probabilities (output of the network).\n",
        "\n",
        "    Returns:\n",
        "    - loss: Computed loss."
      ]
    },
    {
      "cell_type": "code",
      "execution_count": 60,
      "metadata": {
        "id": "advoE8kEC-vk"
      },
      "outputs": [],
      "source": [
        "def compute_loss(y_true, y_pred):\n",
        "    \"\"\"\n",
        "    Compute the categorical cross-entropy loss.\n",
        "\n",
        "    Parameters:\n",
        "    - y_true: True labels (one-hot encoded).\n",
        "    - y_pred: Predicted probabilities (output of the network).\n",
        "\n",
        "    Returns:\n",
        "    - loss: Computed loss.\n",
        "    \"\"\"\n",
        "    epsilon = 1e-12\n",
        "    y_pred_clipped = np.clip(y_pred, epsilon, 1.0 - epsilon)\n",
        "    sample_losses = -np.sum(y_true * np.log(y_pred_clipped), axis=1)\n",
        "    loss = np.mean(sample_losses)\n",
        "    return loss"
      ]
    },
    {
      "cell_type": "markdown",
      "metadata": {
        "id": "s5V1D0jUDK3B"
      },
      "source": [
        "TODO: Implement backpropagation for the network and Perform backward propagation through the network.\n",
        "\n",
        "    Parameters:\n",
        "    - X: Input data.\n",
        "    - y_true: True labels.\n",
        "    - parameters: Dictionary containing weights and biases.\n",
        "    - cache: Intermediate values from forward propagation.\n",
        "\n",
        "    Returns:\n",
        "    - gradients: Dictionary containing gradients for weights and biases."
      ]
    },
    {
      "cell_type": "code",
      "execution_count": 61,
      "metadata": {
        "id": "4CxAo9FlBG18"
      },
      "outputs": [],
      "source": [
        "def backward_propagation(X, y_true, parameters, cache):\n",
        "    \"\"\"\n",
        "    Perform backward propagation through the network.\n",
        "\n",
        "    Parameters:\n",
        "    - X: Input data.\n",
        "    - y_true: True labels.\n",
        "    - parameters: Dictionary containing weights and biases.\n",
        "    - cache: Intermediate values from forward propagation.\n",
        "\n",
        "    Returns:\n",
        "    - gradients: Dictionary containing gradients for weights and biases.\n",
        "    \"\"\"\n",
        "    W1 = parameters[\"W1\"]\n",
        "    b1 = parameters[\"b1\"]\n",
        "    W2 = parameters[\"W2\"]\n",
        "    b2 = parameters[\"b2\"]\n",
        "\n",
        "    X = cache[\"X\"]\n",
        "    Z1 = cache[\"Z1\"]\n",
        "    A1 = cache[\"A1\"]\n",
        "    Z2 = cache[\"Z2\"]\n",
        "    A2 = cache[\"A2\"]\n",
        "\n",
        "    m = X.shape[0]\n",
        "\n",
        "    dZ2 = A2 - y_true\n",
        "\n",
        "    dW2 = (dZ2.T @ A1) / m\n",
        "    db2 = np.mean(dZ2, axis=0, keepdims=True).T\n",
        "\n",
        "    dA1 = dZ2 @ W2\n",
        "    dZ1 = dA1 * relu_derivative(Z1)\n",
        "\n",
        "    dW1 = (dZ1.T @ X) / m\n",
        "    db1 = np.mean(dZ1, axis=0, keepdims=True).T\n",
        "\n",
        "    gradients = {\n",
        "        \"dW1\": dW1,\n",
        "        \"db1\": db1,\n",
        "        \"dW2\": dW2,\n",
        "        \"db2\": db2\n",
        "    }\n",
        "\n",
        "    return gradients"
      ]
    },
    {
      "cell_type": "markdown",
      "metadata": {
        "id": "LG2cvi3DDe4Q"
      },
      "source": [
        "TODO: Update the parameters using gradient descent.\n",
        "\n",
        "    Parameters:\n",
        "    - parameters: Current weights and biases.\n",
        "    - gradients: Calculated gradients.\n",
        "    - learning_rate: Learning rate for updates.\n",
        "\n",
        "    Returns:\n",
        "    - parameters: Updated weights and biases."
      ]
    },
    {
      "cell_type": "code",
      "execution_count": 62,
      "metadata": {
        "id": "9uMGXPGqDdk4"
      },
      "outputs": [],
      "source": [
        "def update_parameters(parameters, gradients, learning_rate=0.01):\n",
        "    \"\"\"\n",
        "    Update parameters using gradient descent.\n",
        "\n",
        "    Parameters:\n",
        "    - parameters: Current weights and biases.\n",
        "    - gradients: Calculated gradients.\n",
        "    - learning_rate: Learning rate for updates.\n",
        "\n",
        "    Returns:\n",
        "    - parameters: Updated weights and biases.\n",
        "    \"\"\"\n",
        "    parameters[\"W1\"] -= learning_rate * gradients[\"dW1\"]\n",
        "    parameters[\"b1\"] -= learning_rate * gradients[\"db1\"]\n",
        "    parameters[\"W2\"] -= learning_rate * gradients[\"dW2\"]\n",
        "    parameters[\"b2\"] -= learning_rate * gradients[\"db2\"]\n",
        "\n",
        "    return parameters"
      ]
    },
    {
      "cell_type": "markdown",
      "metadata": {
        "id": "5E4UZg1SD2bM"
      },
      "source": [
        "TODO: Train the model by changing the hidden layer size (such as [32, 64, 128]) and observe the impact on network performance during training.\n",
        "\n",
        "    Train the neural network model.\n",
        "\n",
        "    Parameters:\n",
        "    - X_train: Training data.\n",
        "    - y_train: One-hot encoded labels.\n",
        "    - hidden_size: Number of neurons in the hidden layer.\n",
        "    - epochs: Number of training epochs.\n",
        "    - learning_rate: Learning rate for optimization."
      ]
    },
    {
      "cell_type": "code",
      "execution_count": 63,
      "metadata": {
        "colab": {
          "base_uri": "https://localhost:8080/"
        },
        "id": "GlsAvdUCDzSb",
        "outputId": "6c9c782f-b363-46b3-edb3-2c5bb0e8f4a6"
      },
      "outputs": [
        {
          "output_type": "stream",
          "name": "stdout",
          "text": [
            "Training with hidden layer size: 32\n",
            "Epoch 0, Loss: 1.0393\n",
            "Epoch 10, Loss: 1.5980\n",
            "Epoch 20, Loss: 1.9378\n",
            "Epoch 30, Loss: 2.0246\n",
            "Epoch 40, Loss: 2.0225\n",
            "Epoch 50, Loss: 1.9921\n",
            "\n",
            "Training with hidden layer size: 64\n",
            "Epoch 0, Loss: 0.6256\n",
            "Epoch 10, Loss: 1.4313\n",
            "Epoch 20, Loss: 1.8438\n",
            "Epoch 30, Loss: 1.9259\n",
            "Epoch 40, Loss: 1.8977\n",
            "Epoch 50, Loss: 1.8376\n",
            "\n",
            "Training with hidden layer size: 128\n",
            "Epoch 0, Loss: 0.9510\n",
            "Epoch 10, Loss: 1.8679\n",
            "Epoch 20, Loss: 1.8852\n",
            "Epoch 30, Loss: 1.7751\n",
            "Epoch 40, Loss: 1.6634\n",
            "Epoch 50, Loss: 1.5665\n",
            "\n"
          ]
        }
      ],
      "source": [
        "# Training Loop\n",
        "def train_model(X_train, y_train, hidden_size, epochs=50, learning_rate=0.01):\n",
        "    \"\"\"\n",
        "    Train the neural network model.\n",
        "\n",
        "    Parameters:\n",
        "    - X_train: Training data.\n",
        "    - y_train: One-hot encoded labels.\n",
        "    - hidden_size: Number of neurons in the hidden layer.\n",
        "    - epochs: Number of training epochs.\n",
        "    - learning_rate: Learning rate for optimization.\n",
        "    \"\"\"\n",
        "    m = X_train.shape[0]\n",
        "    input_size = X_train.shape[1] * X_train.shape[2]\n",
        "    X_train_flat = X_train.reshape(m, input_size)\n",
        "\n",
        "    output_size = 10\n",
        "    parameters = initialize_parameters(input_size, hidden_size, output_size)\n",
        "\n",
        "    A2, cache = forward_propagation(X_train_flat, parameters)\n",
        "    print(f\"Epoch 0, Loss: {compute_loss(y_train, A2):.4f}\")\n",
        "\n",
        "    for epoch in range(epochs):\n",
        "        A2, cache = forward_propagation(X_train_flat, parameters)\n",
        "\n",
        "        loss = compute_loss(y_train, A2)\n",
        "\n",
        "        gradients = backward_propagation(X_train_flat, y_train, parameters, cache)\n",
        "\n",
        "        parameters = update_parameters(parameters, gradients, learning_rate=learning_rate)\n",
        "\n",
        "        if (epoch + 1) % 10 == 0:\n",
        "            print(f\"Epoch {epoch+1}, Loss: {loss:.4f}\")\n",
        "\n",
        "    return parameters\n",
        "\n",
        "hidden_sizes = [32, 64, 128]\n",
        "for i in hidden_sizes:\n",
        "    print(f\"Training with hidden layer size: {i}\")\n",
        "    train_model(x_train, y_train, i)\n",
        "    print()"
      ]
    },
    {
      "cell_type": "markdown",
      "metadata": {
        "id": "YuCNlJCHKf1S"
      },
      "source": [
        "TODO: Implement Adam Optimizer\n",
        "\n",
        "1. Initialize Parameters: Create variables to store the moment estimates (first and second) for each parameter.\n",
        "\n",
        "    Parameters:\n",
        "    - parameters: Dictionary containing weights and biases.\n",
        "\n",
        "    Returns:\n",
        "    - v: First moment vector (initialized to zeros).\n",
        "    - s: Second moment vector (initialized to zeros).\n",
        "    - t: Time step (initialized to 0).\n",
        "\n",
        "2. Update Rules: Implement the update rules based on the gradients, learning rate, and moment estimates.\n"
      ]
    },
    {
      "cell_type": "code",
      "execution_count": 64,
      "metadata": {
        "id": "Iqy1_rfsKP8b"
      },
      "outputs": [],
      "source": [
        "def initialize_adam(parameters):\n",
        "    \"\"\"\n",
        "    Initialize the Adam optimizer variables.\n",
        "\n",
        "    Parameters:\n",
        "    - parameters: Dictionary containing weights and biases.\n",
        "\n",
        "    Returns:\n",
        "    - v: First moment vector (initialized to zeros).\n",
        "    - s: Second moment vector (initialized to zeros).\n",
        "    - t: Time step (initialized to 0).\n",
        "    \"\"\"\n",
        "    v = {}\n",
        "    s = {}\n",
        "\n",
        "    for key in parameters.keys():\n",
        "        v[key] = np.zeros_like(parameters[key])\n",
        "        s[key] = np.zeros_like(parameters[key])\n",
        "\n",
        "    t = 0\n",
        "    return v, s, t\n",
        "\n",
        "def update_parameters_with_adam(parameters, gradients, v, s, t, learning_rate=0.001, beta1=0.9, beta2=0.999, epsilon=1e-8):\n",
        "    \"\"\"\n",
        "    Update parameters using the Adam optimizer.\n",
        "\n",
        "    Parameters:\n",
        "    - parameters: Current weights and biases.\n",
        "    - gradients: Calculated gradients.\n",
        "    - v: First moment vector.\n",
        "    - s: Second moment vector.\n",
        "    - t: Time step.\n",
        "    - learning_rate: Learning rate for updates.\n",
        "    - beta1: Exponential decay rate for the first moment estimates.\n",
        "    - beta2: Exponential decay rate for the second moment estimates.\n",
        "    - epsilon: Small constant for numerical stability.\n",
        "\n",
        "    Returns:\n",
        "    - parameters: Updated weights and biases.\n",
        "    - v: Updated first moment vector.\n",
        "    - s: Updated second moment vector.\n",
        "    - t: Updated time step.\n",
        "    \"\"\"\n",
        "    t += 1\n",
        "\n",
        "    for key in parameters.keys():\n",
        "        v[key] = beta1 * v[key] + (1 - beta1) * gradients[\"d\" + key]\n",
        "        s[key] = beta2 * s[key] + (1 - beta2) * (gradients[\"d\" + key] ** 2)\n",
        "\n",
        "        v_corrected = v[key] / (1 - (beta1 ** t))\n",
        "        s_corrected = s[key] / (1 - (beta2 ** t))\n",
        "\n",
        "        parameters[key] = parameters[key] - learning_rate * (v_corrected / (np.sqrt(s_corrected) + epsilon))\n",
        "\n",
        "    return parameters, v, s, t"
      ]
    },
    {
      "cell_type": "markdown",
      "metadata": {
        "id": "-mU6NQXdLQd_"
      },
      "source": [
        "TODO: Implement Adam optimizer into the training loop."
      ]
    },
    {
      "cell_type": "code",
      "execution_count": 65,
      "metadata": {
        "colab": {
          "base_uri": "https://localhost:8080/"
        },
        "id": "NMPqxphzKSv8",
        "outputId": "5e78291c-b8b7-4427-bd2c-f12da3077100"
      },
      "outputs": [
        {
          "output_type": "stream",
          "name": "stdout",
          "text": [
            "Training with hidden layer size: 32\n",
            "Epoch 0, Loss: 0.6881\n",
            "Epoch 10, Loss: 1.1036\n",
            "Epoch 20, Loss: 1.7679\n",
            "Epoch 30, Loss: 1.9689\n",
            "Epoch 40, Loss: 1.5922\n",
            "Epoch 50, Loss: 1.3122\n",
            "\n",
            "Training with hidden layer size: 64\n",
            "Epoch 0, Loss: 0.8499\n",
            "Epoch 10, Loss: 2.1312\n",
            "Epoch 20, Loss: 2.1012\n",
            "Epoch 30, Loss: 1.3114\n",
            "Epoch 40, Loss: 1.0795\n",
            "Epoch 50, Loss: 1.0017\n",
            "\n",
            "Training with hidden layer size: 128\n",
            "Epoch 0, Loss: 0.8749\n",
            "Epoch 10, Loss: 1.9230\n",
            "Epoch 20, Loss: 1.3825\n",
            "Epoch 30, Loss: 0.9392\n",
            "Epoch 40, Loss: 0.8626\n",
            "Epoch 50, Loss: 0.8130\n",
            "\n"
          ]
        }
      ],
      "source": [
        "def train_model_with_adam(X_train, y_train, hidden_size, epochs=50, learning_rate=0.001):\n",
        "    \"\"\"\n",
        "    Train the neural network model using Adam optimizer.\n",
        "\n",
        "    Parameters:\n",
        "    - X_train: Training data.\n",
        "    - y_train: One-hot encoded labels.\n",
        "    - hidden_size: Number of neurons in the hidden layer.\n",
        "    - epochs: Number of training epochs.\n",
        "    - learning_rate: Learning rate for optimization.\n",
        "    \"\"\"\n",
        "    m = X_train.shape[0]\n",
        "    input_size = X_train.shape[1] * X_train.shape[2]\n",
        "    X_train_flat = X_train.reshape(m, input_size)\n",
        "\n",
        "    output_size = 10\n",
        "    parameters = initialize_parameters(input_size, hidden_size, output_size)\n",
        "\n",
        "    v, s, t = initialize_adam(parameters)\n",
        "\n",
        "    A2, cache = forward_propagation(X_train_flat, parameters)\n",
        "    print(f\"Epoch 0, Loss: {compute_loss(y_train, A2):.4f}\")\n",
        "\n",
        "    for epoch in range(epochs):\n",
        "        A2, cache = forward_propagation(X_train_flat, parameters)\n",
        "\n",
        "        loss = compute_loss(y_train, A2)\n",
        "\n",
        "        gradients = backward_propagation(X_train_flat, y_train, parameters, cache)\n",
        "\n",
        "        parameters, v, s, t = update_parameters_with_adam(parameters, gradients, v, s, t,\n",
        "                                                          learning_rate=learning_rate)\n",
        "\n",
        "        if (epoch + 1) % 10 == 0:\n",
        "            print(f\"Epoch {epoch+1}, Loss: {loss:.4f}\")\n",
        "\n",
        "    return parameters\n",
        "\n",
        "hidden_sizes = [32, 64, 128]\n",
        "for i in hidden_sizes:\n",
        "    print(f\"Training with hidden layer size: {i}\")\n",
        "    train_model_with_adam(x_train, y_train, i)\n",
        "    print()"
      ]
    },
    {
      "cell_type": "markdown",
      "metadata": {
        "id": "fEZVkGGplXP4"
      },
      "source": [
        "### Compare Adam and RMSprop\n"
      ]
    },
    {
      "cell_type": "markdown",
      "metadata": {
        "id": "7BxQoqf8ak2k"
      },
      "source": [
        "TODO: First, implement the RMSprop optimizer. The RMSprop optimizer uses a moving average of squared gradients to normalize the gradient, which helps to stabilize the updates."
      ]
    },
    {
      "cell_type": "code",
      "execution_count": 66,
      "metadata": {
        "id": "117xMpE6avQ2"
      },
      "outputs": [],
      "source": [
        "def initialize_rmsprop(parameters):\n",
        "    \"\"\"\n",
        "    Initialize the RMSprop variables.\n",
        "\n",
        "    Parameters:\n",
        "    - parameters: Dictionary containing weights and biases.\n",
        "\n",
        "    Returns:\n",
        "    - s: Second moment vector (initialized to zeros).\n",
        "    \"\"\"\n",
        "    s = {}\n",
        "    for key in parameters.keys():\n",
        "        s[key] = np.zeros_like(parameters[key])\n",
        "    return s\n",
        "\n",
        "def update_parameters_with_rmsprop(parameters, gradients, s, learning_rate=0.001, beta=0.9, epsilon=1e-8):\n",
        "    \"\"\"\n",
        "    Update parameters using the RMSprop optimizer.\n",
        "\n",
        "    Parameters:\n",
        "    - parameters: Current weights and biases.\n",
        "    - gradients: Calculated gradients.\n",
        "    - s: Second moment vector.\n",
        "    - learning_rate: Learning rate for updates.\n",
        "    - beta: Exponential decay rate for the second moment estimates.\n",
        "    - epsilon: Small constant for numerical stability.\n",
        "\n",
        "    Returns:\n",
        "    - parameters: Updated weights and biases.\n",
        "    - s: Updated second moment vector.\n",
        "    \"\"\"\n",
        "    for key in parameters.keys():\n",
        "        s[key] = beta * s[key] + (1 - beta) * (gradients[\"d\" + key] ** 2)\n",
        "\n",
        "        parameters[key] = parameters[key] - learning_rate * (gradients[\"d\" + key] / (np.sqrt(s[key]) + epsilon))\n",
        "\n",
        "    return parameters, s"
      ]
    },
    {
      "cell_type": "markdown",
      "metadata": {
        "id": "GWJg1GjFayY2"
      },
      "source": [
        "TODO: Modify the training loop to allow for both optimizers and store the loss history for comparison."
      ]
    },
    {
      "cell_type": "code",
      "execution_count": 67,
      "metadata": {
        "id": "iwcuRTkja5pT"
      },
      "outputs": [],
      "source": [
        "def train_model(X_train, y_train, hidden_size, epochs=50, learning_rate=0.001, optimizer='adam'):\n",
        "    \"\"\"\n",
        "    Train the neural network model using specified optimizer.\n",
        "\n",
        "    Parameters:\n",
        "    - X_train: Training data.\n",
        "    - y_train: One-hot encoded labels.\n",
        "    - hidden_size: Number of neurons in the hidden layer.\n",
        "    - epochs: Number of training epochs.\n",
        "    - learning_rate: Learning rate for optimization.\n",
        "    - optimizer: The optimizer to use ('adam' or 'rmsprop').\n",
        "\n",
        "    Returns:\n",
        "    - loss_history: List of loss values over epochs.\n",
        "    \"\"\"\n",
        "\n",
        "    m = X_train.shape[0]\n",
        "    input_size = X_train.shape[1] * X_train.shape[2]\n",
        "    X_train_flat = X_train.reshape(m, input_size)\n",
        "\n",
        "    output_size = 10\n",
        "    parameters = initialize_parameters(input_size, hidden_size, output_size)\n",
        "\n",
        "    if optimizer == 'adam':\n",
        "        v, s, t = initialize_adam(parameters)\n",
        "    elif optimizer == 'rmsprop':\n",
        "        s = initialize_rmsprop(parameters)\n",
        "    else:\n",
        "        raise ValueError(\"Optimizer must be 'adam' or 'rmsprop'.\")\n",
        "\n",
        "    loss_history = []\n",
        "\n",
        "    A2, cache = forward_propagation(X_train_flat, parameters)\n",
        "    print(f\"Epoch 0, Loss: {compute_loss(y_train, A2):.4f}\")\n",
        "\n",
        "    for epoch in range(epochs):\n",
        "        A2, cache = forward_propagation(X_train_flat, parameters)\n",
        "\n",
        "        loss = compute_loss(y_train, A2)\n",
        "        loss_history.append(loss)\n",
        "\n",
        "        gradients = backward_propagation(X_train_flat, y_train, parameters, cache)\n",
        "\n",
        "        if optimizer == 'adam':\n",
        "            parameters, v, s, t = update_parameters_with_adam(\n",
        "                parameters, gradients, v, s, t, learning_rate=learning_rate\n",
        "            )\n",
        "        elif optimizer == 'rmsprop':\n",
        "            parameters, s = update_parameters_with_rmsprop(\n",
        "                parameters, gradients, s, learning_rate=learning_rate\n",
        "            )\n",
        "\n",
        "        if (epoch + 1) % 10 == 0:\n",
        "            print(f\"Epoch {epoch+1}, Loss: {loss:.4f}\")\n",
        "\n",
        "    return loss_history"
      ]
    },
    {
      "cell_type": "markdown",
      "metadata": {
        "id": "g5cPzN1ma9Xi"
      },
      "source": [
        "TODO:  Compare Both Optimizers. Create a function to train the model using both optimizers and plot the loss histories for comparison."
      ]
    },
    {
      "cell_type": "code",
      "execution_count": 55,
      "metadata": {
        "colab": {
          "base_uri": "https://localhost:8080/",
          "height": 801
        },
        "id": "-z5eRURgbDIG",
        "outputId": "b2200bcd-6ef4-4c92-8335-c1299666060a"
      },
      "outputs": [
        {
          "output_type": "stream",
          "name": "stdout",
          "text": [
            "Training with Adam optimizer...\n",
            "Epoch 0, Loss: 0.6780\n",
            "Epoch 10, Loss: 1.5909\n",
            "Epoch 20, Loss: 1.9205\n",
            "Epoch 30, Loss: 1.3221\n",
            "Epoch 40, Loss: 1.0482\n",
            "Epoch 50, Loss: 0.9780\n",
            "Epoch 0, Loss (adam): 0.6780\n",
            "Epoch 10, Loss (adam): 1.7003\n",
            "Epoch 20, Loss (adam): 1.8687\n",
            "Epoch 30, Loss (adam): 1.2811\n",
            "Epoch 40, Loss (adam): 1.0352\n",
            "\n",
            "Training with RMSprop optimizer...\n",
            "Epoch 0, Loss: 0.7288\n",
            "Epoch 10, Loss: 1.4969\n",
            "Epoch 20, Loss: 1.1446\n",
            "Epoch 30, Loss: 1.1512\n",
            "Epoch 40, Loss: 0.9939\n",
            "Epoch 50, Loss: 0.9026\n",
            "Epoch 0, Loss (rmsprop): 0.7288\n",
            "Epoch 10, Loss (rmsprop): 1.4463\n",
            "Epoch 20, Loss (rmsprop): 1.1212\n",
            "Epoch 30, Loss (rmsprop): 0.8463\n",
            "Epoch 40, Loss (rmsprop): 0.7811\n"
          ]
        },
        {
          "output_type": "display_data",
          "data": {
            "text/plain": [
              "<Figure size 1000x500 with 1 Axes>"
            ],
            "image/png": "[encoded data removed]"
          },
          "metadata": {}
        }
      ],
      "source": [
        "def compare_optimizers(X_train, y_train, hidden_size, epochs=50):\n",
        "    \"\"\"\n",
        "    Compare the Adam and RMSprop optimizers.\n",
        "\n",
        "    Parameters:\n",
        "    - X_train: Training data.\n",
        "    - y_train: One-hot encoded labels.\n",
        "    - hidden_size: Number of neurons in the hidden layer.\n",
        "    - epochs: Number of training epochs.\n",
        "    \"\"\"\n",
        "    print(\"Training with Adam optimizer...\")\n",
        "    loss_history_adam = train_model(X_train, y_train, hidden_size=hidden_size, epochs=epochs, learning_rate=0.001, optimizer='adam')\n",
        "\n",
        "#    for e in [0, 10, 20, 30, 40]:\n",
        "#        if e < len(loss_history_adam):\n",
        "#            print(f\"Epoch {e}, Loss (adam): {loss_history_adam[e]:.4f}\")\n",
        "\n",
        "    print(\"\\nTraining with RMSprop optimizer...\")\n",
        "    loss_history_rmsprop = train_model(X_train, y_train, hidden_size=hidden_size, epochs=epochs, learning_rate=0.001, optimizer='rmsprop')\n",
        "    print()\n",
        "#    for e in [0, 10, 20, 30, 40]:\n",
        "#        if e < len(loss_history_rmsprop):\n",
        "#            print(f\"Epoch {e}, Loss (rmsprop): {loss_history_rmsprop[e]:.4f}\")\n",
        "\n",
        "    plt.figure(figsize=(10, 5))\n",
        "    plt.plot(loss_history_adam, label='Adam Loss', color='blue')\n",
        "    plt.plot(loss_history_rmsprop, label='RMSprop Loss', color='orange')\n",
        "    plt.title('Loss Comparison between Adam and RMSprop')\n",
        "    plt.xlabel('Epochs')\n",
        "    plt.ylabel('Loss')\n",
        "    plt.legend()\n",
        "    plt.grid(True)\n",
        "    plt.show()\n",
        "\n",
        "compare_optimizers(x_train, y_train, 64)"
      ]
    },
    {
      "cell_type": "markdown",
      "metadata": {
        "id": "pueHFmTUlXP5"
      },
      "source": [
        "## Stochastic Gradient Descent (SGD)"
      ]
    },
    {
      "cell_type": "markdown",
      "metadata": {
        "id": "3zrSW4LilXP5"
      },
      "source": [
        "### Impact of Different Learning Rates on SGD\n"
      ]
    },
    {
      "cell_type": "markdown",
      "metadata": {
        "id": "BU9BiBsKcWjb"
      },
      "source": [
        "Explore the impact of different learning rates on the training dynamics and performance of Stochastic Gradient Descent (SGD). This will allow us to observe how the learning rate affects convergence speed, stability, and final performance.\n",
        "\n",
        "Steps for Implementing the Experiment\n",
        "\n",
        "1. Define the SGD Optimizer: Implement a simple SGD optimizer.\n",
        "2. Modify the Training Loop: Allow for different learning rates.\n",
        "3. Train the Model: Run the training process with a set of predefined learning rates.\n",
        "4. Visualize the Results: Plot the loss curves for each learning rate to compare their effects"
      ]
    },
    {
      "cell_type": "markdown",
      "metadata": {
        "id": "vDRSuNVrcvVI"
      },
      "source": [
        "1. Implement SGD Optimizer\n"
      ]
    },
    {
      "cell_type": "code",
      "execution_count": 80,
      "metadata": {
        "id": "r9UE2OHfcwCe"
      },
      "outputs": [],
      "source": [
        "def update_parameters_with_sgd(parameters, gradients, learning_rate=0.01):\n",
        "    \"\"\"\n",
        "    Update parameters using Stochastic Gradient Descent (SGD).\n",
        "\n",
        "    Parameters:\n",
        "    - parameters: Current weights and biases.\n",
        "    - gradients: Calculated gradients.\n",
        "    - learning_rate: Learning rate for updates.\n",
        "\n",
        "    Returns:\n",
        "    - parameters: Updated weights and biases.\n",
        "    \"\"\"\n",
        "    for key in parameters.keys():\n",
        "        parameters[key] = parameters[key] - learning_rate * gradients[\"d\" + key]\n",
        "\n",
        "    return parameters"
      ]
    },
    {
      "cell_type": "markdown",
      "metadata": {
        "id": "O4qIjyg9cyXB"
      },
      "source": [
        "2. Modify the Training Loop\n"
      ]
    },
    {
      "cell_type": "code",
      "execution_count": 81,
      "metadata": {
        "id": "U1gKM56IdBH-"
      },
      "outputs": [],
      "source": [
        "def train_model_with_sgd(X_train, y_train, hidden_size, epochs=50, learning_rate=0.01):\n",
        "    \"\"\"\n",
        "    Train the neural network model using SGD optimizer.\n",
        "\n",
        "    Parameters:\n",
        "    - X_train: Training data.\n",
        "    - y_train: One-hot encoded labels.\n",
        "    - hidden_size: Number of neurons in the hidden layer.\n",
        "    - epochs: Number of training epochs.\n",
        "    - learning_rate: Learning rate for optimization.\n",
        "\n",
        "    Returns:\n",
        "    - loss_history: List of loss values over epochs.\n",
        "    \"\"\"\n",
        "    m = X_train.shape[0]\n",
        "    input_size = X_train.shape[1] * X_train.shape[2]\n",
        "    X_train_flat = X_train.reshape(m, input_size)\n",
        "\n",
        "    output_size = 10\n",
        "    parameters = initialize_parameters(input_size, hidden_size, output_size)\n",
        "\n",
        "    loss_history = []\n",
        "\n",
        "    for epoch in range(epochs):\n",
        "        A2, cache = forward_propagation(X_train_flat, parameters)\n",
        "\n",
        "        loss = compute_loss(y_train, A2)\n",
        "        loss_history.append(loss)\n",
        "\n",
        "        gradients = backward_propagation(X_train_flat, y_train, parameters, cache)\n",
        "\n",
        "        parameters = update_parameters_with_sgd(parameters, gradients, learning_rate=learning_rate)\n",
        "\n",
        "#        if (epoch + 1) % 10 == 0:\n",
        "#            print(f\"Epoch {epoch+1}/{epochs}, Loss: {loss:.4f}\")\n",
        "\n",
        "    return loss_history"
      ]
    },
    {
      "cell_type": "markdown",
      "metadata": {
        "id": "CeQpjFQHdD4v"
      },
      "source": [
        "3. Experiment with Different Learning Rates\n"
      ]
    },
    {
      "cell_type": "code",
      "execution_count": 84,
      "metadata": {
        "colab": {
          "base_uri": "https://localhost:8080/",
          "height": 728
        },
        "id": "FvFIXxFRdGDv",
        "outputId": "baee55b1-4124-4e53-a863-d2ff39b1a4f7"
      },
      "outputs": [
        {
          "output_type": "stream",
          "name": "stdout",
          "text": [
            "\n",
            "Training with learning rate: 0.001\n",
            "Epoch 0, Loss (learning rate 0.001): 0.7094\n",
            "Epoch 10, Loss (learning rate 0.001): 0.7926\n",
            "Epoch 20, Loss (learning rate 0.001): 0.8742\n",
            "Epoch 30, Loss (learning rate 0.001): 0.9553\n",
            "Epoch 40, Loss (learning rate 0.001): 1.0359\n",
            "\n",
            "Training with learning rate: 0.01\n",
            "Epoch 0, Loss (learning rate 0.01): 0.6956\n",
            "Epoch 10, Loss (learning rate 0.01): 1.5365\n",
            "Epoch 20, Loss (learning rate 0.01): 1.8702\n",
            "Epoch 30, Loss (learning rate 0.01): 1.9200\n",
            "Epoch 40, Loss (learning rate 0.01): 1.8796\n",
            "\n",
            "Training with learning rate: 0.1\n",
            "Epoch 0, Loss (learning rate 0.1): 0.9623\n",
            "Epoch 10, Loss (learning rate 0.1): 1.5007\n",
            "Epoch 20, Loss (learning rate 0.1): 1.1723\n",
            "Epoch 30, Loss (learning rate 0.1): 1.0270\n",
            "Epoch 40, Loss (learning rate 0.1): 0.9502\n"
          ]
        },
        {
          "output_type": "display_data",
          "data": {
            "text/plain": [
              "<Figure size 1000x500 with 1 Axes>"
            ],
            "image/png": "[encoded data removed]"
          },
          "metadata": {}
        }
      ],
      "source": [
        "def compare_learning_rates(X_train, y_train, hidden_size, epochs=50, learning_rates=[0.001, 0.01, 0.1]):\n",
        "    \"\"\"\n",
        "    Compare the performance of SGD with different learning rates.\n",
        "\n",
        "    Parameters:\n",
        "    - X_train: Training data.\n",
        "    - y_train: One-hot encoded labels.\n",
        "    - hidden_size: Number of neurons in the hidden layer.\n",
        "    - epochs: Number of training epochs.\n",
        "    - learning_rates: List of learning rates to test.\n",
        "    \"\"\"\n",
        "    plt.figure(figsize=(10, 5))\n",
        "\n",
        "    for lr in learning_rates:\n",
        "        print(f\"\\nTraining with learning rate: {lr}\")\n",
        "        loss_history = train_model_with_sgd(X_train, y_train, hidden_size=hidden_size,\n",
        "                                            epochs=epochs, learning_rate=lr)\n",
        "\n",
        "        for e in [0, 10, 20, 30, 40]:\n",
        "            if e < len(loss_history):\n",
        "                print(f\"Epoch {e}, Loss (learning rate {lr}): {loss_history[e]:.4f}\")\n",
        "\n",
        "        plt.plot(loss_history, label=f'Learning Rate: {lr}')\n",
        "\n",
        "    plt.title('Loss Comparison for Different Learning Rates (SGD)')\n",
        "    plt.xlabel('Epochs')\n",
        "    plt.ylabel('Loss')\n",
        "    plt.legend()\n",
        "    plt.grid(True)\n",
        "    plt.show()\n",
        "\n",
        "compare_learning_rates(x_train, y_train, hidden_size=64, epochs=50, learning_rates=[0.001, 0.01, 0.1])"
      ]
    },
    {
      "cell_type": "markdown",
      "metadata": {
        "id": "IXxuYU7llXP6"
      },
      "source": [
        "### SGD with Momentum vs. Classic SGD\n"
      ]
    },
    {
      "cell_type": "markdown",
      "metadata": {
        "id": "R8dcD51aepnC"
      },
      "source": [
        "TODO: Compare Stochastic Gradient Descent (SGD) with momentum and classic SGD, you can set up an experiment that trains the same model using both methods. This will help you observe differences in convergence speed and stability.\n",
        "\n",
        "Steps for Implementing the Comparison:\n",
        "\n",
        "1. Implement Classic SGD: Ensure you have a basic SGD implementation.(already implemented in the previous cells)\n",
        "\n",
        "2. Implement SGD with Momentum: Add a momentum version of the SGD optimizer.\n",
        "\n",
        "3. Modify the Training Loop: Allow for both optimizers in the training process.\n",
        "\n",
        "4. Train the Model: Run the training process using both optimizers.\n",
        "\n",
        "5. Visualize the Results: Plot the loss curves for each optimizer to compare their performance."
      ]
    },
    {
      "cell_type": "markdown",
      "metadata": {
        "id": "9-czqAXNe_nQ"
      },
      "source": [
        "2. Implement SGD with Momentum\n"
      ]
    },
    {
      "cell_type": "code",
      "execution_count": 82,
      "metadata": {
        "id": "8uzLkhWcfB6a"
      },
      "outputs": [],
      "source": [
        "def initialize_momentum(parameters):\n",
        "    \"\"\"\n",
        "    Initialize the momentum variables.\n",
        "\n",
        "    Parameters:\n",
        "    - parameters: Dictionary containing weights and biases.\n",
        "\n",
        "    Returns:\n",
        "    - v: Momentum variable (initialized to zeros).\n",
        "    \"\"\"\n",
        "    v = {}\n",
        "    for key in parameters.keys():\n",
        "        v[key] = np.zeros_like(parameters[key])\n",
        "    return v\n",
        "\n",
        "def update_parameters_with_momentum(parameters, gradients, v, learning_rate=0.01, beta=0.9):\n",
        "    \"\"\"\n",
        "    Update parameters using SGD with momentum.\n",
        "\n",
        "    Parameters:\n",
        "    - parameters: Current weights and biases.\n",
        "    - gradients: Calculated gradients.\n",
        "    - v: Momentum variable.\n",
        "    - learning_rate: Learning rate for updates.\n",
        "    - beta: Exponential decay rate for momentum.\n",
        "\n",
        "    Returns:\n",
        "    - parameters: Updated weights and biases.\n",
        "    - v: Updated momentum variable.\n",
        "    \"\"\"\n",
        "    for key in parameters.keys():\n",
        "        v[key] = beta * v[key] + (1 - beta) * gradients[\"d\" + key]\n",
        "        parameters[key] -= learning_rate * v[key]\n",
        "\n",
        "    return parameters, v"
      ]
    },
    {
      "cell_type": "markdown",
      "metadata": {
        "id": "k_DvOLijfIFK"
      },
      "source": [
        "3. Modify the Training Loop\n"
      ]
    },
    {
      "cell_type": "code",
      "execution_count": 83,
      "metadata": {
        "id": "uz3jxDtCfIuA"
      },
      "outputs": [],
      "source": [
        "def train_model(X_train, y_train, hidden_size, epochs=50, learning_rate=0.01, optimizer='sgd'):\n",
        "    \"\"\"\n",
        "    Train the neural network model using specified optimizer.\n",
        "\n",
        "    Parameters:\n",
        "    - X_train: Training data.\n",
        "    - y_train: One-hot encoded labels.\n",
        "    - hidden_size: Number of neurons in the hidden layer.\n",
        "    - epochs: Number of training epochs.\n",
        "    - learning_rate: Learning rate for optimization.\n",
        "    - optimizer: The optimizer to use ('sgd' or 'momentum').\n",
        "\n",
        "    Returns:\n",
        "    - loss_history: List of loss values over epochs.\n",
        "    \"\"\"\n",
        "\n",
        "    m = X_train.shape[0]\n",
        "    input_size = X_train.shape[1] * X_train.shape[2]\n",
        "    X_train_flat = X_train.reshape(m, input_size)\n",
        "\n",
        "    output_size = 10\n",
        "    parameters = initialize_parameters(input_size, hidden_size, output_size)\n",
        "\n",
        "    if optimizer == 'momentum':\n",
        "        v = initialize_momentum(parameters)\n",
        "    else:\n",
        "        v = None\n",
        "\n",
        "    loss_history = []\n",
        "\n",
        "    for epoch in range(epochs):\n",
        "        A2, cache = forward_propagation(X_train_flat, parameters)\n",
        "\n",
        "        loss = compute_loss(y_train, A2)\n",
        "        loss_history.append(loss)\n",
        "\n",
        "        gradients = backward_propagation(X_train_flat, y_train, parameters, cache)\n",
        "\n",
        "        if optimizer == 'sgd':\n",
        "            parameters = update_parameters_with_sgd(parameters, gradients, learning_rate=learning_rate)\n",
        "        elif optimizer == 'momentum':\n",
        "            parameters, v = update_parameters_with_momentum(parameters, gradients, v, learning_rate=learning_rate, beta=0.9)\n",
        "        else:\n",
        "            raise ValueError(\"Optimizer must be 'sgd' or 'momentum'.\")\n",
        "\n",
        "#        if (epoch + 1) % 10 == 0:\n",
        "#            print(f\"Epoch {epoch+1}, Loss: {loss:.4f}\")\n",
        "\n",
        "    return loss_history"
      ]
    },
    {
      "cell_type": "markdown",
      "metadata": {
        "id": "wVbv6XeYfLbf"
      },
      "source": [
        "4. Train the Model with Both Optimizers\n"
      ]
    },
    {
      "cell_type": "code",
      "execution_count": 73,
      "metadata": {
        "colab": {
          "base_uri": "https://localhost:8080/",
          "height": 593
        },
        "id": "0zEcNXJGfOTf",
        "outputId": "09672efd-bf1b-4527-8d4b-b3f62907f5cf"
      },
      "outputs": [
        {
          "output_type": "stream",
          "name": "stdout",
          "text": [
            "Training with Classic SGD...\n",
            "Epoch 0, Loss (sgd): 0.7779\n",
            "Epoch 10, Loss (sgd): 1.5362\n",
            "Epoch 20, Loss (sgd): 1.8294\n",
            "Epoch 30, Loss (sgd): 1.8565\n",
            "Epoch 40, Loss (sgd): 1.8036\n",
            "\n",
            "Training with SGD with Momentum...\n",
            "Epoch 0, Loss (momentum): 0.8777\n",
            "Epoch 10, Loss (momentum): 1.2383\n",
            "Epoch 20, Loss (momentum): 1.9930\n",
            "Epoch 30, Loss (momentum): 2.3985\n",
            "Epoch 40, Loss (momentum): 2.2808\n"
          ]
        },
        {
          "output_type": "display_data",
          "data": {
            "text/plain": [
              "<Figure size 1000x500 with 1 Axes>"
            ],
            "image/png": "[encoded data removed]"
          },
          "metadata": {}
        }
      ],
      "source": [
        "def compare_sgd_and_momentum(X_train, y_train, hidden_size, epochs=50):\n",
        "    \"\"\"\n",
        "    Compare the performance of classic SGD and SGD with momentum.\n",
        "\n",
        "    Parameters:\n",
        "    - X_train: Training data.\n",
        "    - y_train: One-hot encoded labels.\n",
        "    - hidden_size: Number of neurons in the hidden layer.\n",
        "    - epochs: Number of training epochs.\n",
        "    \"\"\"\n",
        "\n",
        "    print(\"Training with Classic SGD...\")\n",
        "    loss_sgd = train_model(X_train, y_train, hidden_size=hidden_size,\n",
        "                           epochs=epochs, learning_rate=0.01, optimizer='sgd')\n",
        "\n",
        "    for e in [0, 10, 20, 30, 40]:\n",
        "        if e < len(loss_sgd):\n",
        "            print(f\"Epoch {e}, Loss (sgd): {loss_sgd[e]:.4f}\")\n",
        "\n",
        "    print(\"\\nTraining with SGD with Momentum...\")\n",
        "    loss_momentum = train_model(X_train, y_train, hidden_size=hidden_size,\n",
        "                                epochs=epochs, learning_rate=0.01, optimizer='momentum')\n",
        "\n",
        "    for e in [0, 10, 20, 30, 40]:\n",
        "        if e < len(loss_momentum):\n",
        "            print(f\"Epoch {e}, Loss (momentum): {loss_momentum[e]:.4f}\")\n",
        "\n",
        "    plt.figure(figsize=(10, 5))\n",
        "    plt.plot(loss_sgd, label='Classic SGD Loss', color='blue')\n",
        "    plt.plot(loss_momentum, label='SGD with Momentum Loss', color='orange')\n",
        "    plt.title('Loss Comparison: Classic SGD vs. SGD with Momentum')\n",
        "    plt.xlabel('Epochs')\n",
        "    plt.ylabel('Loss')\n",
        "    plt.legend()\n",
        "    plt.grid(True)\n",
        "    plt.show()\n",
        "\n",
        "compare_sgd_and_momentum(x_train, y_train, 64)"
      ]
    },
    {
      "cell_type": "markdown",
      "metadata": {
        "id": "OhaXIjuClXP6"
      },
      "source": [
        "## Mini-Batch Gradient Descent"
      ]
    },
    {
      "cell_type": "markdown",
      "metadata": {
        "id": "wpBVHm6elXP6"
      },
      "source": [
        "### Mini-Batch Size Optimization"
      ]
    },
    {
      "cell_type": "markdown",
      "metadata": {
        "id": "rUDwKXOAgc2h"
      },
      "source": [
        "TODO: Investigate how different mini-batch sizes affect model performance, you can set up an experiment where you train the same model using various mini-batch sizes.\n",
        "\n",
        "Steps for Implementing the Mini-Batch Size Experiment\n",
        "\n",
        "1. Modify the Training Loop: Update the training loop to use mini-batches.\n",
        "2. Train the Model: Run the training process with a set of predefined mini-batch sizes.\n",
        "3. Evaluate Performance: Track training time and accuracy for each mini-batch size.\n",
        "4. Print the training losses and accuracies for comparison."
      ]
    },
    {
      "cell_type": "markdown",
      "metadata": {
        "id": "sz2dJu_PgvJH"
      },
      "source": [
        "1. Modify the Training Loop for Mini-Batches\n"
      ]
    },
    {
      "cell_type": "code",
      "execution_count": 87,
      "metadata": {
        "id": "2eBWqUKwgqqN"
      },
      "outputs": [],
      "source": [
        "def compute_accuracy(y_true, y_pred):\n",
        "    \"\"\"\n",
        "    Compute accuracy given one-hot encoded y_true and probabilities y_pred.\n",
        "    \"\"\"\n",
        "    y_true_class = np.argmax(y_true, axis=1)\n",
        "    y_pred_class = np.argmax(y_pred, axis=1)\n",
        "    accuracy = np.mean(y_true_class == y_pred_class)\n",
        "    return accuracy\n",
        "\n",
        "def train_model_with_mini_batches(X_train, y_train, hidden_size, epochs=50, learning_rate=0.01, batch_size=32):\n",
        "    \"\"\"\n",
        "    Train the neural network model using mini-batches.\n",
        "\n",
        "    Parameters:\n",
        "    - X_train: Training data.\n",
        "    - y_train: One-hot encoded labels.\n",
        "    - hidden_size: Number of neurons in the hidden layer.\n",
        "    - epochs: Number of training epochs.\n",
        "    - learning_rate: Learning rate for optimization.\n",
        "    - batch_size: Size of mini-batches.\n",
        "\n",
        "    Returns:\n",
        "    - loss_history: List of loss values over epochs.\n",
        "    - accuracy_history: List of accuracy values over epochs.\n",
        "    \"\"\"\n",
        "    m = X_train.shape[0]\n",
        "    input_size = X_train.shape[1] * X_train.shape[2]\n",
        "    X_train_flat = X_train.reshape(m, input_size)\n",
        "\n",
        "    output_size = 10\n",
        "    parameters = initialize_parameters(input_size, hidden_size, output_size)\n",
        "\n",
        "    loss_history = []\n",
        "    accuracy_history = []\n",
        "\n",
        "    for epoch in range(epochs):\n",
        "        permutation = np.random.permutation(m)\n",
        "        X_shuffled = X_train_flat[permutation]\n",
        "        y_shuffled = y_train[permutation]\n",
        "\n",
        "        epoch_loss = 0.0\n",
        "        epoch_acc = 0.0\n",
        "        num_batches = int(np.ceil(m / batch_size))\n",
        "\n",
        "        for i in range(num_batches):\n",
        "            start = i * batch_size\n",
        "            end = min(start + batch_size, m)\n",
        "            X_batch = X_shuffled[start:end]\n",
        "            y_batch = y_shuffled[start:end]\n",
        "\n",
        "            A2, cache = forward_propagation(X_batch, parameters)\n",
        "\n",
        "            batch_loss = compute_loss(y_batch, A2)\n",
        "            batch_acc = compute_accuracy(y_batch, A2)\n",
        "\n",
        "            gradients = backward_propagation(X_batch, y_batch, parameters, cache)\n",
        "\n",
        "            parameters = update_parameters_with_sgd(parameters, gradients, learning_rate=learning_rate)\n",
        "\n",
        "            epoch_loss += batch_loss\n",
        "            epoch_acc += batch_acc\n",
        "\n",
        "        epoch_loss /= num_batches\n",
        "        epoch_acc /= num_batches\n",
        "\n",
        "        loss_history.append(epoch_loss)\n",
        "        accuracy_history.append(epoch_acc)\n",
        "\n",
        "#        if (epoch + 1) % 10 == 0:\n",
        "#           print(f\"Epoch {epoch+1}/{epochs}, Loss: {epoch_loss:.4f}, Accuracy: {epoch_acc:.4f}\")\n",
        "\n",
        "    return loss_history, accuracy_history"
      ]
    },
    {
      "cell_type": "markdown",
      "metadata": {
        "id": "ja1aWHjwgwMl"
      },
      "source": [
        "2. Train the Model with Different Mini-Batch Sizes\n"
      ]
    },
    {
      "cell_type": "code",
      "execution_count": 88,
      "metadata": {
        "colab": {
          "base_uri": "https://localhost:8080/"
        },
        "id": "R7vvj-y_is_k",
        "outputId": "570edba1-f2e6-48e6-d8fe-d6c81953c46a"
      },
      "outputs": [
        {
          "output_type": "stream",
          "name": "stdout",
          "text": [
            "\n",
            "Training with mini-batch size: 16\n",
            "Epoch 0, Loss: 0.7260, Accuracy: 0.7528\n",
            "Epoch 10, Loss: 0.3632, Accuracy: 0.8790\n",
            "Epoch 20, Loss: 0.3143, Accuracy: 0.8930\n",
            "Epoch 30, Loss: 0.2850, Accuracy: 0.9024\n",
            "Epoch 40, Loss: 0.2633, Accuracy: 0.9102\n",
            "Final Loss for batch size 16: 0.2482\n",
            "Final Accuracy for batch size 16: 0.9174\n",
            "\n",
            "Training with mini-batch size: 32\n",
            "Epoch 0, Loss: 0.8389, Accuracy: 0.7171\n",
            "Epoch 10, Loss: 0.4153, Accuracy: 0.8636\n",
            "Epoch 20, Loss: 0.3600, Accuracy: 0.8792\n",
            "Epoch 30, Loss: 0.3277, Accuracy: 0.8900\n",
            "Epoch 40, Loss: 0.3051, Accuracy: 0.8976\n",
            "Final Loss for batch size 32: 0.2894\n",
            "Final Accuracy for batch size 32: 0.9024\n",
            "\n",
            "Training with mini-batch size: 64\n",
            "Epoch 0, Loss: 1.0212, Accuracy: 0.6411\n",
            "Epoch 10, Loss: 0.4720, Accuracy: 0.8467\n",
            "Epoch 20, Loss: 0.4188, Accuracy: 0.8630\n",
            "Epoch 30, Loss: 0.3864, Accuracy: 0.8720\n",
            "Epoch 40, Loss: 0.3621, Accuracy: 0.8790\n",
            "Final Loss for batch size 64: 0.3455\n",
            "Final Accuracy for batch size 64: 0.8846\n"
          ]
        }
      ],
      "source": [
        "def compare_mini_batch_sizes(X_train, y_train, hidden_size, epochs=50, batch_sizes=[16, 32, 64]):\n",
        "    \"\"\"\n",
        "    Compare the performance of different mini-batch sizes and print results.\n",
        "\n",
        "    Parameters:\n",
        "    - X_train: Training data.\n",
        "    - y_train: One-hot encoded labels.\n",
        "    - hidden_size: Number of neurons in the hidden layer.\n",
        "    - epochs: Number of training epochs.\n",
        "    - batch_sizes: List of mini-batch sizes to test.\n",
        "    \"\"\"\n",
        "\n",
        "    selected_epochs = [0, 10, 20, 30, 40]\n",
        "\n",
        "    for bs in batch_sizes:\n",
        "        print(f\"\\nTraining with mini-batch size: {bs}\")\n",
        "        loss_history, accuracy_history = train_model_with_mini_batches(\n",
        "            X_train, y_train, hidden_size=hidden_size, epochs=epochs, learning_rate=0.01, batch_size=bs\n",
        "        )\n",
        "\n",
        "        for e in selected_epochs:\n",
        "            if e < len(loss_history):\n",
        "                print(f\"Epoch {e}, Loss: {loss_history[e]:.4f}, Accuracy: {accuracy_history[e]:.4f}\")\n",
        "\n",
        "        final_loss = loss_history[-1]\n",
        "        final_accuracy = accuracy_history[-1]\n",
        "        print(f\"Final Loss for batch size {bs}: {final_loss:.4f}\")\n",
        "        print(f\"Final Accuracy for batch size {bs}: {final_accuracy:.4f}\")\n",
        "\n",
        "compare_mini_batch_sizes(x_train, y_train, 64)"
      ]
    },
    {
      "cell_type": "markdown",
      "metadata": {
        "id": "wb3WXFgMlXP7"
      },
      "source": [
        "### Mini-Batch vs. Full-Batch Gradient Descent\n"
      ]
    },
    {
      "cell_type": "markdown",
      "metadata": {
        "id": "vVvy9f6PlPCS"
      },
      "source": [
        "TODO: Compare the efficiency and performance of mini-batch gradient descent against full-batch gradient descent.\n",
        "\n",
        "1. Implement Full-Batch Gradient Descent: Ensure you have a full-batch gradient descent implementation.\n",
        "\n",
        "2. Modify the Training Loop: Allow the training loop to handle both mini-batch and full-batch scenarios.\n",
        "\n",
        "3. Train the Model: Run the training process using both methods and track their performance.\n",
        "\n",
        "4. Print Results: Display the final loss and accuracy for both methods along with training times."
      ]
    },
    {
      "cell_type": "code",
      "execution_count": 90,
      "metadata": {
        "id": "tlTYBB2tlgBG"
      },
      "outputs": [],
      "source": [
        "def train_model_full_batch(X_train, y_train, hidden_size, epochs=50, learning_rate=0.01):\n",
        "    \"\"\"\n",
        "    Train the neural network model using full-batch gradient descent.\n",
        "\n",
        "    Parameters:\n",
        "    - X_train: Training data.\n",
        "    - y_train: One-hot encoded labels.\n",
        "    - hidden_size: Number of neurons in the hidden layer.\n",
        "    - epochs: Number of training epochs.\n",
        "    - learning_rate: Learning rate for optimization.\n",
        "\n",
        "    Returns:\n",
        "    - loss_history: List of loss values over epochs.\n",
        "    - accuracy_history: List of accuracy values over epochs.\n",
        "    \"\"\"\n",
        "    m = X_train.shape[0]\n",
        "    input_size = X_train.shape[1] * X_train.shape[2]\n",
        "    X_train_flat = X_train.reshape(m, input_size)\n",
        "\n",
        "    output_size = 10\n",
        "    parameters = initialize_parameters(input_size, hidden_size, output_size)\n",
        "\n",
        "    loss_history = []\n",
        "    accuracy_history = []\n",
        "\n",
        "    for epoch in range(epochs):\n",
        "        A2, cache = forward_propagation(X_train_flat, parameters)\n",
        "\n",
        "        loss = compute_loss(y_train, A2)\n",
        "        acc = compute_accuracy(y_train, A2)\n",
        "\n",
        "        loss_history.append(loss)\n",
        "        accuracy_history.append(acc)\n",
        "\n",
        "        gradients = backward_propagation(X_train_flat, y_train, parameters, cache)\n",
        "\n",
        "        parameters = update_parameters_with_sgd(parameters, gradients, learning_rate=learning_rate)\n",
        "\n",
        "        if (epoch + 1) % 10 == 0:\n",
        "            print(f\"Epoch {epoch+1}/{epochs}, Loss: {loss:.4f}, Accuracy: {acc:.4f}\")\n",
        "\n",
        "    return loss_history, accuracy_history"
      ]
    },
    {
      "cell_type": "code",
      "execution_count": 92,
      "metadata": {
        "colab": {
          "base_uri": "https://localhost:8080/"
        },
        "id": "YIb4-9eGllGi",
        "outputId": "e6b72984-1cb4-41f3-ee10-212be38e79aa"
      },
      "outputs": [
        {
          "output_type": "stream",
          "name": "stdout",
          "text": [
            "Training with Mini-Batch Gradient Descent...\n",
            "Epoch 0, Loss: 0.8723, Accuracy: 0.7040\n",
            "Epoch 10, Loss: 0.4142, Accuracy: 0.8618\n",
            "Epoch 20, Loss: 0.3619, Accuracy: 0.8792\n",
            "Epoch 30, Loss: 0.3314, Accuracy: 0.8901\n",
            "Epoch 40, Loss: 0.3097, Accuracy: 0.8956\n",
            "\n",
            "Training with Full-Batch Gradient Descent...\n",
            "Epoch 10/50, Loss: 1.7569, Accuracy: 0.1242\n",
            "Epoch 20/50, Loss: 1.9677, Accuracy: 0.2077\n",
            "Epoch 30/50, Loss: 1.9684, Accuracy: 0.2743\n",
            "Epoch 40/50, Loss: 1.9119, Accuracy: 0.3388\n",
            "Epoch 50/50, Loss: 1.8421, Accuracy: 0.3950\n",
            "Epoch 0, Loss (Full-Batch): 1.0681, Accuracy: 0.0537\n",
            "Epoch 10, Loss (Full-Batch): 1.7967, Accuracy: 0.1336\n",
            "Epoch 20, Loss (Full-Batch): 1.9732, Accuracy: 0.2145\n",
            "Epoch 30, Loss (Full-Batch): 1.9642, Accuracy: 0.2817\n",
            "Epoch 40, Loss (Full-Batch): 1.9052, Accuracy: 0.3448\n",
            "\n",
            "Mini-Batch Final Loss: 0.2939, Final Accuracy: 0.9006, Time: 115.58 seconds\n",
            "Full-Batch Final Loss: 1.8421, Final Accuracy: 0.3950, Time: 40.78 seconds\n"
          ]
        }
      ],
      "source": [
        "import time\n",
        "\n",
        "def compare_mini_batch_and_full_batch(X_train, y_train, hidden_size, epochs=50, batch_size=32):\n",
        "    \"\"\"\n",
        "    Compare the performance of mini-batch gradient descent against full-batch gradient descent.\n",
        "\n",
        "    Parameters:\n",
        "    - X_train: Training data.\n",
        "    - y_train: One-hot encoded labels.\n",
        "    - hidden_size: Number of neurons in the hidden layer.\n",
        "    - epochs: Number of training epochs.\n",
        "    - batch_size: Size of mini-batches for mini-batch gradient descent.\n",
        "    \"\"\"\n",
        "\n",
        "    selected_epochs = [0, 10, 20, 30, 40]\n",
        "\n",
        "    print(\"Training with Mini-Batch Gradient Descent...\")\n",
        "    start_time = time.time()\n",
        "    mini_loss_history, mini_accuracy_history = train_model_with_mini_batches(\n",
        "        X_train, y_train, hidden_size=hidden_size, epochs=epochs, learning_rate=0.01, batch_size=batch_size\n",
        "    )\n",
        "    mini_time = time.time() - start_time\n",
        "\n",
        "    for e in selected_epochs:\n",
        "        if e < len(mini_loss_history):\n",
        "            print(f\"Epoch {e}, Loss: {mini_loss_history[e]:.4f}, Accuracy: {mini_accuracy_history[e]:.4f}\")\n",
        "\n",
        "    mini_final_loss = mini_loss_history[-1]\n",
        "    mini_final_acc = mini_accuracy_history[-1]\n",
        "\n",
        "    print(\"\\nTraining with Full-Batch Gradient Descent...\")\n",
        "    start_time = time.time()\n",
        "    full_loss_history, full_accuracy_history = train_model_full_batch(\n",
        "        X_train, y_train, hidden_size=hidden_size, epochs=epochs, learning_rate=0.01\n",
        "    )\n",
        "    full_time = time.time() - start_time\n",
        "\n",
        "    for e in selected_epochs:\n",
        "        if e < len(full_loss_history):\n",
        "            print(f\"Epoch {e}, Loss (Full-Batch): {full_loss_history[e]:.4f}, Accuracy: {full_accuracy_history[e]:.4f}\")\n",
        "\n",
        "    full_final_loss = full_loss_history[-1]\n",
        "    full_final_acc = full_accuracy_history[-1]\n",
        "\n",
        "    print(f\"\\nMini-Batch Final Loss: {mini_final_loss:.4f}, Final Accuracy: {mini_final_acc:.4f}, Time: {mini_time:.2f} seconds\")\n",
        "    print(f\"Full-Batch Final Loss: {full_final_loss:.4f}, Final Accuracy: {full_final_acc:.4f}, Time: {full_time:.2f} seconds\")\n",
        "\n",
        "\n",
        "compare_mini_batch_and_full_batch(x_train, y_train, 64)"
      ]
    }
  ],
  "metadata": {
    "colab": {
      "provenance": []
    },
    "kernelspec": {
      "display_name": "Python 3",
      "name": "python3"
    },
    "language_info": {
      "codemirror_mode": {
        "name": "ipython",
        "version": 3
      },
      "file_extension": ".py",
      "mimetype": "text/x-python",
      "name": "python",
      "nbconvert_exporter": "python",
      "pygments_lexer": "ipython3",
      "version": "3.10.5"
    }
  },
  "nbformat": 4,
  "nbformat_minor": 0
}