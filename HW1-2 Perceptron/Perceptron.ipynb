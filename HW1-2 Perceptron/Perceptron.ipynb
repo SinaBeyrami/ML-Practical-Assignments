{
  "cells": [
    {
      "cell_type": "markdown",
      "metadata": {
        "id": "y09iFsmx2Vcw"
      },
      "source": [
        "<img src='./pic/sharif-main-logo.png' alt=\"SUT logo\" width=300 height=300 align=left class=\"saturate\" > <br>\n",
        "\n",
        "<div dir=ltr align=center>\n",
        "<font color=0F5298 size=7>\n",
        "    یادگیری ماشین <br>\n",
        "<font color=2565AE size=5>\n",
        "    دانشکده مهندسی کامپیوتر <br>\n",
        "    پاییز ۱۴۰۳ <br>\n",
        "<font color=3C99D size=5>\n",
        "   تمرین عملی اول - یادگیری نظارت شده <br>\n",
        "<font color=696880 size=4>\n",
        "    عرفان سلیما - سارینا حشمتی - نیکان واسعی - فاطمه شیری"
      ]
    },
    {
      "cell_type": "markdown",
      "metadata": {
        "id": "tBivAgmrttEt"
      },
      "source": [
        "<div dir=rtl>\n",
        "<font size=6>\n",
        "اطلاعات دانشجو"
      ]
    },
    {
      "cell_type": "code",
      "execution_count": 8,
      "metadata": {
        "id": "lVr0RhuIttEu"
      },
      "outputs": [],
      "source": [
        "student_number = '400105433'\n",
        "Name = 'Sina'\n",
        "Last_Name = 'Beyrami'"
      ]
    },
    {
      "cell_type": "markdown",
      "metadata": {
        "id": "e49XFJGXttEv"
      },
      "source": [
        "<div dir=rtl>\n",
        "<font size=6>\n",
        "نحوه پیاده سازی"
      ]
    },
    {
      "cell_type": "markdown",
      "metadata": {
        "id": "lCUAtWN522T4"
      },
      "source": [
        "<div dir=rtl>\n",
        "<font size=4>\n",
        " با استفاده از تابع make_blobs از کتابخانه sklearn به کمک قطعه کد\n",
        "زیر، مجموعه داده ای بسازید که به صورت خطی\n",
        "جدایی پذیر باشد. هر ستون از ماتریس X شامل ویژگی های یک نمونه داده است."
      ]
    },
    {
      "cell_type": "code",
      "execution_count": 9,
      "metadata": {
        "id": "sbBYk18H2TVg"
      },
      "outputs": [],
      "source": [
        "import numpy as np\n",
        "import matplotlib.pyplot as plt\n",
        "from sklearn.datasets import make_blobs\n",
        "X, y = make_blobs(n_samples=100, n_features=10, centers=2, random_state=41)\n",
        "y = np.where(y == 0, -1, 1)\n",
        "#print(X)\n",
        "#print(y)"
      ]
    },
    {
      "cell_type": "markdown",
      "metadata": {
        "id": "SFi-rRwJ3E3-"
      },
      "source": [
        "<div dir=rtl>\n",
        "<font size=4>\n",
        " ابتدا کلاسی به نام F در نظر بگیرید و یکی از متد های آن را به نام sign پیاده سازی کنید. متدهای این کلاس متعلق به کلاس\n",
        "هستند و باید به صورت static تعریف شوند. در حقیقت این کلاس مسئول نگهداری توابع کاربردی برای انجام محاسبات\n",
        "است که در اینجا ما فقط میخواهیم sign را تعریف کنیم."
      ]
    },
    {
      "cell_type": "code",
      "execution_count": 10,
      "metadata": {
        "id": "ta3SQGNJ3OeO"
      },
      "outputs": [],
      "source": [
        "class F:\n",
        "  @staticmethod\n",
        "  def sign(x):\n",
        "    # Implement the sign activation function\n",
        "    if (x >= 0):\n",
        "      return 1\n",
        "    return -1"
      ]
    },
    {
      "cell_type": "markdown",
      "metadata": {
        "id": "prCJVzUh3Wd5"
      },
      "source": [
        "<div dir=rtl>\n",
        "<font size=4>\n",
        " کلاس Perceptron را مانند تکه کد زیر در نظر بگیرید. این موجودیت تنها وظیفه نگهداری وزن های پرسپترون ما و محاسبه\n",
        "y براساس ورودی ما یعنی X را دارد. برای مقدار دهی اولیه وزن ها و بایاس میتوانید از کتابخانه numpy استفاده کنید."
      ]
    },
    {
      "cell_type": "code",
      "execution_count": 11,
      "metadata": {
        "id": "FRApiOaV3khr"
      },
      "outputs": [],
      "source": [
        "class Perceptron:\n",
        "  def __init__(self, input_size):\n",
        "    # Initialize the weights and biases of the new model\n",
        "    self.weights = np.ones(input_size)\n",
        "    self.bias = 0\n",
        "\n",
        "  def forward(self, input):\n",
        "    # Feed input features to your model and return output\n",
        "    weighted_sum = np.dot(self.weights, input) + self.bias\n",
        "    output = F.sign(weighted_sum)\n",
        "\n",
        "    return output"
      ]
    },
    {
      "cell_type": "markdown",
      "metadata": {
        "id": "WF8lQoZA3pgt"
      },
      "source": [
        "<div dir=rtl>\n",
        "<font size=4>\n",
        "حال کلاس Optimizer را مطابق قطعه کد زیر پیاده سازی کنید. این کلاس وظیفه این را دارد که مدل ما را بهینه کند. بدین\n",
        "معنی که در هر مرحله از یادگیری سعی کند وزن ها را در جهتی بروزرسانی کند که در نهایت ما هیچ خطایی نداشته باشیم (با\n",
        "فرض خطی جدایی پذیر بودن داده ها)"
      ]
    },
    {
      "cell_type": "code",
      "execution_count": 12,
      "metadata": {
        "id": "ksQEHkz54HeO"
      },
      "outputs": [],
      "source": [
        "class Optimizer:\n",
        "  def __init__(self, model):\n",
        "    self.model = model\n",
        "\n",
        "  def update(self, x, y, y_hat):\n",
        "    # Update weight and bias of the model\n",
        "    if (y!=y_hat):\n",
        "      self.model.weights += y*x\n",
        "      self.model.bias += y"
      ]
    },
    {
      "cell_type": "markdown",
      "metadata": {
        "id": "lHKc8Rpc4KT2"
      },
      "source": [
        "<div dir=rtl>\n",
        "<font size=4>\n",
        "با توجه به تعداد ویژگی های داده های موجود، یک شی Perceptron بسازید (این پارامتر باید با تعداد ویژگی های قسمت\n",
        "اول یکسان باشد) در مرحله بعدی به Optimizer اجازه دهید تا به مدل شما دسترسی داشته باشد تا بتواند آن را بهینه کند."
      ]
    },
    {
      "cell_type": "markdown",
      "metadata": {
        "id": "FAwckbDH4TIa"
      },
      "source": [
        "<div dir=rtl>\n",
        "<font size=4>\n",
        "در این قسمت شما باید با پیاده سازی فرآیندی مناسب با استفاده از instance های Optimizer و Perceptron وضعیت\n",
        "مدل را بهبود بدهید تا به ابر صفحه جدا کننده نزدیک تر شود."
      ]
    },
    {
      "cell_type": "code",
      "execution_count": 13,
      "metadata": {
        "id": "vlvPXwMm4QTI"
      },
      "outputs": [],
      "source": [
        "input_size = X.shape[1]\n",
        "\n",
        "perceptron = Perceptron(input_size)\n",
        "\n",
        "optimizer = Optimizer(perceptron)\n",
        "\n",
        "n_iter = 1000\n",
        "\n",
        "for _ in range(n_iter):\n",
        "  for x, y_true in zip(X, y):\n",
        "    # Complete Code\n",
        "\n",
        "    y_pred = perceptron.forward(x)\n",
        "    optimizer.update(x, y_true, y_pred)"
      ]
    },
    {
      "cell_type": "markdown",
      "metadata": {
        "id": "bg5D9ooD4c-_"
      },
      "source": [
        "<div dir=rtl>\n",
        "<font size=4>\n",
        "به ازای n_features برابر ۲ نقاط مجموعه داده ی خود و خط حاصل از Perceptron خود را به کمک کتابخانه Ⅿatpⅼotⅼib\n",
        "در فضای ۲ بعدی نمایش دهید."
      ]
    },
    {
      "cell_type": "code",
      "execution_count": 14,
      "metadata": {
        "colab": {
          "base_uri": "https://localhost:8080/",
          "height": 671
        },
        "id": "kMcANJdIttEy",
        "outputId": "1bfa166d-daa0-4f55-ed6c-bbc6e56f50b9"
      },
      "outputs": [
        {
          "output_type": "display_data",
          "data": {
            "text/plain": [
              "<Figure size 800x600 with 1 Axes>"
            ],
            "image/png": "[encoded data removed]"
          },
          "metadata": {}
        },
        {
          "output_type": "stream",
          "name": "stdout",
          "text": [
            "\n",
            "\n",
            "Weights are:\n",
            "[10.06282511 -0.81567657]\n",
            "Bias is:\n",
            "0\n"
          ]
        }
      ],
      "source": [
        "X2, y2 = make_blobs(n_samples=100, n_features=2, centers=2, random_state=41)\n",
        "y2 = np.where(y2 == 0, -1, 1)\n",
        "\n",
        "input_size = X2.shape[1]\n",
        "perceptron2 = Perceptron(input_size)\n",
        "optimizer2 = Optimizer(perceptron2)\n",
        "\n",
        "n_iter = 1000\n",
        "\n",
        "for _ in range(n_iter):\n",
        "  for x, y_true in zip(X2, y2):\n",
        "    y_pred = perceptron2.forward(x)\n",
        "    optimizer2.update(x, y_true, y_pred)\n",
        "\n",
        "plt.figure(figsize=(8, 6))\n",
        "\n",
        "plt.scatter(X2[y2 == -1][:, 0], X2[y2 == -1][:, 1], color='blue', label='Class 0')\n",
        "plt.scatter(X2[y2 == 1][:, 0], X2[y2 == 1][:, 1], color='red', label='Class 1')\n",
        "\n",
        "w = perceptron2.weights\n",
        "b = perceptron2.bias\n",
        "\n",
        "x1_vals = np.linspace(X2[:, 0].min(), X2[:, 0].max(), 100)\n",
        "x2_vals = -(w[0] / w[1]) * x1_vals - (b / w[1])\n",
        "\n",
        "plt.plot(x1_vals, x2_vals, color='green', label='Decision Boundary')\n",
        "\n",
        "plt.xlabel('Feature 1')\n",
        "plt.ylabel('Feature 2')\n",
        "plt.title('Perceptron Decision Boundary and Data Points')\n",
        "plt.legend()\n",
        "plt.grid(True)\n",
        "plt.show()\n",
        "\n",
        "print(f\"\\n\\nWeights are:\\n{w}\")\n",
        "print(f\"Bias is:\\n{b}\")"
      ]
    }
  ],
  "metadata": {
    "colab": {
      "provenance": []
    },
    "kernelspec": {
      "display_name": "Python 3 (ipykernel)",
      "language": "python",
      "name": "python3"
    },
    "language_info": {
      "codemirror_mode": {
        "name": "ipython",
        "version": 3
      },
      "file_extension": ".py",
      "mimetype": "text/x-python",
      "name": "python",
      "nbconvert_exporter": "python",
      "pygments_lexer": "ipython3",
      "version": "3.11.3"
    }
  },
  "nbformat": 4,
  "nbformat_minor": 0
}